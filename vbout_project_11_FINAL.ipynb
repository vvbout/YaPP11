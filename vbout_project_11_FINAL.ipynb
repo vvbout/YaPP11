{
 "cells": [
  {
   "cell_type": "markdown",
   "metadata": {},
   "source": [
    "# ПРОГНОЗИРОВАНИЕ ВЕРОЯТНОСТИ ОТТОКА ПОЛЬЗОВАТЕЛЕЙ ДЛЯ ФИТНЕС - ЦЕНТРОВ\n",
    "\n",
    "**Задача проекта** на основании предоставленных данных:\n",
    "* **файл /datasets/gym_churn.csv**\n",
    "* **Churn** — факт оттока в текущем месяце\n",
    "\n",
    "Данные клиента за предыдущий до проверки факта оттока месяц:\n",
    "* **gender** — пол\n",
    "* **Near_Location** — проживание или работа в районе, где находится фитнес-центр\n",
    "* **Partner** — сотрудник компании-партнёра клуба\n",
    "* **Promo_friends** — факт первоначальной записи в рамках акции «приведи друга»\n",
    "* **Phone** — наличие контактного телефона\n",
    "* **Age** — возраст\n",
    "* **Lifetime** — время с момента первого обращения в фитнес-центр (в месяцах)\n",
    "\n",
    "Информация на основе журнала посещений, покупок и информация о текущем статусе абонемента клиента:\n",
    "* **Contract_period** — длительность текущего действующего абонемента (месяц, 3 месяца, 6 месяцев, год)\n",
    "* **Month_to_end_contract** — срок до окончания текущего действующего абонемента (в месяцах)\n",
    "* **Group_visits** — факт посещения групповых занятий\n",
    "* **Avg_class_frequency_total** — средняя частота посещений в неделю за все время с начала действия абонемента\n",
    "* **Avg_class_frequency_current_month** — средняя частота посещений в неделю за предыдущий месяц\n",
    "* **Avg_additional_charges_total** — суммарная выручка от других услуг фитнес-центра: кафе, спорт-товары, косметический и массажный салон\n",
    "\n",
    "1. **составить** ПРОГНОЗ вероятности оттока (на уровне следующего месяца) для каждого клиента\n",
    "2. **сформировать** типичные ПОРТРЕТЫ клиентов: выделить несколько наиболее ярких групп и охарактеризовать их основные свойства\n",
    "3. **проанализировать** основные ПРИЗНАКИ, наиболее сильно влияющие на отток\n",
    "4. **сформулировать** основные ВЫВОДЫ и **разработать** РЕКОМЕНДАЦИИ по повышению качества работы с клиентами:\n",
    "* выделить целевые группы клиентов\n",
    "* предложить меры по снижению оттока\n",
    "* определить другие особенности взаимодействия с клиентами"
   ]
  },
  {
   "cell_type": "markdown",
   "metadata": {},
   "source": [
    "## Загрузка и подотовка данных\n",
    "\n",
    "**Задача:**\n",
    "* оценить размер датасета\n",
    "* оценить наличие пропусков\n",
    "* оценить типы данных\n",
    "* оценить наличие аномалий"
   ]
  },
  {
   "cell_type": "code",
   "execution_count": 1,
   "metadata": {},
   "outputs": [],
   "source": [
    "# загружаем библиотеки,\n",
    "# подготавливаем рабочее пространство\n",
    "\n",
    "import pandas as pd\n",
    "import numpy as np\n",
    "import seaborn as sns\n",
    "import matplotlib.pyplot as plt\n",
    "\n",
    "from sklearn.preprocessing import StandardScaler\n",
    "from sklearn.model_selection import train_test_split\n",
    "\n",
    "from sklearn.linear_model import LogisticRegression\n",
    "from sklearn.ensemble import RandomForestClassifier\n",
    "from sklearn.cluster import KMeans\n",
    "\n",
    "from sklearn.metrics import accuracy_score, precision_score, recall_score\n",
    "from scipy.cluster.hierarchy import dendrogram, linkage\n",
    "\n",
    "pd.set_option('display.max_columns', None)\n",
    "pd.set_option('max_colwidth', 110)"
   ]
  },
  {
   "cell_type": "code",
   "execution_count": 2,
   "metadata": {},
   "outputs": [
    {
     "name": "stdout",
     "output_type": "stream",
     "text": [
      "<class 'pandas.core.frame.DataFrame'>\n",
      "RangeIndex: 4000 entries, 0 to 3999\n",
      "Data columns (total 14 columns):\n",
      "gender                               4000 non-null int64\n",
      "Near_Location                        4000 non-null int64\n",
      "Partner                              4000 non-null int64\n",
      "Promo_friends                        4000 non-null int64\n",
      "Phone                                4000 non-null int64\n",
      "Contract_period                      4000 non-null int64\n",
      "Group_visits                         4000 non-null int64\n",
      "Age                                  4000 non-null int64\n",
      "Avg_additional_charges_total         4000 non-null float64\n",
      "Month_to_end_contract                4000 non-null float64\n",
      "Lifetime                             4000 non-null int64\n",
      "Avg_class_frequency_total            4000 non-null float64\n",
      "Avg_class_frequency_current_month    4000 non-null float64\n",
      "Churn                                4000 non-null int64\n",
      "dtypes: float64(4), int64(10)\n",
      "memory usage: 437.6 KB\n"
     ]
    }
   ],
   "source": [
    "# загружаем данные,\n",
    "# выводим первичную информацию о данных\n",
    "\n",
    "data = pd.read_csv('/datasets/gym_churn.csv')\n",
    "data.info()"
   ]
  },
  {
   "cell_type": "code",
   "execution_count": 3,
   "metadata": {},
   "outputs": [
    {
     "data": {
      "text/html": [
       "<div>\n",
       "<style scoped>\n",
       "    .dataframe tbody tr th:only-of-type {\n",
       "        vertical-align: middle;\n",
       "    }\n",
       "\n",
       "    .dataframe tbody tr th {\n",
       "        vertical-align: top;\n",
       "    }\n",
       "\n",
       "    .dataframe thead th {\n",
       "        text-align: right;\n",
       "    }\n",
       "</style>\n",
       "<table border=\"1\" class=\"dataframe\">\n",
       "  <thead>\n",
       "    <tr style=\"text-align: right;\">\n",
       "      <th></th>\n",
       "      <th>gender</th>\n",
       "      <th>Near_Location</th>\n",
       "      <th>Partner</th>\n",
       "      <th>Promo_friends</th>\n",
       "      <th>Phone</th>\n",
       "      <th>Contract_period</th>\n",
       "      <th>Group_visits</th>\n",
       "      <th>Age</th>\n",
       "      <th>Avg_additional_charges_total</th>\n",
       "      <th>Month_to_end_contract</th>\n",
       "      <th>Lifetime</th>\n",
       "      <th>Avg_class_frequency_total</th>\n",
       "      <th>Avg_class_frequency_current_month</th>\n",
       "      <th>Churn</th>\n",
       "    </tr>\n",
       "  </thead>\n",
       "  <tbody>\n",
       "    <tr>\n",
       "      <td>3624</td>\n",
       "      <td>0</td>\n",
       "      <td>1</td>\n",
       "      <td>1</td>\n",
       "      <td>1</td>\n",
       "      <td>1</td>\n",
       "      <td>6</td>\n",
       "      <td>0</td>\n",
       "      <td>26</td>\n",
       "      <td>145.146109</td>\n",
       "      <td>6.0</td>\n",
       "      <td>0</td>\n",
       "      <td>1.532891</td>\n",
       "      <td>0.696627</td>\n",
       "      <td>1</td>\n",
       "    </tr>\n",
       "    <tr>\n",
       "      <td>505</td>\n",
       "      <td>0</td>\n",
       "      <td>0</td>\n",
       "      <td>1</td>\n",
       "      <td>0</td>\n",
       "      <td>1</td>\n",
       "      <td>1</td>\n",
       "      <td>0</td>\n",
       "      <td>31</td>\n",
       "      <td>89.537062</td>\n",
       "      <td>1.0</td>\n",
       "      <td>7</td>\n",
       "      <td>1.626797</td>\n",
       "      <td>1.572631</td>\n",
       "      <td>0</td>\n",
       "    </tr>\n",
       "    <tr>\n",
       "      <td>1445</td>\n",
       "      <td>0</td>\n",
       "      <td>1</td>\n",
       "      <td>1</td>\n",
       "      <td>1</td>\n",
       "      <td>1</td>\n",
       "      <td>6</td>\n",
       "      <td>1</td>\n",
       "      <td>32</td>\n",
       "      <td>48.696958</td>\n",
       "      <td>3.0</td>\n",
       "      <td>4</td>\n",
       "      <td>1.231661</td>\n",
       "      <td>1.364138</td>\n",
       "      <td>0</td>\n",
       "    </tr>\n",
       "    <tr>\n",
       "      <td>2128</td>\n",
       "      <td>0</td>\n",
       "      <td>1</td>\n",
       "      <td>1</td>\n",
       "      <td>1</td>\n",
       "      <td>1</td>\n",
       "      <td>6</td>\n",
       "      <td>1</td>\n",
       "      <td>31</td>\n",
       "      <td>255.117543</td>\n",
       "      <td>6.0</td>\n",
       "      <td>3</td>\n",
       "      <td>2.687575</td>\n",
       "      <td>2.638183</td>\n",
       "      <td>0</td>\n",
       "    </tr>\n",
       "    <tr>\n",
       "      <td>1614</td>\n",
       "      <td>1</td>\n",
       "      <td>1</td>\n",
       "      <td>1</td>\n",
       "      <td>1</td>\n",
       "      <td>1</td>\n",
       "      <td>12</td>\n",
       "      <td>0</td>\n",
       "      <td>30</td>\n",
       "      <td>48.160030</td>\n",
       "      <td>10.0</td>\n",
       "      <td>3</td>\n",
       "      <td>2.919274</td>\n",
       "      <td>2.823736</td>\n",
       "      <td>0</td>\n",
       "    </tr>\n",
       "  </tbody>\n",
       "</table>\n",
       "</div>"
      ],
      "text/plain": [
       "      gender  Near_Location  Partner  Promo_friends  Phone  Contract_period  \\\n",
       "3624       0              1        1              1      1                6   \n",
       "505        0              0        1              0      1                1   \n",
       "1445       0              1        1              1      1                6   \n",
       "2128       0              1        1              1      1                6   \n",
       "1614       1              1        1              1      1               12   \n",
       "\n",
       "      Group_visits  Age  Avg_additional_charges_total  Month_to_end_contract  \\\n",
       "3624             0   26                    145.146109                    6.0   \n",
       "505              0   31                     89.537062                    1.0   \n",
       "1445             1   32                     48.696958                    3.0   \n",
       "2128             1   31                    255.117543                    6.0   \n",
       "1614             0   30                     48.160030                   10.0   \n",
       "\n",
       "      Lifetime  Avg_class_frequency_total  Avg_class_frequency_current_month  \\\n",
       "3624         0                   1.532891                           0.696627   \n",
       "505          7                   1.626797                           1.572631   \n",
       "1445         4                   1.231661                           1.364138   \n",
       "2128         3                   2.687575                           2.638183   \n",
       "1614         3                   2.919274                           2.823736   \n",
       "\n",
       "      Churn  \n",
       "3624      1  \n",
       "505       0  \n",
       "1445      0  \n",
       "2128      0  \n",
       "1614      0  "
      ]
     },
     "metadata": {},
     "output_type": "display_data"
    }
   ],
   "source": [
    "# выводим случайные 5 строк таблицы\n",
    "\n",
    "display(data.sample(5))"
   ]
  },
  {
   "cell_type": "code",
   "execution_count": 4,
   "metadata": {},
   "outputs": [
    {
     "name": "stdout",
     "output_type": "stream",
     "text": [
      "Index(['gender', 'near_location', 'partner', 'promo_friends', 'phone',\n",
      "       'contract_period', 'group_visits', 'age',\n",
      "       'avg_additional_charges_total', 'month_to_end_contract', 'lifetime',\n",
      "       'avg_class_frequency_total', 'avg_class_frequency_current_month',\n",
      "       'churn'],\n",
      "      dtype='object')\n"
     ]
    }
   ],
   "source": [
    "# приводим названия столбцов к нижнему регистру\n",
    "\n",
    "data.columns = map(str.lower, data.columns) \n",
    "print(data.columns)"
   ]
  },
  {
   "cell_type": "code",
   "execution_count": 5,
   "metadata": {},
   "outputs": [
    {
     "name": "stdout",
     "output_type": "stream",
     "text": [
      "0 1\n",
      "0 1\n",
      "0 1\n",
      "0 1\n",
      "0 1\n",
      "1 12\n",
      "0 1\n",
      "18 41\n",
      "0.1482047884566242 552.5907403868798\n",
      "1.0 12.0\n",
      "0 31\n",
      "0.0 6.02366847599591\n",
      "0.0 6.146782880452392\n",
      "0 1\n"
     ]
    }
   ],
   "source": [
    "# проверяем минимальные и максимальные значения в столбцах\n",
    "\n",
    "columns = data.columns\n",
    "features = ['gender', 'near_location', 'partner', 'promo_friends', 'phone',\n",
    "       'contract_period', 'group_visits', 'age',\n",
    "       'avg_additional_charges_total', 'month_to_end_contract', 'lifetime',\n",
    "       'avg_class_frequency_total', 'avg_class_frequency_current_month',\n",
    "       'churn']\n",
    "for column in columns:\n",
    "    min = data[column].min()\n",
    "    max = data[column].max()\n",
    "    print(min, max)"
   ]
  },
  {
   "cell_type": "markdown",
   "metadata": {},
   "source": [
    "### Выводы\n",
    "\n",
    "* Предоставленный к исследованию датасет содержит 4 000 записей и 14 колонок\n",
    "* Данные не содержат пропущенных значений\n",
    "* Формат данных соответствует ожидаемому\n",
    "* Все признаки имеют числовой тип\n",
    "* Целевая переменная не имеет временной структуры\n",
    "* Минимальные и максимальные значения также соответствуют ожидаемым\n",
    "* столбцы: 'gender', 'near_location', 'partner', 'promo_friends', 'phone', 'group_visits', 'churn' имеют бинарный характер данных (0 / 1)\n",
    "* столбцы: 'contract_period', 'age', 'avg_additional_charges_total', 'month_to_end_contract', 'lifetime', 'avg_class_frequency_total', 'avg_class_frequency_current_month' имеют не бинарный характер данных\n",
    "* В качестве преобразования названия столбцов приведены к нижнему регистру"
   ]
  },
  {
   "cell_type": "markdown",
   "metadata": {},
   "source": [
    "## EDA исследовательский анализ данных\n",
    "\n",
    "**Задача**: \n",
    "* изучить характер распределения данных\n",
    "* изучить силу взаимосвязей между данными / признаками\n",
    "* сделать предположение какие признаки станут ключевыми для модели, а какими можно и нужно пренебречь"
   ]
  },
  {
   "cell_type": "markdown",
   "metadata": {},
   "source": [
    "###  Характер распределения данных в рамках датасета"
   ]
  },
  {
   "cell_type": "code",
   "execution_count": 6,
   "metadata": {},
   "outputs": [],
   "source": [
    "# создаем список признаков с бинарными значениями 0_1\n",
    "\n",
    "features_binar = ['gender', 'near_location', 'partner', 'promo_friends', 'phone', 'group_visits', 'churn']\n",
    "\n",
    "# создаем список признаков с небинарными значениями\n",
    "\n",
    "features_non_binar = ['contract_period', 'age', 'avg_additional_charges_total', 'month_to_end_contract'\\\n",
    "                      , 'lifetime', 'avg_class_frequency_total', 'avg_class_frequency_current_month']"
   ]
  },
  {
   "cell_type": "code",
   "execution_count": 7,
   "metadata": {
    "scrolled": true
   },
   "outputs": [
    {
     "data": {
      "image/png": "[encoded data removed]",
      "text/plain": [
       "<Figure size 360x144 with 1 Axes>"
      ]
     },
     "metadata": {
      "needs_background": "light"
     },
     "output_type": "display_data"
    },
    {
     "data": {
      "image/png": "[encoded data removed]",
      "text/plain": [
       "<Figure size 360x144 with 1 Axes>"
      ]
     },
     "metadata": {
      "needs_background": "light"
     },
     "output_type": "display_data"
    },
    {
     "data": {
      "image/png": "[encoded data removed]",
      "text/plain": [
       "<Figure size 360x144 with 1 Axes>"
      ]
     },
     "metadata": {
      "needs_background": "light"
     },
     "output_type": "display_data"
    },
    {
     "data": {
      "image/png": "[encoded data removed]",
      "text/plain": [
       "<Figure size 360x144 with 1 Axes>"
      ]
     },
     "metadata": {
      "needs_background": "light"
     },
     "output_type": "display_data"
    },
    {
     "data": {
      "image/png": "[encoded data removed]",
      "text/plain": [
       "<Figure size 360x144 with 1 Axes>"
      ]
     },
     "metadata": {
      "needs_background": "light"
     },
     "output_type": "display_data"
    },
    {
     "data": {
      "image/png": "[encoded data removed]",
      "text/plain": [
       "<Figure size 360x144 with 1 Axes>"
      ]
     },
     "metadata": {
      "needs_background": "light"
     },
     "output_type": "display_data"
    },
    {
     "data": {
      "image/png": "[encoded data removed]",
      "text/plain": [
       "<Figure size 360x144 with 1 Axes>"
      ]
     },
     "metadata": {
      "needs_background": "light"
     },
     "output_type": "display_data"
    }
   ],
   "source": [
    "# строим гистограммы для признаков с бинарными значениями\n",
    "\n",
    "for column in features_binar:\n",
    "    data[column].plot(kind='hist', figsize=(5, 2), grid=True, edgecolor = 'black', fill = True, facecolor = 'purple')\n",
    "    plt.title('Гистограмма по признаку ' + column)\n",
    "    plt.xlabel('0 / 1')\n",
    "    plt.ylabel('Кол-во значений')\n",
    "    plt.axhline(y= 2000, color='green', linestyle='--', label='50% данных')\n",
    "    plt.xticks([0,1])\n",
    "    plt.legend()\n",
    "    plt.show()"
   ]
  },
  {
   "cell_type": "markdown",
   "metadata": {},
   "source": [
    "**Выводы по графикам:**\n",
    "\n",
    "* Признаки **phone** и **near_location** имеют абсолютный перевес данных в пользу значения \"да, имеется\", приближаясь к 100%\n",
    "* Данные по признакам **partner** и **gender** поделились приблизительно пополам\n",
    "* Данные по признаку **churn** на 75% сместились к значению \"нет, не прервал контракт\"\n",
    "* Данные по признаку **promo_friends** на 69% сместились к значению \"нет, не относится к промо друзьям\"\n",
    "* Данные по признаку **group_visits** yf 63% сместились к значению \"нет, не посещает\""
   ]
  },
  {
   "cell_type": "code",
   "execution_count": 8,
   "metadata": {},
   "outputs": [
    {
     "data": {
      "image/png": "[encoded data removed]",
      "text/plain": [
       "<Figure size 2160x720 with 8 Axes>"
      ]
     },
     "metadata": {
      "needs_background": "light"
     },
     "output_type": "display_data"
    }
   ],
   "source": [
    "# строим гистограммы для признаков с небинарными значениями\n",
    "\n",
    "fig, axes = plt.subplots(2, 4)\n",
    "fig.set_size_inches(30, 10)\n",
    "axes = axes.ravel()\n",
    "i = 0\n",
    "for column in features_non_binar:\n",
    "    axes[i].hist(data[column], edgecolor = 'black', fill = True, facecolor = 'purple', bins=20)\n",
    "    axes[i].set(title = 'Гистограмма по признаку ' + column)\n",
    "    i+=1\n",
    "fig.show()"
   ]
  },
  {
   "cell_type": "code",
   "execution_count": 9,
   "metadata": {},
   "outputs": [
    {
     "data": {
      "text/html": [
       "<div>\n",
       "<style scoped>\n",
       "    .dataframe tbody tr th:only-of-type {\n",
       "        vertical-align: middle;\n",
       "    }\n",
       "\n",
       "    .dataframe tbody tr th {\n",
       "        vertical-align: top;\n",
       "    }\n",
       "\n",
       "    .dataframe thead th {\n",
       "        text-align: right;\n",
       "    }\n",
       "</style>\n",
       "<table border=\"1\" class=\"dataframe\">\n",
       "  <thead>\n",
       "    <tr style=\"text-align: right;\">\n",
       "      <th></th>\n",
       "      <th>count</th>\n",
       "      <th>mean</th>\n",
       "      <th>std</th>\n",
       "      <th>min</th>\n",
       "      <th>25%</th>\n",
       "      <th>50%</th>\n",
       "      <th>75%</th>\n",
       "      <th>max</th>\n",
       "    </tr>\n",
       "  </thead>\n",
       "  <tbody>\n",
       "    <tr>\n",
       "      <td>avg_additional_charges_total</td>\n",
       "      <td>4000.0</td>\n",
       "      <td>146.943728</td>\n",
       "      <td>96.355602</td>\n",
       "      <td>0.148205</td>\n",
       "      <td>68.868830</td>\n",
       "      <td>136.220159</td>\n",
       "      <td>210.949625</td>\n",
       "      <td>552.590740</td>\n",
       "    </tr>\n",
       "    <tr>\n",
       "      <td>month_to_end_contract</td>\n",
       "      <td>4000.0</td>\n",
       "      <td>4.322750</td>\n",
       "      <td>4.191297</td>\n",
       "      <td>1.000000</td>\n",
       "      <td>1.000000</td>\n",
       "      <td>1.000000</td>\n",
       "      <td>6.000000</td>\n",
       "      <td>12.000000</td>\n",
       "    </tr>\n",
       "    <tr>\n",
       "      <td>lifetime</td>\n",
       "      <td>4000.0</td>\n",
       "      <td>3.724750</td>\n",
       "      <td>3.749267</td>\n",
       "      <td>0.000000</td>\n",
       "      <td>1.000000</td>\n",
       "      <td>3.000000</td>\n",
       "      <td>5.000000</td>\n",
       "      <td>31.000000</td>\n",
       "    </tr>\n",
       "    <tr>\n",
       "      <td>avg_class_frequency_total</td>\n",
       "      <td>4000.0</td>\n",
       "      <td>1.879020</td>\n",
       "      <td>0.972245</td>\n",
       "      <td>0.000000</td>\n",
       "      <td>1.180875</td>\n",
       "      <td>1.832768</td>\n",
       "      <td>2.536078</td>\n",
       "      <td>6.023668</td>\n",
       "    </tr>\n",
       "    <tr>\n",
       "      <td>avg_class_frequency_current_month</td>\n",
       "      <td>4000.0</td>\n",
       "      <td>1.767052</td>\n",
       "      <td>1.052906</td>\n",
       "      <td>0.000000</td>\n",
       "      <td>0.963003</td>\n",
       "      <td>1.719574</td>\n",
       "      <td>2.510336</td>\n",
       "      <td>6.146783</td>\n",
       "    </tr>\n",
       "  </tbody>\n",
       "</table>\n",
       "</div>"
      ],
      "text/plain": [
       "                                    count        mean        std       min  \\\n",
       "avg_additional_charges_total       4000.0  146.943728  96.355602  0.148205   \n",
       "month_to_end_contract              4000.0    4.322750   4.191297  1.000000   \n",
       "lifetime                           4000.0    3.724750   3.749267  0.000000   \n",
       "avg_class_frequency_total          4000.0    1.879020   0.972245  0.000000   \n",
       "avg_class_frequency_current_month  4000.0    1.767052   1.052906  0.000000   \n",
       "\n",
       "                                         25%         50%         75%  \\\n",
       "avg_additional_charges_total       68.868830  136.220159  210.949625   \n",
       "month_to_end_contract               1.000000    1.000000    6.000000   \n",
       "lifetime                            1.000000    3.000000    5.000000   \n",
       "avg_class_frequency_total           1.180875    1.832768    2.536078   \n",
       "avg_class_frequency_current_month   0.963003    1.719574    2.510336   \n",
       "\n",
       "                                          max  \n",
       "avg_additional_charges_total       552.590740  \n",
       "month_to_end_contract               12.000000  \n",
       "lifetime                            31.000000  \n",
       "avg_class_frequency_total            6.023668  \n",
       "avg_class_frequency_current_month    6.146783  "
      ]
     },
     "metadata": {},
     "output_type": "display_data"
    }
   ],
   "source": [
    "# выводим стат данные по небинарным признакам с ненормальным распределением\n",
    "\n",
    "display(data[['avg_additional_charges_total', 'month_to_end_contract'\\\n",
    "                      , 'lifetime', 'avg_class_frequency_total', 'avg_class_frequency_current_month']].describe().T)"
   ]
  },
  {
   "cell_type": "markdown",
   "metadata": {},
   "source": [
    "**Выводы по графикам и стат данным:**\n",
    "\n",
    "* Распределение данных небинарных признаков имеет логичный характер и не имеет аномалий\n",
    "* У переменных разные по величине стандартные отклонения, что потребует стандартизации данных при обучении моделей.\n",
    "* Данные параметра contract_period разбиты на 3 группы: 56% клиентов имеют месячный абонемент, 20% клиентов имют полугодовой абонемент и порядка 24% клиентов имеют годовой абонемент\n",
    "* Данные параметра age имеют нормальное распределение в диапазоне от 18 лет до 41 года\n",
    "* В среднем клиент приносит клубу дополнительно (параметр avg_additional_charges_total) 147 рублей с максимальным значением 553 рубля.\n",
    "* 75% клиентов имеют срок до окончания текущего абонемента (параметр month_to_end_contract) менее 6 месяцев.\n",
    "* Средняя \"продолжительность жизни\" клиента (параметр lifetime) составляет 3 - 4 месяца\n",
    "* В среднем клиент посещает зал 1,88 раза в месяц (параметр avg_class_frequency_total)\n",
    "* В текущем месяце средняя посещаемость составила 1,77 раз (параметр avg_class_frequency_current_month)"
   ]
  },
  {
   "cell_type": "markdown",
   "metadata": {},
   "source": [
    "### Характер распределения данных признаков, сгрупированных по целевой переменной churn"
   ]
  },
  {
   "cell_type": "code",
   "execution_count": 10,
   "metadata": {
    "scrolled": true
   },
   "outputs": [
    {
     "data": {
      "image/png": "[encoded data removed]",
      "text/plain": [
       "<Figure size 2160x2880 with 14 Axes>"
      ]
     },
     "metadata": {
      "needs_background": "light"
     },
     "output_type": "display_data"
    }
   ],
   "source": [
    "# строим гистограммы по небинарным признакам в разрезе целевой переменной\n",
    "\n",
    "fig, axes = plt.subplots(7, 2)\n",
    "fig.set_size_inches(30, 40)\n",
    "axes = axes.ravel()\n",
    "i = 0\n",
    "for column in features_non_binar:\n",
    "    axes[i].hist(data[data['churn'] == 0][column], edgecolor = 'black', fill = True, facecolor = 'purple', bins=20)\n",
    "    axes[i].set(title = 'Оставшиеся по признаку ' + column)\n",
    "    i+=1\n",
    "    axes[i].hist(data[data['churn'] == 1][column], edgecolor = 'black', fill = True, facecolor = 'yellow', bins=20)\n",
    "    axes[i].set(title = 'Ушедшие по признаку ' + column)\n",
    "    i+=1\n",
    "plt.suptitle(\"ОСТАВШИЕСЯ КЛИЕНТЫ vs УШЕДШИЕ\")\n",
    "plt.subplots_adjust(hspace=0.25, wspace=0.25)\n",
    "fig.show()"
   ]
  },
  {
   "cell_type": "code",
   "execution_count": 11,
   "metadata": {},
   "outputs": [
    {
     "data": {
      "text/html": [
       "<div>\n",
       "<style scoped>\n",
       "    .dataframe tbody tr th:only-of-type {\n",
       "        vertical-align: middle;\n",
       "    }\n",
       "\n",
       "    .dataframe tbody tr th {\n",
       "        vertical-align: top;\n",
       "    }\n",
       "\n",
       "    .dataframe thead th {\n",
       "        text-align: right;\n",
       "    }\n",
       "</style>\n",
       "<table border=\"1\" class=\"dataframe\">\n",
       "  <thead>\n",
       "    <tr style=\"text-align: right;\">\n",
       "      <th>churn</th>\n",
       "      <th>остались</th>\n",
       "      <th>ушли</th>\n",
       "    </tr>\n",
       "  </thead>\n",
       "  <tbody>\n",
       "    <tr>\n",
       "      <td>contract_period</td>\n",
       "      <td>5.75</td>\n",
       "      <td>1.73</td>\n",
       "    </tr>\n",
       "    <tr>\n",
       "      <td>age</td>\n",
       "      <td>29.98</td>\n",
       "      <td>26.99</td>\n",
       "    </tr>\n",
       "    <tr>\n",
       "      <td>avg_additional_charges_total</td>\n",
       "      <td>158.45</td>\n",
       "      <td>115.08</td>\n",
       "    </tr>\n",
       "    <tr>\n",
       "      <td>month_to_end_contract</td>\n",
       "      <td>5.28</td>\n",
       "      <td>1.66</td>\n",
       "    </tr>\n",
       "    <tr>\n",
       "      <td>lifetime</td>\n",
       "      <td>4.71</td>\n",
       "      <td>0.99</td>\n",
       "    </tr>\n",
       "    <tr>\n",
       "      <td>avg_class_frequency_total</td>\n",
       "      <td>2.02</td>\n",
       "      <td>1.47</td>\n",
       "    </tr>\n",
       "    <tr>\n",
       "      <td>avg_class_frequency_current_month</td>\n",
       "      <td>2.03</td>\n",
       "      <td>1.04</td>\n",
       "    </tr>\n",
       "  </tbody>\n",
       "</table>\n",
       "</div>"
      ],
      "text/plain": [
       "churn                              остались    ушли\n",
       "contract_period                        5.75    1.73\n",
       "age                                   29.98   26.99\n",
       "avg_additional_charges_total         158.45  115.08\n",
       "month_to_end_contract                  5.28    1.66\n",
       "lifetime                               4.71    0.99\n",
       "avg_class_frequency_total              2.02    1.47\n",
       "avg_class_frequency_current_month      2.03    1.04"
      ]
     },
     "metadata": {},
     "output_type": "display_data"
    }
   ],
   "source": [
    "# проверяем средние значения небинарных признаков в разрезе целевой переменной\n",
    "display(data.groupby('churn').agg('mean')\\\n",
    "        .drop(['gender', 'near_location', 'partner', 'promo_friends', 'phone', 'group_visits'], axis=1)\\\n",
    "        .T\\\n",
    "        .rename(columns={0:'остались', 1:'ушли'})\\\n",
    "        .round(2))"
   ]
  },
  {
   "cell_type": "markdown",
   "metadata": {},
   "source": [
    "**Выводы по графикам и данным:**\n",
    "* Средняя длительность действующего абонемента у ушедших составляет 1,73 месяца, у оставшихся - 5,75. Среди ушедших доминируют владельцы месячных абонементов.\n",
    "* Средний возраст разнится не существенно - 27 лет у ушедших и 30 лет у оставшихся. Основная масса ушедших находится в диапазоне 25 - 30 лет.\n",
    "* Сумма дополнительных покупок у ушедших в среднем ниже на 27% меньше, чем у оставшихся. \n",
    "* Распределение средних значений параметра month_to_end_contract явно перекликается с распределением средних значений параметра contract_period и lifetime\n",
    "* Средня посещаемость ушедших на 27% ниже, чем оставшихся\n",
    "* Посещаемость текущего месяца у ушедних ниже на 49%"
   ]
  },
  {
   "cell_type": "code",
   "execution_count": 12,
   "metadata": {
    "scrolled": true
   },
   "outputs": [
    {
     "data": {
      "text/plain": [
       "<Figure size 432x288 with 0 Axes>"
      ]
     },
     "metadata": {},
     "output_type": "display_data"
    },
    {
     "data": {
      "image/png": "[encoded data removed]",
      "text/plain": [
       "<Figure size 432x288 with 1 Axes>"
      ]
     },
     "metadata": {
      "needs_background": "light"
     },
     "output_type": "display_data"
    },
    {
     "data": {
      "image/png": "[encoded data removed]",
      "text/plain": [
       "<Figure size 432x288 with 1 Axes>"
      ]
     },
     "metadata": {
      "needs_background": "light"
     },
     "output_type": "display_data"
    },
    {
     "data": {
      "image/png": "[encoded data removed]",
      "text/plain": [
       "<Figure size 432x288 with 1 Axes>"
      ]
     },
     "metadata": {
      "needs_background": "light"
     },
     "output_type": "display_data"
    },
    {
     "data": {
      "image/png": "[encoded data removed]",
      "text/plain": [
       "<Figure size 432x288 with 1 Axes>"
      ]
     },
     "metadata": {
      "needs_background": "light"
     },
     "output_type": "display_data"
    },
    {
     "data": {
      "image/png": "[encoded data removed]",
      "text/plain": [
       "<Figure size 432x288 with 1 Axes>"
      ]
     },
     "metadata": {
      "needs_background": "light"
     },
     "output_type": "display_data"
    },
    {
     "data": {
      "image/png": "[encoded data removed]",
      "text/plain": [
       "<Figure size 432x288 with 1 Axes>"
      ]
     },
     "metadata": {
      "needs_background": "light"
     },
     "output_type": "display_data"
    }
   ],
   "source": [
    "# строим столбчатые диаграммы по бинарным признакам\n",
    "# в разрезе целевой переменной\n",
    "features_binar_no_churn = ['gender', 'near_location', 'partner', 'promo_friends', 'phone', 'group_visits']\n",
    "for column in features_binar_no_churn:\n",
    "    x = data.groupby(column)['churn'].agg('sum')\n",
    "    y = data.groupby(column)['churn'].agg('count') - data.groupby(column)['churn'].agg('sum')\n",
    "    s = {'1':x, '0':y}\n",
    "    df = pd.DataFrame(s)\n",
    "    plt.suptitle(\"ОСТАВШИЕСЯ КЛИЕНТЫ vs УШЕДШИЕ\")\n",
    "    df.plot(kind='bar')"
   ]
  },
  {
   "cell_type": "markdown",
   "metadata": {},
   "source": [
    "**Выводы по графикам:**\n",
    "\n",
    "* В гендерном признаке ушедшие и оставшиеся распределились приблизительно одинаково: в каждом из полов произел отток порядка 35%.\n",
    "* Удаленность проживания от зала свидетельствует, что больше уходят те, кто живет не рядом с залом: 60% ушедших среди проживающих удаленно и порядка 30% среди проживающих рядом.\n",
    "* В партнерских программах ушедших также сравнительно меньше, чем в непартнерских: из партнерских программ произошел отток порядка 26%, тогда как из непартнерских порядка 50%.\n",
    "* В промо друзьях отток меньше среди друзей: 20% vs 47% среди не друзей.\n",
    "* Наличие телефона скорее всего является слабым признаком, т.к. значение этого параметра в принципе близко к 100%.\n",
    "* По параметру групповых занятий больше отток средих тех, кто их не посещает: порядка 50% vs 15% среди тех, кто посещает. "
   ]
  },
  {
   "cell_type": "markdown",
   "metadata": {},
   "source": [
    "### Выявление корреляции между параметрами"
   ]
  },
  {
   "cell_type": "code",
   "execution_count": 13,
   "metadata": {},
   "outputs": [
    {
     "data": {
      "image/png": "[encoded data removed]",
      "text/plain": [
       "<Figure size 864x504 with 2 Axes>"
      ]
     },
     "metadata": {
      "needs_background": "light"
     },
     "output_type": "display_data"
    }
   ],
   "source": [
    "# строим матрицу корреляций и тепловую карту\n",
    "\n",
    "cm = data.corr()\n",
    "plt.figure(figsize=(12, 7))\n",
    "sns.heatmap(data = cm, annot = True)\n",
    "plt.title('Тепловая карта корреляции между признаками')\n",
    "plt.show()"
   ]
  },
  {
   "cell_type": "markdown",
   "metadata": {},
   "source": [
    "**Выводы по графику:**\n",
    "\n",
    "Тепловая карта матрицы корреляции параметров подтверждает высокий уровень связи = 0.97 между параметрами month_to_end_contract и contract_period. Также высокое значение = 0.95 поллучила пара параметров avg_class_frequency_total и avg_class_frequency_current_month, что скорее всего объясняется схожестью данных."
   ]
  },
  {
   "cell_type": "markdown",
   "metadata": {},
   "source": [
    "### Выводы\n",
    "\n",
    "* В ходе исследовательского анализа данных было проанализировано 13 параметров, которые могут влиять на целевую переменную.\n",
    "* Аномалий в данных не выявлено.\n",
    "* Распределения носят нормальный или логичный характер.\n",
    "* Между 2-мя парами параметров выявлены достаточно сильные взаимосвязи, что может привести к эффекту мультиколлинеарности.\n",
    "* Одними из ведущих параметров могут стать contract_period и avg_class_frequency_current_month, наиболее очевидно определяющие группу ушедших.\n",
    "* К слабым параметрам можно отнести наличие телефона, так как его общее значение близко к 100%, и гендерный признак, в котором ушедшие распределились зеркально.\n",
    "* Чаще отток клиентов происходит среди: клиентов, которые проживают удаленно от зала, редко ходят на групповые занятия, не являются промо друзьями и не относятся к партнерам."
   ]
  },
  {
   "cell_type": "markdown",
   "metadata": {},
   "source": [
    "## Построение модели прогнозирования оттока клиентов"
   ]
  },
  {
   "cell_type": "markdown",
   "metadata": {},
   "source": [
    "Постройте модель бинарной классификации клиентов, где целевой признак — факт оттока клиента в следующем месяце."
   ]
  },
  {
   "cell_type": "markdown",
   "metadata": {},
   "source": [
    "### Формирование валидационного множества и стандартизация"
   ]
  },
  {
   "cell_type": "code",
   "execution_count": 14,
   "metadata": {},
   "outputs": [],
   "source": [
    "# делим данные на признаки (матрица X) и целевую переменную (y)\n",
    "X = data.drop('churn', axis=1)\n",
    "y = data['churn']\n",
    " \n",
    "# разделяем модель на обучающую и валидационную выборку\n",
    "X_train, X_test, y_train, y_test = train_test_split(\n",
    "    X, y, test_size=0.2, random_state=0\n",
    ")"
   ]
  },
  {
   "cell_type": "code",
   "execution_count": 15,
   "metadata": {},
   "outputs": [],
   "source": [
    "# стандартизируем данные\n",
    "\n",
    "# обучаем StandartScaler на обучающей выборке\n",
    "scaler = StandardScaler()\n",
    "scaler.fit(X_train)\n",
    " \n",
    "# преобразуем обучающий и валидационные наборы данных\n",
    "X_train_st = scaler.transform(X_train)\n",
    "X_test_st = scaler.transform(X_test)"
   ]
  },
  {
   "cell_type": "markdown",
   "metadata": {},
   "source": [
    "#### Выводы\n",
    "* Так как целевая переменная churn не имеет временной привязки валидационное множество сформировано случайным образом в пропорции 20% х 80%.\n",
    "* Данные обучающей и валидационной выборок стандартизированы."
   ]
  },
  {
   "cell_type": "markdown",
   "metadata": {},
   "source": [
    "### Обучение модели на обучающей выборке и прогноз"
   ]
  },
  {
   "cell_type": "markdown",
   "metadata": {},
   "source": [
    "#### логистическая регрессия"
   ]
  },
  {
   "cell_type": "code",
   "execution_count": 16,
   "metadata": {},
   "outputs": [
    {
     "name": "stdout",
     "output_type": "stream",
     "text": [
      "Предсказанный моделью отток: 192\n"
     ]
    }
   ],
   "source": [
    "# задае алгоритм для модели логистической регрессии\n",
    "lr_model = LogisticRegression(random_state=0, solver='liblinear')\n",
    "\n",
    "# обучаем модель\n",
    "lr_model.fit(X_train_st, y_train)\n",
    "\n",
    "# делаем прогноз\n",
    "lr_predictions = lr_model.predict(X_test_st)\n",
    "lr_probabilities = lr_model.predict_proba(X_test_st)[:, 1]\n",
    "\n",
    "# выводим метрики\n",
    "print(\"Предсказанный моделью отток:\", lr_predictions.sum())"
   ]
  },
  {
   "cell_type": "markdown",
   "metadata": {},
   "source": [
    "#### случайный лес"
   ]
  },
  {
   "cell_type": "code",
   "execution_count": 17,
   "metadata": {},
   "outputs": [],
   "source": [
    "# зададим алгоритм для модели на основе алгоритма случайного леса\n",
    "rf_model = RandomForestClassifier(n_estimators = 100, random_state = 0 )\n",
    "\n",
    "# обучаем модель случайного леса\n",
    "rf_model.fit(X_train_st, y_train)\n",
    "\n",
    "# делаем прогноз\n",
    "rf_predictions = rf_model.predict(X_test_st)"
   ]
  },
  {
   "cell_type": "code",
   "execution_count": 18,
   "metadata": {},
   "outputs": [
    {
     "name": "stdout",
     "output_type": "stream",
     "text": [
      "Предсказанный моделью отток: 192\n"
     ]
    }
   ],
   "source": [
    "print(\"Предсказанный моделью отток:\", rf_predictions.sum())"
   ]
  },
  {
   "cell_type": "code",
   "execution_count": 19,
   "metadata": {},
   "outputs": [
    {
     "data": {
      "text/html": [
       "<div>\n",
       "<style scoped>\n",
       "    .dataframe tbody tr th:only-of-type {\n",
       "        vertical-align: middle;\n",
       "    }\n",
       "\n",
       "    .dataframe tbody tr th {\n",
       "        vertical-align: top;\n",
       "    }\n",
       "\n",
       "    .dataframe thead th {\n",
       "        text-align: right;\n",
       "    }\n",
       "</style>\n",
       "<table border=\"1\" class=\"dataframe\">\n",
       "  <thead>\n",
       "    <tr style=\"text-align: right;\">\n",
       "      <th></th>\n",
       "      <th>feature</th>\n",
       "      <th>importance</th>\n",
       "    </tr>\n",
       "  </thead>\n",
       "  <tbody>\n",
       "    <tr>\n",
       "      <td>0</td>\n",
       "      <td>lifetime</td>\n",
       "      <td>0.276499</td>\n",
       "    </tr>\n",
       "    <tr>\n",
       "      <td>1</td>\n",
       "      <td>avg_class_frequency_current_month</td>\n",
       "      <td>0.180170</td>\n",
       "    </tr>\n",
       "    <tr>\n",
       "      <td>2</td>\n",
       "      <td>avg_class_frequency_total</td>\n",
       "      <td>0.129883</td>\n",
       "    </tr>\n",
       "    <tr>\n",
       "      <td>3</td>\n",
       "      <td>age</td>\n",
       "      <td>0.119129</td>\n",
       "    </tr>\n",
       "    <tr>\n",
       "      <td>4</td>\n",
       "      <td>avg_additional_charges_total</td>\n",
       "      <td>0.091473</td>\n",
       "    </tr>\n",
       "    <tr>\n",
       "      <td>5</td>\n",
       "      <td>month_to_end_contract</td>\n",
       "      <td>0.068855</td>\n",
       "    </tr>\n",
       "    <tr>\n",
       "      <td>6</td>\n",
       "      <td>contract_period</td>\n",
       "      <td>0.065964</td>\n",
       "    </tr>\n",
       "    <tr>\n",
       "      <td>7</td>\n",
       "      <td>group_visits</td>\n",
       "      <td>0.015652</td>\n",
       "    </tr>\n",
       "    <tr>\n",
       "      <td>8</td>\n",
       "      <td>gender</td>\n",
       "      <td>0.012425</td>\n",
       "    </tr>\n",
       "    <tr>\n",
       "      <td>9</td>\n",
       "      <td>partner</td>\n",
       "      <td>0.012285</td>\n",
       "    </tr>\n",
       "    <tr>\n",
       "      <td>10</td>\n",
       "      <td>promo_friends</td>\n",
       "      <td>0.012053</td>\n",
       "    </tr>\n",
       "    <tr>\n",
       "      <td>11</td>\n",
       "      <td>near_location</td>\n",
       "      <td>0.009421</td>\n",
       "    </tr>\n",
       "    <tr>\n",
       "      <td>12</td>\n",
       "      <td>phone</td>\n",
       "      <td>0.006192</td>\n",
       "    </tr>\n",
       "  </tbody>\n",
       "</table>\n",
       "</div>"
      ],
      "text/plain": [
       "                              feature  importance\n",
       "0                            lifetime    0.276499\n",
       "1   avg_class_frequency_current_month    0.180170\n",
       "2           avg_class_frequency_total    0.129883\n",
       "3                                 age    0.119129\n",
       "4        avg_additional_charges_total    0.091473\n",
       "5               month_to_end_contract    0.068855\n",
       "6                     contract_period    0.065964\n",
       "7                        group_visits    0.015652\n",
       "8                              gender    0.012425\n",
       "9                             partner    0.012285\n",
       "10                      promo_friends    0.012053\n",
       "11                      near_location    0.009421\n",
       "12                              phone    0.006192"
      ]
     },
     "metadata": {},
     "output_type": "display_data"
    }
   ],
   "source": [
    "# выводим значения весов признаков, присвоенные моделью\n",
    "importances = rf_model.feature_importances_\n",
    "feature_list = list(X_train.columns)\n",
    "feature_results = pd.DataFrame({'feature': feature_list,'importance': importances})\n",
    "feature_results = feature_results.sort_values('importance',ascending = False).reset_index(drop=True)\n",
    "display(feature_results)"
   ]
  },
  {
   "cell_type": "markdown",
   "metadata": {},
   "source": [
    "### Оценка метрик accuracy, precision и recall для обеих моделей на валидационной выборке"
   ]
  },
  {
   "cell_type": "code",
   "execution_count": 20,
   "metadata": {},
   "outputs": [
    {
     "name": "stdout",
     "output_type": "stream",
     "text": [
      "Метрики при автоматическом прогнозе по модели логистической регрессии\n",
      "Accuracy: 0.92\n",
      "Precision: 0.85\n",
      "Recall: 0.83\n"
     ]
    }
   ],
   "source": [
    "# выводим метрики для полученного прогноза по модели логистической регрессии\n",
    "print('Метрики при автоматическом прогнозе по модели логистической регрессии')\n",
    "print('Accuracy: {:.2f}'.format(accuracy_score(y_test, lr_predictions)))\n",
    "print('Precision: {:.2f}'.format(precision_score(y_test, lr_predictions)))\n",
    "print('Recall: {:.2f}'.format(recall_score(y_test, lr_predictions)))"
   ]
  },
  {
   "cell_type": "code",
   "execution_count": 21,
   "metadata": {},
   "outputs": [
    {
     "name": "stdout",
     "output_type": "stream",
     "text": [
      "Метрики при автоматическом прогнозе по модели случайного леса\n",
      "Accuracy: 0.92\n",
      "Precision: 0.84\n",
      "Recall: 0.81\n"
     ]
    }
   ],
   "source": [
    "# выводим метрики для полученного прогноза по модели случайного леса\n",
    "print('Метрики при автоматическом прогнозе по модели случайного леса')\n",
    "print('Accuracy: {:.2f}'.format(accuracy_score(y_test, rf_predictions)))\n",
    "print('Precision: {:.2f}'.format(precision_score(y_test, rf_predictions)))\n",
    "print('Recall: {:.2f}'.format(recall_score(y_test, rf_predictions)))"
   ]
  },
  {
   "cell_type": "markdown",
   "metadata": {},
   "source": [
    "#### Выводы\n",
    "\n",
    "Сравнение метрик обученных моделей показывает, что:\n",
    "* **ACCURACY** - логистическая регрессия и случайный лес дали одинаковые доли правильных ответов = 92%. Обе модели предсказали на тестовой выборке одинаковое количество склонных к уходу клиентов = 192\n",
    "\n",
    "$$Accuracy = \\frac{TP+TN}{TP+TN+FP+FN}$$\n",
    "\n",
    "* **PRECISION** - доля правильно предсказанных положительных объектов среди всех объектов, предсказанных положительным классом, у логистической регрессии оказалась выше, чем у случайного леса: 85% vs 84%.\n",
    "\n",
    "$$Precision = \\frac{TP}{TP+FP}$$\n",
    "\n",
    "* **RECALL** - доля правильно найденных положительных объектов среди всех объектов положительного класса также выше у логистической регрессии: 83% vs 81%\n",
    "\n",
    "$$Precision = \\frac{TP}{TP+FN}$$\n",
    "\n",
    "* В качестве решения для прогноза рекомендуется приянть модель логистической регрессии."
   ]
  },
  {
   "cell_type": "markdown",
   "metadata": {},
   "source": [
    "## Кластеризация клиентов"
   ]
  },
  {
   "cell_type": "markdown",
   "metadata": {},
   "source": [
    "### Матрица расстояний"
   ]
  },
  {
   "cell_type": "code",
   "execution_count": 22,
   "metadata": {},
   "outputs": [
    {
     "data": {
      "image/png": "[encoded data removed]",
      "text/plain": [
       "<Figure size 1080x720 with 1 Axes>"
      ]
     },
     "metadata": {
      "needs_background": "light"
     },
     "output_type": "display_data"
    }
   ],
   "source": [
    "# стандартизируем весь набор данных по параметрам\n",
    "sc = StandardScaler()\n",
    "X_sc = sc.fit_transform(X)\n",
    "\n",
    "# создаем таблицу связок между объектами\n",
    "linked = linkage(X_sc, method = 'ward')\n",
    "\n",
    "# создаем дендрограмму\n",
    "plt.figure(figsize=(15, 10))\n",
    "dendrogram(linked, orientation='top', no_labels = True)\n",
    "plt.title('Кластеризация клиентов фитнес клуба')\n",
    "plt.show()"
   ]
  },
  {
   "cell_type": "markdown",
   "metadata": {},
   "source": [
    "**Выводы по графику:**\n",
    "\n",
    "Визуализация связей позволяет выделить 5 кластеров для дальнейшего изучения."
   ]
  },
  {
   "cell_type": "markdown",
   "metadata": {},
   "source": [
    "### Кластеризация клиентов на основании алгоритма K-Means"
   ]
  },
  {
   "cell_type": "code",
   "execution_count": 23,
   "metadata": {},
   "outputs": [],
   "source": [
    "# задаём модель k_means с числом кластеров 5\n",
    "km = KMeans(n_clusters = 5, random_state = 1)\n",
    "\n",
    "# прогнозируем кластеры для наблюдений\n",
    "labels = km.fit_predict(X_sc)\n",
    " \n",
    "# сохраняем метки кластера в поле датасета\n",
    "data['cluster_km'] = labels"
   ]
  },
  {
   "cell_type": "code",
   "execution_count": 24,
   "metadata": {},
   "outputs": [
    {
     "data": {
      "text/html": [
       "<div>\n",
       "<style scoped>\n",
       "    .dataframe tbody tr th:only-of-type {\n",
       "        vertical-align: middle;\n",
       "    }\n",
       "\n",
       "    .dataframe tbody tr th {\n",
       "        vertical-align: top;\n",
       "    }\n",
       "\n",
       "    .dataframe thead th {\n",
       "        text-align: right;\n",
       "    }\n",
       "</style>\n",
       "<table border=\"1\" class=\"dataframe\">\n",
       "  <thead>\n",
       "    <tr style=\"text-align: right;\">\n",
       "      <th>churn</th>\n",
       "      <th>остались</th>\n",
       "      <th>ушли</th>\n",
       "      <th>всего</th>\n",
       "      <th>доля ушедших</th>\n",
       "    </tr>\n",
       "    <tr>\n",
       "      <th>cluster_km</th>\n",
       "      <th></th>\n",
       "      <th></th>\n",
       "      <th></th>\n",
       "      <th></th>\n",
       "    </tr>\n",
       "  </thead>\n",
       "  <tbody>\n",
       "    <tr>\n",
       "      <td>0</td>\n",
       "      <td>297</td>\n",
       "      <td>224</td>\n",
       "      <td>521</td>\n",
       "      <td>43.0</td>\n",
       "    </tr>\n",
       "    <tr>\n",
       "      <td>1</td>\n",
       "      <td>974</td>\n",
       "      <td>553</td>\n",
       "      <td>1527</td>\n",
       "      <td>36.0</td>\n",
       "    </tr>\n",
       "    <tr>\n",
       "      <td>2</td>\n",
       "      <td>903</td>\n",
       "      <td>18</td>\n",
       "      <td>921</td>\n",
       "      <td>2.0</td>\n",
       "    </tr>\n",
       "    <tr>\n",
       "      <td>3</td>\n",
       "      <td>482</td>\n",
       "      <td>163</td>\n",
       "      <td>645</td>\n",
       "      <td>25.0</td>\n",
       "    </tr>\n",
       "    <tr>\n",
       "      <td>4</td>\n",
       "      <td>283</td>\n",
       "      <td>103</td>\n",
       "      <td>386</td>\n",
       "      <td>27.0</td>\n",
       "    </tr>\n",
       "  </tbody>\n",
       "</table>\n",
       "</div>"
      ],
      "text/plain": [
       "churn       остались  ушли  всего  доля ушедших\n",
       "cluster_km                                     \n",
       "0                297   224    521          43.0\n",
       "1                974   553   1527          36.0\n",
       "2                903    18    921           2.0\n",
       "3                482   163    645          25.0\n",
       "4                283   103    386          27.0"
      ]
     },
     "metadata": {},
     "output_type": "display_data"
    }
   ],
   "source": [
    "# выводим статистику по количеству ушедших и оставшихся клиентов в кластерах\n",
    "\n",
    "churn = data.groupby(['cluster_km', 'churn']).agg({'phone':'count'})\\\n",
    "       .reset_index()\\\n",
    "        .pivot_table(index='cluster_km', columns = 'churn', values='phone', aggfunc=('min'))\\\n",
    "       .rename(columns={0:'остались', 1:\"ушли\"})\n",
    "churn['всего'] = churn['остались'] + churn['ушли']\n",
    "churn['доля ушедших'] = (churn['ушли'] / churn['всего'] * 100).round()\n",
    "display(churn)"
   ]
  },
  {
   "cell_type": "code",
   "execution_count": 25,
   "metadata": {},
   "outputs": [
    {
     "data": {
      "image/png": "[encoded data removed]",
      "text/plain": [
       "<Figure size 720x360 with 1 Axes>"
      ]
     },
     "metadata": {
      "needs_background": "light"
     },
     "output_type": "display_data"
    }
   ],
   "source": [
    "# строим столбчатую диаграмму по количеству ушедших и оставшихся клиентов в кластерах\n",
    "\n",
    "churn[['остались', 'ушли']].plot(kind='bar', figsize=(10, 5), title=('Кластеры - кол-во оставшихся и ушедших клиентов'))\n",
    "plt.xlabel(\"Кластер\")\n",
    "plt.ylabel(\"Кол-во клиентов\")\n",
    "plt.show()"
   ]
  },
  {
   "cell_type": "markdown",
   "metadata": {},
   "source": [
    "**Выводы по графикам и данным:**\n",
    "\n",
    "* Кластеризация клиентов методом K-means выделила 5 групп с разным составом:\n",
    ">\n",
    "> 1 527 клиентов - 1 кластер\n",
    ">\n",
    "> 921 клиент - 2 кластер\n",
    ">\n",
    "> 645 клиентов - 3 кластер\n",
    ">\n",
    "> 521 клиент - 0 кластер\n",
    ">\n",
    "> 386 клиентов - 4 кластер\n",
    ">\n",
    "* Зону **риска** определяет кластер **№ 0**, в котором количество ушедших клиентов составило **43%**\n",
    "* Наиболее **лояльным** является кластер **№ 2**, в котором отток составил всего **2%**\n",
    "* Отток в самом **многочисленном** кластере **№ 1**, в который вошло 1 527 клиентов (38% от общего), составил **36%**"
   ]
  },
  {
   "cell_type": "code",
   "execution_count": 26,
   "metadata": {},
   "outputs": [
    {
     "data": {
      "text/html": [
       "<div>\n",
       "<style scoped>\n",
       "    .dataframe tbody tr th:only-of-type {\n",
       "        vertical-align: middle;\n",
       "    }\n",
       "\n",
       "    .dataframe tbody tr th {\n",
       "        vertical-align: top;\n",
       "    }\n",
       "\n",
       "    .dataframe thead th {\n",
       "        text-align: right;\n",
       "    }\n",
       "</style>\n",
       "<table border=\"1\" class=\"dataframe\">\n",
       "  <thead>\n",
       "    <tr style=\"text-align: right;\">\n",
       "      <th>cluster_km</th>\n",
       "      <th>0</th>\n",
       "      <th>1</th>\n",
       "      <th>2</th>\n",
       "      <th>3</th>\n",
       "      <th>4</th>\n",
       "    </tr>\n",
       "  </thead>\n",
       "  <tbody>\n",
       "    <tr>\n",
       "      <td>contract_period</td>\n",
       "      <td>2.343570</td>\n",
       "      <td>2.056974</td>\n",
       "      <td>11.511401</td>\n",
       "      <td>2.972093</td>\n",
       "      <td>4.777202</td>\n",
       "    </tr>\n",
       "    <tr>\n",
       "      <td>age</td>\n",
       "      <td>28.579655</td>\n",
       "      <td>28.918140</td>\n",
       "      <td>29.964169</td>\n",
       "      <td>29.120930</td>\n",
       "      <td>29.297927</td>\n",
       "    </tr>\n",
       "    <tr>\n",
       "      <td>month_to_end_contract</td>\n",
       "      <td>2.197697</td>\n",
       "      <td>1.963982</td>\n",
       "      <td>10.457112</td>\n",
       "      <td>2.778295</td>\n",
       "      <td>4.466321</td>\n",
       "    </tr>\n",
       "    <tr>\n",
       "      <td>avg_additional_charges_total</td>\n",
       "      <td>136.561586</td>\n",
       "      <td>141.863877</td>\n",
       "      <td>166.325823</td>\n",
       "      <td>141.317434</td>\n",
       "      <td>144.208179</td>\n",
       "    </tr>\n",
       "    <tr>\n",
       "      <td>lifetime</td>\n",
       "      <td>2.905950</td>\n",
       "      <td>3.309758</td>\n",
       "      <td>4.829533</td>\n",
       "      <td>3.662016</td>\n",
       "      <td>3.940415</td>\n",
       "    </tr>\n",
       "    <tr>\n",
       "      <td>avg_class_frequency_total</td>\n",
       "      <td>1.738534</td>\n",
       "      <td>1.808608</td>\n",
       "      <td>2.116481</td>\n",
       "      <td>1.834968</td>\n",
       "      <td>1.854211</td>\n",
       "    </tr>\n",
       "    <tr>\n",
       "      <td>avg_class_frequency_current_month</td>\n",
       "      <td>1.562870</td>\n",
       "      <td>1.655857</td>\n",
       "      <td>2.109532</td>\n",
       "      <td>1.731981</td>\n",
       "      <td>1.723967</td>\n",
       "    </tr>\n",
       "  </tbody>\n",
       "</table>\n",
       "</div>"
      ],
      "text/plain": [
       "cluster_km                                  0           1           2  \\\n",
       "contract_period                      2.343570    2.056974   11.511401   \n",
       "age                                 28.579655   28.918140   29.964169   \n",
       "month_to_end_contract                2.197697    1.963982   10.457112   \n",
       "avg_additional_charges_total       136.561586  141.863877  166.325823   \n",
       "lifetime                             2.905950    3.309758    4.829533   \n",
       "avg_class_frequency_total            1.738534    1.808608    2.116481   \n",
       "avg_class_frequency_current_month    1.562870    1.655857    2.109532   \n",
       "\n",
       "cluster_km                                  3           4  \n",
       "contract_period                      2.972093    4.777202  \n",
       "age                                 29.120930   29.297927  \n",
       "month_to_end_contract                2.778295    4.466321  \n",
       "avg_additional_charges_total       141.317434  144.208179  \n",
       "lifetime                             3.662016    3.940415  \n",
       "avg_class_frequency_total            1.834968    1.854211  \n",
       "avg_class_frequency_current_month    1.731981    1.723967  "
      ]
     },
     "metadata": {},
     "output_type": "display_data"
    }
   ],
   "source": [
    "# выводим статистику по средним значениям небинарных признаков по кластерам\n",
    "\n",
    "features_non_binar_mean = data.groupby('cluster_km')\\\n",
    "[['contract_period', 'age', 'month_to_end_contract', 'avg_additional_charges_total'\\\n",
    "  , 'lifetime', 'avg_class_frequency_total', 'avg_class_frequency_current_month']]\\\n",
    ".agg('mean').T\n",
    "\n",
    "display(features_non_binar_mean)"
   ]
  },
  {
   "cell_type": "code",
   "execution_count": 27,
   "metadata": {},
   "outputs": [
    {
     "data": {
      "image/png": "[encoded data removed]",
      "text/plain": [
       "<Figure size 1440x504 with 2 Axes>"
      ]
     },
     "metadata": {
      "needs_background": "light"
     },
     "output_type": "display_data"
    }
   ],
   "source": [
    "# создаем график средних значений небинарных признаков\n",
    "plt.figure(figsize=(20, 7)) \n",
    "ax1 = plt.subplot(1, 2, 1)\n",
    "features_non_binar_mean.plot(kind='line',grid=True, title=('Средние значения небинарных признаков'), ax=ax1)\n",
    "plt.xticks(rotation=90)\n",
    "plt.xlabel(\"Признаки\")\n",
    "plt.ylabel('Средние значения')\n",
    "ax2 = plt.subplot(1, 2, 2)\n",
    "data.groupby('cluster_km')\\\n",
    "[['contract_period', 'age', 'month_to_end_contract'\\\n",
    "  , 'lifetime', 'avg_class_frequency_total', 'avg_class_frequency_current_month']]\\\n",
    ".agg('mean').T.plot(kind='line', grid=True, title=('Средние значения небинарных признаков без ...add_charges...'), ax=ax2)\n",
    "plt.xlabel(\"Признаки\")\n",
    "plt.ylabel('Средние значения')\n",
    "plt.xticks(rotation=90)\n",
    "plt.show()"
   ]
  },
  {
   "cell_type": "markdown",
   "metadata": {},
   "source": [
    "**Выводы по графикам и данным:**\n",
    "\n",
    "* Самый лояльный кластер **№ 2** практически по всем небинарным признакам показал более высокие результаты по сравнению с остальныи\n",
    "* Небинарные признаки,в которых слабо различимы отличия между кластерами в средних значениях:\n",
    ">\n",
    "> age - возраст\n",
    ">\n",
    "> avg_class_frequency_total - кол-во посещений занятий в среднем всего\n",
    ">\n",
    "> avg_class_frequency_total_current_month - кол-во посещений занятий в среднем в текущем месяце\n",
    ">\n",
    "* Кластер риска **№ 0** имеет самые низкие среди остальных кластеров показатели по параметрам:\n",
    ">\n",
    "> age\n",
    ">\n",
    "> avg_additional_charges_total\n",
    ">\n",
    "> lifetime\n",
    ">\n",
    "> avg_class_frequency_tota\n",
    ">\n",
    "> \n",
    "> avg_class_frequency_current_month"
   ]
  },
  {
   "cell_type": "code",
   "execution_count": 28,
   "metadata": {
    "scrolled": true
   },
   "outputs": [
    {
     "data": {
      "image/png": "[encoded data removed]",
      "text/plain": [
       "<Figure size 1440x1080 with 7 Axes>"
      ]
     },
     "metadata": {
      "needs_background": "light"
     },
     "output_type": "display_data"
    }
   ],
   "source": [
    "# строим столбчатые диаграммы для дискретных пременных признаков по кластерам\n",
    "\n",
    "fig, axes = plt.subplots(4,2)\n",
    "fig.set_size_inches(20, 15)\n",
    "axes = axes.ravel()\n",
    "i = 0\n",
    "for column in features_binar:\n",
    "    sns.countplot(data = data, x = column, hue = 'cluster_km', ax = axes[i])\n",
    "    i+=1\n",
    "fig.delaxes(axes[7])\n",
    "fig.suptitle('Распределение данных дискретных переменных признаков')\n",
    "plt.show()"
   ]
  },
  {
   "cell_type": "code",
   "execution_count": 29,
   "metadata": {
    "scrolled": true
   },
   "outputs": [
    {
     "data": {
      "image/png": "[encoded data removed]",
      "text/plain": [
       "<Figure size 1080x1440 with 7 Axes>"
      ]
     },
     "metadata": {
      "needs_background": "light"
     },
     "output_type": "display_data"
    }
   ],
   "source": [
    "# строим диаграммы размаха для непрерывных пременных признаков по кластерам\n",
    "\n",
    "fig, axes = plt.subplots(4,2)\n",
    "fig.set_size_inches(15, 20)\n",
    "axes = axes.ravel()\n",
    "i = 0\n",
    "for column in features_non_binar:\n",
    "    sns.boxplot(x ='cluster_km',y = column, data = data, ax = axes[i])\n",
    "    i+=1\n",
    "fig.delaxes(axes[7])\n",
    "fig.suptitle('Распределение данных непрерывных переменных признаков')\n",
    "plt.show()"
   ]
  },
  {
   "cell_type": "markdown",
   "metadata": {},
   "source": [
    "**Выводы по графикам:**\n",
    "\n",
    "* **gender** - распределение клиентов по гендерному признаку произошло между кластерами приблизительно **в равных долях**\n",
    "* **near_location** - клиенты, проживающие удаленно от фитнес клуба, попали в кластер риска **№ 0**\n",
    "* **partner** - большая часть клиентов, не участвующих в парнерской программе, попала в самый многочисленный кластер **№ 1**, в котором 36% оттока. Также в категорию \"не партнеров\" попали клиенты кластера риска **№ 0**.\n",
    "* **promo_friends** - распределение данных в этом параметре идентично распределению в параметре **partner**\n",
    "* **phone** - все клиенты, не предоставившие номер телефона, отнесены моделью к кластеру **№ 4**, с оттоком 27%\n",
    "* **contract_period** - контрактный период представлен 3-мя группами: 1 месяц, 6 месяцев и 12 месяцев. Группа с периодом 1 месяц является самой многочисленной, основную ее часть составляют клиенты из кластера **№ 1**, с оттоком 36%, также в нее попали 77% кластера риска **№ 0**. Лояльный кластер **№ 2** с оттоком 2% поделился между между группами 6 месяцев и 12 месяцев с большим перевесом в пользу последней.\n",
    "* **group_visits** - клиентов, не посещающих групповые занятия больше, чем посещающих. Половину непосещяющих составили клиенты кластера **№ 1** с отткомо 36%. Самая большая доля среди посещающих пришласть на лояльный кластер **№ 2** с оттоком 2%.\n",
    "* **age** - данные по возрасту распределились между кластерами нормально или близко к нормальному.\n",
    "* **avg_additional_charges_total** - распределение данных по признаку общих дополнительных оплат во всех кластерах имеет ассиметричный правостороннний характер, данные скошены вправо. Аномальных признаков нет.\n",
    "* **month_to_end_contract** - клиенты кластера риска **№ 0** оказались в группе 1 месяца до окончания контракта, клиенты лояльного кластера **№ 2** распределились между 6 и 12 месяцами с перевесом в пользу 12, что коррелирует с распределением данных по параметру **contract_period**. \n",
    "* **lifetime** - распределение данных по признаку во всех кластерах имеет ассиметричный правостороннний характер, данные скошены вправо. Аномальных признаков нет. \n",
    "* **avg_class_frequency_total** - распределение данных по признаку во всех кластерах имеет ассиметричный правостороннний характер, данные скошены вправо. Большая скошенность просматривается у лояльного кластера **№ 2**.\n",
    "* **avg_class_frequency_current_month** - характер распределения данных повторяет признак avg_class_frequency_total.\n",
    "* **churn** - большую часть оттока составляют клиенты из самого многочисленного кластера **№ 1**. Также большую часть составляют клиенты из кластера риска **№ 0**."
   ]
  },
  {
   "cell_type": "markdown",
   "metadata": {},
   "source": [
    "## ВЫВОДЫ И РЕКОМЕНДАЦИИ ПО РАБОТЕ С КЛИЕНТАМИ\n",
    "\n",
    "Проведенный анализ информации по признакам в том числе с применением методов машинного обучения и кластеризации  в разрезе всех данных, а также в разрезе выявленных кластеров позволяет сформировать для реализации задачи снижения оттока 2 основных портрета клиентов сети фитнес - центров: КЛИЕНТ В ЗОНЕ РИСКА и ЛОЯЛЬНЫЙ КЛИЕНТ.\n",
    "* **ПОРТРЕТ КЛИЕНТА В ЗОНЕ РИСКА:** женщина или мужчина в возрасте 27 лет, пришедший в фитнес-центр впервые (предварительная коммуникация отсутствовала), купивший месячный абонемент, посетивший центр 1 раз, не покупающий дополнительные услуги (или в минимальном объеме), не посещяющий групповые занятия, живущий на удалении от фитнес-центра, не участвующий в партнерской программе и не пришедший по программе \"приведи друга\".\n",
    "* **ПОРТРЕТ ЛОЯЛЬНОГО КЛИЕНТА**: мужчина или женщина в возрасте 30 лет, на протяжении 5 месяцев находящися в коммуникационном поле фитнес-центра, купивший полугодовой или годовой абонемент, посещяющий центр 2 раза в месяц, покупающий дополнительные услуги на суммы от 158 рублей, посещающий групповые занятия, живущий рядом с центром, участвующий в партнерской программе и пришедший по программе \"приведи друга\".\n",
    "\n",
    "Причины оттока могут быть связаны как с отсутствием мотивации у клиентов, так и с внутренними проблемами центра, как напрмер, чистота, исправность оборудования, внимательность персонала, достаточность шафчиков в пиковые часы и т.д.... В качестве рекомендаций для стратегии взаимодействия с клиентами и их удержания предлагается следующий ряд мер по выявлению клиентов в зоне риска и их целенаправленному движению по клиентскому пути от портрета Клиента в зоне риска до портрета Лояльного Клиента:\n",
    "\n",
    "**РАБОТА С ПРИЧИНАМИ**\n",
    "\n",
    "1. в первую очередь настойчиво рекомендуется составить анкету и организовать регулярные опросы клиентов, попавших в отток по результатам прошедшего месяца; цель - выяснить основные причины, разработать по ним план действий и реализовать его\n",
    "\n",
    "**ПРОАКТИВНОСТЬ И СВОЕВРЕМЕННОЕ ВЫЯВЛЕНИЕ**\n",
    "\n",
    "2. разработать и внедрить автоматизированный отчет на базе CRM, который позволит выявлять клиентов, посетивших центр не более 1 раза за последние 30 дней от даты отчета; включать данных клиентов в обязательную коммуникацию - делать рассылки, например, с новостями фитнес-центра\n",
    "\n",
    "**РАБОТА С ПРЕЛОЖЕНИЕМ**\n",
    "\n",
    "3. сделать рыночный срез и провести ревизию привлекательности текущего предложения по полугодовым и годовым абонементам; при необходимости произвести коррекцию\n",
    "4. проработать варант 3-х месячного абонемента, который психологически не будет вызывать ощущения жесткой привязки к центру, не будет требовать полугодовых инвестиций, но уже будет работать на привыкание клиента и продвинет его по пути повышения лояльности \n",
    "5. разработать и внедрить (если меется, провести ревизию) программу лояльности, предлагающую определенный бонус за каждые следующие 3 месяца (или пол года) занятий в центре\n",
    "\n",
    "**РАБОТА С ПРОДУКТОМ**\n",
    "\n",
    "6. провести ревизию дополнительных услуг и групповых занятий; провести анализ рынка и опрос клиентов на предмет их удовлетворенности как набором самих услуг и занятий, так и качеством\n",
    "\n",
    "**ПРОДВИЖЕНИЕ ДЛЯ ЦЕЛЕВОЙ АУДИТОРИИ**\n",
    "\n",
    "7. таргетировать рекламу на жителей района по принципу геолокации, в котором расположен фитнес - центр\n",
    "8. с периодичностью 1 раз в квартал производить проверку организаций, расположенных в ареоле фитнес - центра, для выявления новых, не зайдествованных в партнерской программе\n",
    "9. организовать среди клиентов кампанию \"расскажи о нас соседям\" в соцсетях; в рамках которой клиент размещает позитивный отзыв о клубе на своей страничке со ссылкой на фитнес - центр; самые активные участники кампании получают в подарок бесплатное групповое занятие (если занятия платные), либо другую услугу фитнес - центра\n",
    "10. повысить для клиентов ценность предложения \"приведи друга\" \n",
    "\n",
    "Все перечисленные выше меры в случае реализации плодотворно повлияют не только на клиентов в зоне риска, но и на лояльных клиентов, что будет работать на задачу снижения оттока."
   ]
  }
 ],
 "metadata": {
  "ExecuteTimeLog": [
   {
    "duration": 355,
    "start_time": "2022-02-25T13:34:37.525Z"
   },
   {
    "duration": 1685,
    "start_time": "2022-02-25T13:34:49.591Z"
   },
   {
    "duration": 528,
    "start_time": "2022-02-25T13:34:51.279Z"
   },
   {
    "duration": 1555,
    "start_time": "2022-02-25T13:35:44.082Z"
   },
   {
    "duration": 29,
    "start_time": "2022-02-25T13:35:45.640Z"
   },
   {
    "duration": 22,
    "start_time": "2022-02-25T13:37:53.224Z"
   },
   {
    "duration": 20,
    "start_time": "2022-02-25T13:38:03.959Z"
   },
   {
    "duration": 6,
    "start_time": "2022-02-25T13:55:06.283Z"
   },
   {
    "duration": 502,
    "start_time": "2022-02-25T14:03:52.617Z"
   },
   {
    "duration": 440,
    "start_time": "2022-02-25T14:09:07.664Z"
   },
   {
    "duration": 422,
    "start_time": "2022-02-25T14:10:01.401Z"
   },
   {
    "duration": 303,
    "start_time": "2022-02-25T14:10:48.834Z"
   },
   {
    "duration": 6,
    "start_time": "2022-02-25T14:12:08.930Z"
   },
   {
    "duration": 359,
    "start_time": "2022-02-25T14:14:09.456Z"
   },
   {
    "duration": 14,
    "start_time": "2022-02-25T14:14:33.608Z"
   },
   {
    "duration": 13,
    "start_time": "2022-02-25T14:15:37.652Z"
   },
   {
    "duration": 97,
    "start_time": "2022-02-25T14:16:00.084Z"
   },
   {
    "duration": 97,
    "start_time": "2022-02-25T14:16:21.870Z"
   },
   {
    "duration": 90,
    "start_time": "2022-02-25T14:16:34.568Z"
   },
   {
    "duration": 14,
    "start_time": "2022-02-25T14:16:43.158Z"
   },
   {
    "duration": 20,
    "start_time": "2022-02-25T14:17:22.849Z"
   },
   {
    "duration": 20,
    "start_time": "2022-02-25T14:18:08.189Z"
   },
   {
    "duration": 22,
    "start_time": "2022-02-25T14:18:17.298Z"
   },
   {
    "duration": 29,
    "start_time": "2022-02-25T14:19:51.380Z"
   },
   {
    "duration": 20,
    "start_time": "2022-02-25T14:22:01.997Z"
   },
   {
    "duration": 22,
    "start_time": "2022-02-25T14:23:52.070Z"
   },
   {
    "duration": 102,
    "start_time": "2022-02-25T14:31:21.774Z"
   },
   {
    "duration": 334,
    "start_time": "2022-02-25T14:32:57.063Z"
   },
   {
    "duration": 23,
    "start_time": "2022-02-25T14:42:03.675Z"
   },
   {
    "duration": 18,
    "start_time": "2022-02-25T14:45:31.705Z"
   },
   {
    "duration": 36,
    "start_time": "2022-02-25T14:54:18.578Z"
   },
   {
    "duration": 105,
    "start_time": "2022-02-25T14:55:36.230Z"
   },
   {
    "duration": 19,
    "start_time": "2022-02-25T14:55:58.786Z"
   },
   {
    "duration": 34,
    "start_time": "2022-02-25T14:57:40.488Z"
   },
   {
    "duration": 20,
    "start_time": "2022-02-25T14:58:15.790Z"
   },
   {
    "duration": 25,
    "start_time": "2022-02-25T15:37:51.178Z"
   },
   {
    "duration": 27,
    "start_time": "2022-02-25T15:39:10.306Z"
   },
   {
    "duration": 28,
    "start_time": "2022-02-25T15:39:25.414Z"
   },
   {
    "duration": 31,
    "start_time": "2022-02-25T15:39:46.582Z"
   },
   {
    "duration": 31,
    "start_time": "2022-02-25T15:40:19.086Z"
   },
   {
    "duration": 1575,
    "start_time": "2022-02-25T15:42:33.542Z"
   },
   {
    "duration": 29,
    "start_time": "2022-02-25T15:42:35.120Z"
   },
   {
    "duration": 30,
    "start_time": "2022-02-25T15:42:35.153Z"
   },
   {
    "duration": 19,
    "start_time": "2022-02-25T15:42:35.185Z"
   },
   {
    "duration": 35,
    "start_time": "2022-02-25T15:42:35.206Z"
   },
   {
    "duration": 31,
    "start_time": "2022-02-25T15:43:02.279Z"
   },
   {
    "duration": 31,
    "start_time": "2022-02-25T15:44:55.380Z"
   },
   {
    "duration": 30,
    "start_time": "2022-02-25T15:46:14.984Z"
   },
   {
    "duration": 558,
    "start_time": "2022-02-25T15:46:53.154Z"
   },
   {
    "duration": 35,
    "start_time": "2022-02-25T15:47:40.358Z"
   },
   {
    "duration": 40,
    "start_time": "2022-02-25T15:48:07.082Z"
   },
   {
    "duration": 39,
    "start_time": "2022-02-25T15:49:27.705Z"
   },
   {
    "duration": 39,
    "start_time": "2022-02-25T15:50:15.069Z"
   },
   {
    "duration": 38,
    "start_time": "2022-02-25T15:52:46.959Z"
   },
   {
    "duration": 24,
    "start_time": "2022-02-25T15:59:30.602Z"
   },
   {
    "duration": 177,
    "start_time": "2022-02-25T16:00:11.689Z"
   },
   {
    "duration": 124,
    "start_time": "2022-02-25T16:01:02.700Z"
   },
   {
    "duration": 29,
    "start_time": "2022-02-25T16:01:30.111Z"
   },
   {
    "duration": 422,
    "start_time": "2022-02-25T16:02:44.539Z"
   },
   {
    "duration": 441,
    "start_time": "2022-02-25T16:04:50.645Z"
   },
   {
    "duration": 304,
    "start_time": "2022-02-25T16:05:58.239Z"
   },
   {
    "duration": 1580,
    "start_time": "2022-02-25T16:06:35.968Z"
   },
   {
    "duration": 33,
    "start_time": "2022-02-25T16:06:37.551Z"
   },
   {
    "duration": 21,
    "start_time": "2022-02-25T16:06:37.587Z"
   },
   {
    "duration": 6,
    "start_time": "2022-02-25T16:06:37.611Z"
   },
   {
    "duration": 500,
    "start_time": "2022-02-25T16:06:37.620Z"
   },
   {
    "duration": 299,
    "start_time": "2022-02-25T16:07:23.619Z"
   },
   {
    "duration": 142,
    "start_time": "2022-02-25T16:09:54.475Z"
   },
   {
    "duration": 19,
    "start_time": "2022-02-25T16:10:20.363Z"
   },
   {
    "duration": 31,
    "start_time": "2022-02-25T16:11:15.741Z"
   },
   {
    "duration": 30,
    "start_time": "2022-02-25T16:13:06.757Z"
   },
   {
    "duration": 41,
    "start_time": "2022-02-25T16:13:36.585Z"
   },
   {
    "duration": 16,
    "start_time": "2022-02-25T16:13:58.148Z"
   },
   {
    "duration": 102,
    "start_time": "2022-02-25T16:15:37.674Z"
   },
   {
    "duration": 19,
    "start_time": "2022-02-25T16:15:56.620Z"
   },
   {
    "duration": 295,
    "start_time": "2022-02-25T16:16:28.200Z"
   },
   {
    "duration": 11,
    "start_time": "2022-02-25T16:17:20.936Z"
   },
   {
    "duration": 22,
    "start_time": "2022-02-25T16:17:43.475Z"
   },
   {
    "duration": 287,
    "start_time": "2022-02-26T06:53:38.761Z"
   },
   {
    "duration": 1284,
    "start_time": "2022-02-26T06:53:54.104Z"
   },
   {
    "duration": 55,
    "start_time": "2022-02-26T06:53:55.390Z"
   },
   {
    "duration": 15,
    "start_time": "2022-02-26T06:53:55.447Z"
   },
   {
    "duration": 6,
    "start_time": "2022-02-26T06:53:55.464Z"
   },
   {
    "duration": 19,
    "start_time": "2022-02-26T06:53:55.471Z"
   },
   {
    "duration": 15,
    "start_time": "2022-02-26T06:53:55.492Z"
   },
   {
    "duration": 43,
    "start_time": "2022-02-26T06:54:35.467Z"
   },
   {
    "duration": 73,
    "start_time": "2022-02-26T06:56:44.997Z"
   },
   {
    "duration": 47,
    "start_time": "2022-02-26T06:56:53.016Z"
   },
   {
    "duration": 12,
    "start_time": "2022-02-26T07:13:47.381Z"
   },
   {
    "duration": 18,
    "start_time": "2022-02-26T07:15:21.145Z"
   },
   {
    "duration": 492,
    "start_time": "2022-02-26T07:18:39.004Z"
   },
   {
    "duration": 221,
    "start_time": "2022-02-26T07:22:28.042Z"
   },
   {
    "duration": 25,
    "start_time": "2022-02-26T07:23:18.595Z"
   },
   {
    "duration": 191,
    "start_time": "2022-02-26T07:24:25.734Z"
   },
   {
    "duration": 25,
    "start_time": "2022-02-26T07:28:07.435Z"
   },
   {
    "duration": 24,
    "start_time": "2022-02-26T07:28:23.775Z"
   },
   {
    "duration": 26,
    "start_time": "2022-02-26T07:31:56.491Z"
   },
   {
    "duration": 18,
    "start_time": "2022-02-26T07:33:32.844Z"
   },
   {
    "duration": 31,
    "start_time": "2022-02-26T07:36:11.295Z"
   },
   {
    "duration": 20,
    "start_time": "2022-02-26T07:36:54.224Z"
   },
   {
    "duration": 415,
    "start_time": "2022-02-26T07:47:31.645Z"
   },
   {
    "duration": 26,
    "start_time": "2022-02-26T07:47:56.339Z"
   },
   {
    "duration": 27,
    "start_time": "2022-02-26T07:55:10.143Z"
   },
   {
    "duration": 30,
    "start_time": "2022-02-26T07:56:08.410Z"
   },
   {
    "duration": 84,
    "start_time": "2022-02-26T07:56:26.129Z"
   },
   {
    "duration": 30,
    "start_time": "2022-02-26T07:56:32.901Z"
   },
   {
    "duration": 24,
    "start_time": "2022-02-26T07:56:47.684Z"
   },
   {
    "duration": 20,
    "start_time": "2022-02-26T07:57:54.221Z"
   },
   {
    "duration": 38,
    "start_time": "2022-02-26T08:01:13.497Z"
   },
   {
    "duration": 22,
    "start_time": "2022-02-26T08:01:56.326Z"
   },
   {
    "duration": 18,
    "start_time": "2022-02-26T08:02:18.935Z"
   },
   {
    "duration": 491,
    "start_time": "2022-02-26T08:10:48.080Z"
   },
   {
    "duration": 15,
    "start_time": "2022-02-26T08:11:09.508Z"
   },
   {
    "duration": 32,
    "start_time": "2022-02-26T08:12:46.929Z"
   },
   {
    "duration": 43,
    "start_time": "2022-02-26T08:13:11.239Z"
   },
   {
    "duration": 191,
    "start_time": "2022-02-26T08:15:00.414Z"
   },
   {
    "duration": 14,
    "start_time": "2022-02-26T08:16:44.468Z"
   },
   {
    "duration": 13,
    "start_time": "2022-02-26T08:16:52.756Z"
   },
   {
    "duration": 87,
    "start_time": "2022-02-26T08:20:11.180Z"
   },
   {
    "duration": 4,
    "start_time": "2022-02-26T08:29:55.416Z"
   },
   {
    "duration": 95467,
    "start_time": "2022-02-26T09:49:48.700Z"
   },
   {
    "duration": 46779,
    "start_time": "2022-02-26T09:52:53.810Z"
   },
   {
    "duration": 239,
    "start_time": "2022-02-26T09:54:29.720Z"
   },
   {
    "duration": 298,
    "start_time": "2022-02-26T09:54:40.153Z"
   },
   {
    "duration": 219,
    "start_time": "2022-02-26T09:56:21.274Z"
   },
   {
    "duration": 347,
    "start_time": "2022-02-26T09:57:24.341Z"
   },
   {
    "duration": 2071,
    "start_time": "2022-02-26T09:57:43.166Z"
   },
   {
    "duration": 1505,
    "start_time": "2022-02-26T09:59:50.450Z"
   },
   {
    "duration": 441,
    "start_time": "2022-02-26T10:01:52.968Z"
   },
   {
    "duration": 1540,
    "start_time": "2022-02-26T10:07:08.427Z"
   },
   {
    "duration": 1445,
    "start_time": "2022-02-26T10:07:15.783Z"
   },
   {
    "duration": 7200,
    "start_time": "2022-02-26T10:42:57.526Z"
   },
   {
    "duration": 7277,
    "start_time": "2022-02-26T10:45:04.528Z"
   },
   {
    "duration": 183,
    "start_time": "2022-02-26T10:46:21.380Z"
   },
   {
    "duration": 240,
    "start_time": "2022-02-26T10:47:11.176Z"
   },
   {
    "duration": 1151,
    "start_time": "2022-02-26T11:04:47.368Z"
   },
   {
    "duration": 27,
    "start_time": "2022-02-26T11:04:48.521Z"
   },
   {
    "duration": 13,
    "start_time": "2022-02-26T11:04:48.550Z"
   },
   {
    "duration": 4,
    "start_time": "2022-02-26T11:04:48.565Z"
   },
   {
    "duration": 12,
    "start_time": "2022-02-26T11:04:48.570Z"
   },
   {
    "duration": 2,
    "start_time": "2022-02-26T11:04:48.584Z"
   },
   {
    "duration": 461,
    "start_time": "2022-02-26T11:04:48.588Z"
   },
   {
    "duration": -1931,
    "start_time": "2022-02-26T11:04:50.981Z"
   },
   {
    "duration": 628,
    "start_time": "2022-02-26T11:06:05.464Z"
   },
   {
    "duration": 1332,
    "start_time": "2022-02-26T11:07:30.231Z"
   },
   {
    "duration": 1348,
    "start_time": "2022-02-26T11:08:05.472Z"
   },
   {
    "duration": 1187,
    "start_time": "2022-02-26T11:08:51.943Z"
   },
   {
    "duration": 1330,
    "start_time": "2022-02-26T11:08:58.950Z"
   },
   {
    "duration": 1347,
    "start_time": "2022-02-26T11:09:54.113Z"
   },
   {
    "duration": 112,
    "start_time": "2022-02-26T12:22:39.931Z"
   },
   {
    "duration": 319,
    "start_time": "2022-02-26T12:22:51.676Z"
   },
   {
    "duration": 1145,
    "start_time": "2022-02-26T12:23:10.610Z"
   },
   {
    "duration": 40,
    "start_time": "2022-02-26T12:23:11.757Z"
   },
   {
    "duration": 12,
    "start_time": "2022-02-26T12:23:11.799Z"
   },
   {
    "duration": 3,
    "start_time": "2022-02-26T12:23:11.812Z"
   },
   {
    "duration": 12,
    "start_time": "2022-02-26T12:23:11.817Z"
   },
   {
    "duration": 2,
    "start_time": "2022-02-26T12:23:11.831Z"
   },
   {
    "duration": 9135,
    "start_time": "2022-02-26T12:23:11.834Z"
   },
   {
    "duration": 69,
    "start_time": "2022-02-26T12:23:20.970Z"
   },
   {
    "duration": 5166,
    "start_time": "2022-02-26T12:24:27.142Z"
   },
   {
    "duration": 7056,
    "start_time": "2022-02-26T12:24:59.758Z"
   },
   {
    "duration": 1762,
    "start_time": "2022-02-26T12:27:37.242Z"
   },
   {
    "duration": 2139,
    "start_time": "2022-02-26T12:28:44.866Z"
   },
   {
    "duration": 3598,
    "start_time": "2022-02-26T12:30:34.417Z"
   },
   {
    "duration": 2255,
    "start_time": "2022-02-26T12:31:43.580Z"
   },
   {
    "duration": 2057,
    "start_time": "2022-02-26T12:32:27.155Z"
   },
   {
    "duration": 1483,
    "start_time": "2022-02-26T12:37:01.685Z"
   },
   {
    "duration": 1283,
    "start_time": "2022-02-26T12:38:28.901Z"
   },
   {
    "duration": 1470,
    "start_time": "2022-02-26T12:39:08.269Z"
   },
   {
    "duration": 1405,
    "start_time": "2022-02-26T12:41:41.330Z"
   },
   {
    "duration": 2541,
    "start_time": "2022-02-26T12:44:46.528Z"
   },
   {
    "duration": 1342,
    "start_time": "2022-02-26T12:46:29.753Z"
   },
   {
    "duration": 2200,
    "start_time": "2022-02-26T12:49:34.827Z"
   },
   {
    "duration": 2161,
    "start_time": "2022-02-26T12:50:03.024Z"
   },
   {
    "duration": 1977,
    "start_time": "2022-02-26T12:51:03.524Z"
   },
   {
    "duration": 2087,
    "start_time": "2022-02-26T12:52:05.307Z"
   },
   {
    "duration": 437,
    "start_time": "2022-02-26T12:54:40.641Z"
   },
   {
    "duration": 1082,
    "start_time": "2022-02-26T12:55:09.738Z"
   },
   {
    "duration": 25,
    "start_time": "2022-02-26T12:55:10.821Z"
   },
   {
    "duration": 12,
    "start_time": "2022-02-26T12:55:10.849Z"
   },
   {
    "duration": 7,
    "start_time": "2022-02-26T12:55:10.863Z"
   },
   {
    "duration": 26,
    "start_time": "2022-02-26T12:55:10.871Z"
   },
   {
    "duration": 10,
    "start_time": "2022-02-26T12:55:10.898Z"
   },
   {
    "duration": 583,
    "start_time": "2022-02-26T12:55:10.910Z"
   },
   {
    "duration": 101,
    "start_time": "2022-02-26T12:55:11.394Z"
   },
   {
    "duration": 396,
    "start_time": "2022-02-26T12:56:31.631Z"
   },
   {
    "duration": 468,
    "start_time": "2022-02-26T12:56:48.818Z"
   },
   {
    "duration": 396,
    "start_time": "2022-02-26T12:58:32.139Z"
   },
   {
    "duration": 516,
    "start_time": "2022-02-26T12:58:59.077Z"
   },
   {
    "duration": 470,
    "start_time": "2022-02-26T13:01:13.046Z"
   },
   {
    "duration": 1858,
    "start_time": "2022-02-26T13:01:42.724Z"
   },
   {
    "duration": 2,
    "start_time": "2022-02-26T13:39:31.252Z"
   },
   {
    "duration": 885,
    "start_time": "2022-02-26T13:45:57.106Z"
   },
   {
    "duration": 1041,
    "start_time": "2022-02-26T13:48:34.718Z"
   },
   {
    "duration": 842,
    "start_time": "2022-02-26T13:54:04.939Z"
   },
   {
    "duration": 1103,
    "start_time": "2022-02-26T13:54:55.465Z"
   },
   {
    "duration": 1451,
    "start_time": "2022-02-26T13:55:18.143Z"
   },
   {
    "duration": 1124,
    "start_time": "2022-02-26T14:00:54.935Z"
   },
   {
    "duration": 1365,
    "start_time": "2022-02-26T14:12:18.462Z"
   },
   {
    "duration": 7,
    "start_time": "2022-02-26T14:42:58.263Z"
   },
   {
    "duration": 12,
    "start_time": "2022-02-26T14:43:19.948Z"
   },
   {
    "duration": 9,
    "start_time": "2022-02-26T14:43:46.946Z"
   },
   {
    "duration": 256,
    "start_time": "2022-02-26T14:47:38.532Z"
   },
   {
    "duration": 45,
    "start_time": "2022-02-26T14:48:16.173Z"
   },
   {
    "duration": 592,
    "start_time": "2022-02-26T14:49:26.101Z"
   },
   {
    "duration": 89,
    "start_time": "2022-02-26T14:49:47.245Z"
   },
   {
    "duration": 6730,
    "start_time": "2022-02-26T14:50:39.604Z"
   },
   {
    "duration": 9,
    "start_time": "2022-02-26T14:52:05.202Z"
   },
   {
    "duration": 8,
    "start_time": "2022-02-26T14:54:46.804Z"
   },
   {
    "duration": 10,
    "start_time": "2022-02-26T14:54:52.802Z"
   },
   {
    "duration": 10,
    "start_time": "2022-02-26T14:55:53.908Z"
   },
   {
    "duration": 8,
    "start_time": "2022-02-26T14:57:58.605Z"
   },
   {
    "duration": 297,
    "start_time": "2022-02-26T14:58:10.984Z"
   },
   {
    "duration": 9,
    "start_time": "2022-02-26T14:58:15.109Z"
   },
   {
    "duration": 9,
    "start_time": "2022-02-26T14:58:27.785Z"
   },
   {
    "duration": 263,
    "start_time": "2022-02-26T14:59:16.820Z"
   },
   {
    "duration": 299,
    "start_time": "2022-02-26T14:59:26.008Z"
   },
   {
    "duration": 266,
    "start_time": "2022-02-26T15:00:37.862Z"
   },
   {
    "duration": 257,
    "start_time": "2022-02-26T15:04:48.910Z"
   },
   {
    "duration": 15,
    "start_time": "2022-02-26T15:05:15.306Z"
   },
   {
    "duration": 17,
    "start_time": "2022-02-26T15:06:54.463Z"
   },
   {
    "duration": 5,
    "start_time": "2022-02-26T15:07:03.091Z"
   },
   {
    "duration": 118275,
    "start_time": "2022-02-26T15:14:13.331Z"
   },
   {
    "duration": 229,
    "start_time": "2022-02-28T07:30:07.035Z"
   },
   {
    "duration": 1221,
    "start_time": "2022-02-28T07:30:25.012Z"
   },
   {
    "duration": 21,
    "start_time": "2022-02-28T07:30:26.235Z"
   },
   {
    "duration": 13,
    "start_time": "2022-02-28T07:30:26.258Z"
   },
   {
    "duration": 4,
    "start_time": "2022-02-28T07:30:26.273Z"
   },
   {
    "duration": 12,
    "start_time": "2022-02-28T07:30:26.279Z"
   },
   {
    "duration": 2,
    "start_time": "2022-02-28T07:30:26.293Z"
   },
   {
    "duration": 2058,
    "start_time": "2022-02-28T07:30:26.297Z"
   },
   {
    "duration": 1584,
    "start_time": "2022-02-28T07:30:28.357Z"
   },
   {
    "duration": 4872,
    "start_time": "2022-02-28T07:30:29.943Z"
   },
   {
    "duration": -2843,
    "start_time": "2022-02-28T07:30:37.660Z"
   },
   {
    "duration": -2866,
    "start_time": "2022-02-28T07:30:37.684Z"
   },
   {
    "duration": 44,
    "start_time": "2022-02-28T07:31:33.024Z"
   },
   {
    "duration": 307,
    "start_time": "2022-02-28T07:38:43.274Z"
   },
   {
    "duration": 134,
    "start_time": "2022-02-28T07:44:43.213Z"
   },
   {
    "duration": 670,
    "start_time": "2022-02-28T07:46:28.944Z"
   },
   {
    "duration": 227,
    "start_time": "2022-02-28T07:50:10.878Z"
   },
   {
    "duration": 177,
    "start_time": "2022-02-28T07:50:23.859Z"
   },
   {
    "duration": 179,
    "start_time": "2022-02-28T07:50:41.832Z"
   },
   {
    "duration": 181,
    "start_time": "2022-02-28T07:50:57.802Z"
   },
   {
    "duration": 22,
    "start_time": "2022-02-28T07:53:28.437Z"
   },
   {
    "duration": 65,
    "start_time": "2022-02-28T07:55:45.162Z"
   },
   {
    "duration": 67,
    "start_time": "2022-02-28T07:56:00.339Z"
   },
   {
    "duration": 22,
    "start_time": "2022-02-28T07:58:27.134Z"
   },
   {
    "duration": 23,
    "start_time": "2022-02-28T07:59:36.975Z"
   },
   {
    "duration": 1154,
    "start_time": "2022-02-28T08:19:37.258Z"
   },
   {
    "duration": 26,
    "start_time": "2022-02-28T08:19:38.414Z"
   },
   {
    "duration": 14,
    "start_time": "2022-02-28T08:19:38.442Z"
   },
   {
    "duration": 4,
    "start_time": "2022-02-28T08:19:38.458Z"
   },
   {
    "duration": 10,
    "start_time": "2022-02-28T08:19:38.464Z"
   },
   {
    "duration": 2,
    "start_time": "2022-02-28T08:19:38.476Z"
   },
   {
    "duration": 2115,
    "start_time": "2022-02-28T08:19:38.480Z"
   },
   {
    "duration": 1611,
    "start_time": "2022-02-28T08:19:40.596Z"
   },
   {
    "duration": 25,
    "start_time": "2022-02-28T08:19:42.209Z"
   },
   {
    "duration": 5,
    "start_time": "2022-02-28T08:19:42.236Z"
   },
   {
    "duration": 47154,
    "start_time": "2022-02-28T08:19:42.242Z"
   },
   {
    "duration": 2508,
    "start_time": "2022-02-28T08:31:39.154Z"
   },
   {
    "duration": 2275,
    "start_time": "2022-02-28T08:32:46.517Z"
   },
   {
    "duration": 2360,
    "start_time": "2022-02-28T08:33:07.508Z"
   },
   {
    "duration": 2008,
    "start_time": "2022-02-28T08:33:27.430Z"
   },
   {
    "duration": 1275,
    "start_time": "2022-02-28T08:34:23.300Z"
   },
   {
    "duration": 3196,
    "start_time": "2022-02-28T08:37:00.998Z"
   },
   {
    "duration": 1553,
    "start_time": "2022-02-28T08:37:29.952Z"
   },
   {
    "duration": 1862,
    "start_time": "2022-02-28T08:38:23.436Z"
   },
   {
    "duration": 4,
    "start_time": "2022-02-28T08:47:02.419Z"
   },
   {
    "duration": 5,
    "start_time": "2022-02-28T08:47:25.588Z"
   },
   {
    "duration": 16,
    "start_time": "2022-02-28T08:48:13.925Z"
   },
   {
    "duration": 11,
    "start_time": "2022-02-28T08:48:25.136Z"
   },
   {
    "duration": 11,
    "start_time": "2022-02-28T08:50:21.035Z"
   },
   {
    "duration": 12,
    "start_time": "2022-02-28T08:51:15.458Z"
   },
   {
    "duration": 62,
    "start_time": "2022-02-28T08:53:18.603Z"
   },
   {
    "duration": 13,
    "start_time": "2022-02-28T08:53:30.490Z"
   },
   {
    "duration": 12,
    "start_time": "2022-02-28T08:53:57.533Z"
   },
   {
    "duration": 1302,
    "start_time": "2022-02-28T09:26:51.788Z"
   },
   {
    "duration": 1332,
    "start_time": "2022-02-28T09:27:20.121Z"
   },
   {
    "duration": 1253,
    "start_time": "2022-02-28T09:28:49.320Z"
   },
   {
    "duration": 1305,
    "start_time": "2022-02-28T09:29:22.944Z"
   },
   {
    "duration": 1215,
    "start_time": "2022-02-28T09:30:14.428Z"
   },
   {
    "duration": 1335,
    "start_time": "2022-02-28T09:35:32.087Z"
   },
   {
    "duration": 157,
    "start_time": "2022-02-28T09:41:01.890Z"
   },
   {
    "duration": 1028,
    "start_time": "2022-02-28T09:42:14.709Z"
   },
   {
    "duration": 906,
    "start_time": "2022-02-28T09:43:35.647Z"
   },
   {
    "duration": 994,
    "start_time": "2022-02-28T09:45:36.083Z"
   },
   {
    "duration": 1563,
    "start_time": "2022-02-28T09:48:44.228Z"
   },
   {
    "duration": 929,
    "start_time": "2022-02-28T09:52:59.194Z"
   },
   {
    "duration": 876,
    "start_time": "2022-02-28T09:53:58.339Z"
   },
   {
    "duration": 58,
    "start_time": "2022-02-28T09:57:22.744Z"
   },
   {
    "duration": 3042,
    "start_time": "2022-02-28T09:57:45.320Z"
   },
   {
    "duration": 1125,
    "start_time": "2022-02-28T09:58:55.090Z"
   },
   {
    "duration": 21,
    "start_time": "2022-02-28T09:58:56.217Z"
   },
   {
    "duration": 13,
    "start_time": "2022-02-28T09:58:56.239Z"
   },
   {
    "duration": 6,
    "start_time": "2022-02-28T09:58:56.255Z"
   },
   {
    "duration": 17,
    "start_time": "2022-02-28T09:58:56.263Z"
   },
   {
    "duration": 3,
    "start_time": "2022-02-28T09:58:56.282Z"
   },
   {
    "duration": 1891,
    "start_time": "2022-02-28T09:58:56.286Z"
   },
   {
    "duration": 1413,
    "start_time": "2022-02-28T09:58:58.179Z"
   },
   {
    "duration": 25,
    "start_time": "2022-02-28T09:58:59.594Z"
   },
   {
    "duration": 21,
    "start_time": "2022-02-28T09:58:59.621Z"
   },
   {
    "duration": 2889,
    "start_time": "2022-02-28T09:58:59.643Z"
   },
   {
    "duration": 1341,
    "start_time": "2022-02-28T09:59:02.534Z"
   },
   {
    "duration": 4,
    "start_time": "2022-02-28T10:18:51.210Z"
   },
   {
    "duration": 12,
    "start_time": "2022-02-28T10:19:21.439Z"
   },
   {
    "duration": 1642,
    "start_time": "2022-02-28T10:23:43.860Z"
   },
   {
    "duration": 1435,
    "start_time": "2022-02-28T10:24:54.522Z"
   },
   {
    "duration": 1851,
    "start_time": "2022-02-28T10:25:20.130Z"
   },
   {
    "duration": 1439,
    "start_time": "2022-02-28T10:25:36.989Z"
   },
   {
    "duration": 1570,
    "start_time": "2022-02-28T10:26:35.625Z"
   },
   {
    "duration": 1462,
    "start_time": "2022-02-28T10:27:15.371Z"
   },
   {
    "duration": 1261,
    "start_time": "2022-02-28T10:29:30.587Z"
   },
   {
    "duration": 2052,
    "start_time": "2022-02-28T10:30:02.657Z"
   },
   {
    "duration": 1643,
    "start_time": "2022-02-28T10:30:42.828Z"
   },
   {
    "duration": 1859,
    "start_time": "2022-02-28T10:31:02.124Z"
   },
   {
    "duration": 1510,
    "start_time": "2022-02-28T10:38:08.851Z"
   },
   {
    "duration": 1638,
    "start_time": "2022-02-28T10:43:30.674Z"
   },
   {
    "duration": 1551,
    "start_time": "2022-02-28T10:47:12.197Z"
   },
   {
    "duration": 2536,
    "start_time": "2022-02-28T10:48:45.656Z"
   },
   {
    "duration": 2828,
    "start_time": "2022-02-28T10:49:52.115Z"
   },
   {
    "duration": 2560,
    "start_time": "2022-02-28T10:50:14.955Z"
   },
   {
    "duration": 2006,
    "start_time": "2022-02-28T10:50:30.448Z"
   },
   {
    "duration": 3231,
    "start_time": "2022-02-28T10:50:52.833Z"
   },
   {
    "duration": 3961,
    "start_time": "2022-02-28T10:51:42.104Z"
   },
   {
    "duration": 3613,
    "start_time": "2022-02-28T10:52:08.909Z"
   },
   {
    "duration": 3587,
    "start_time": "2022-02-28T10:53:26.884Z"
   },
   {
    "duration": 3059,
    "start_time": "2022-02-28T10:54:14.359Z"
   },
   {
    "duration": 2601,
    "start_time": "2022-02-28T10:54:54.424Z"
   },
   {
    "duration": 3853,
    "start_time": "2022-02-28T10:55:15.738Z"
   },
   {
    "duration": 3292,
    "start_time": "2022-02-28T10:56:07.459Z"
   },
   {
    "duration": 4345,
    "start_time": "2022-02-28T10:59:12.379Z"
   },
   {
    "duration": 4190,
    "start_time": "2022-02-28T10:59:39.613Z"
   },
   {
    "duration": 4500,
    "start_time": "2022-02-28T10:59:53.546Z"
   },
   {
    "duration": 3406,
    "start_time": "2022-02-28T11:01:13.364Z"
   },
   {
    "duration": 3379,
    "start_time": "2022-02-28T11:01:37.004Z"
   },
   {
    "duration": 3367,
    "start_time": "2022-02-28T11:01:53.955Z"
   },
   {
    "duration": 3551,
    "start_time": "2022-02-28T11:03:47.284Z"
   },
   {
    "duration": 3449,
    "start_time": "2022-02-28T11:04:09.209Z"
   },
   {
    "duration": 35,
    "start_time": "2022-02-28T11:11:59.075Z"
   },
   {
    "duration": 38,
    "start_time": "2022-02-28T11:12:13.867Z"
   },
   {
    "duration": 42,
    "start_time": "2022-02-28T11:12:41.540Z"
   },
   {
    "duration": 41,
    "start_time": "2022-02-28T11:13:00.106Z"
   },
   {
    "duration": 62,
    "start_time": "2022-02-28T11:14:54.829Z"
   },
   {
    "duration": 42,
    "start_time": "2022-02-28T11:15:04.847Z"
   },
   {
    "duration": 33,
    "start_time": "2022-02-28T11:16:09.734Z"
   },
   {
    "duration": 41,
    "start_time": "2022-02-28T11:16:16.601Z"
   },
   {
    "duration": 1154,
    "start_time": "2022-02-28T11:17:27.374Z"
   },
   {
    "duration": 20,
    "start_time": "2022-02-28T11:17:28.529Z"
   },
   {
    "duration": 13,
    "start_time": "2022-02-28T11:17:28.552Z"
   },
   {
    "duration": 3,
    "start_time": "2022-02-28T11:17:28.567Z"
   },
   {
    "duration": 19,
    "start_time": "2022-02-28T11:17:28.572Z"
   },
   {
    "duration": 3,
    "start_time": "2022-02-28T11:17:28.592Z"
   },
   {
    "duration": 2007,
    "start_time": "2022-02-28T11:17:28.597Z"
   },
   {
    "duration": 1440,
    "start_time": "2022-02-28T11:17:30.607Z"
   },
   {
    "duration": 23,
    "start_time": "2022-02-28T11:17:32.049Z"
   },
   {
    "duration": 3349,
    "start_time": "2022-02-28T11:17:32.074Z"
   },
   {
    "duration": 49,
    "start_time": "2022-02-28T11:17:35.424Z"
   },
   {
    "duration": 53,
    "start_time": "2022-02-28T11:19:31.727Z"
   },
   {
    "duration": 53,
    "start_time": "2022-02-28T11:19:37.837Z"
   },
   {
    "duration": 5200,
    "start_time": "2022-02-28T11:23:04.661Z"
   },
   {
    "duration": 13,
    "start_time": "2022-02-28T11:24:30.649Z"
   },
   {
    "duration": 185,
    "start_time": "2022-02-28T11:25:38.770Z"
   },
   {
    "duration": 199,
    "start_time": "2022-02-28T11:26:04.287Z"
   },
   {
    "duration": 213,
    "start_time": "2022-02-28T11:26:28.037Z"
   },
   {
    "duration": 448,
    "start_time": "2022-02-28T11:27:01.306Z"
   },
   {
    "duration": 179,
    "start_time": "2022-02-28T11:27:40.727Z"
   },
   {
    "duration": 181,
    "start_time": "2022-02-28T11:28:03.601Z"
   },
   {
    "duration": 206,
    "start_time": "2022-02-28T11:28:26.942Z"
   },
   {
    "duration": 273,
    "start_time": "2022-02-28T11:28:48.377Z"
   },
   {
    "duration": 1072,
    "start_time": "2022-02-28T11:30:40.260Z"
   },
   {
    "duration": 280,
    "start_time": "2022-02-28T11:30:54.594Z"
   },
   {
    "duration": 14,
    "start_time": "2022-02-28T11:31:29.790Z"
   },
   {
    "duration": 2028,
    "start_time": "2022-02-28T11:32:56.088Z"
   },
   {
    "duration": 2000,
    "start_time": "2022-02-28T11:33:27.903Z"
   },
   {
    "duration": 199,
    "start_time": "2022-02-28T11:44:13.443Z"
   },
   {
    "duration": 6,
    "start_time": "2022-02-28T11:44:25.738Z"
   },
   {
    "duration": 5,
    "start_time": "2022-02-28T11:44:51.077Z"
   },
   {
    "duration": 443,
    "start_time": "2022-02-28T11:47:03.930Z"
   },
   {
    "duration": 6,
    "start_time": "2022-02-28T11:47:10.370Z"
   },
   {
    "duration": 189,
    "start_time": "2022-02-28T11:52:47.050Z"
   },
   {
    "duration": 758,
    "start_time": "2022-02-28T11:53:05.385Z"
   },
   {
    "duration": 61,
    "start_time": "2022-02-28T11:53:15.143Z"
   },
   {
    "duration": 43,
    "start_time": "2022-02-28T11:54:10.276Z"
   },
   {
    "duration": 1019,
    "start_time": "2022-02-28T12:22:32.701Z"
   },
   {
    "duration": 1082,
    "start_time": "2022-02-28T12:26:41.660Z"
   },
   {
    "duration": 1504,
    "start_time": "2022-02-28T12:27:00.888Z"
   },
   {
    "duration": 385,
    "start_time": "2022-02-28T12:27:23.175Z"
   },
   {
    "duration": 501,
    "start_time": "2022-02-28T12:33:52.891Z"
   },
   {
    "duration": 187,
    "start_time": "2022-02-28T12:36:07.126Z"
   },
   {
    "duration": 1196,
    "start_time": "2022-02-28T12:36:23.020Z"
   },
   {
    "duration": 21,
    "start_time": "2022-02-28T12:36:24.218Z"
   },
   {
    "duration": 14,
    "start_time": "2022-02-28T12:36:24.241Z"
   },
   {
    "duration": 3,
    "start_time": "2022-02-28T12:36:24.257Z"
   },
   {
    "duration": 13,
    "start_time": "2022-02-28T12:36:24.261Z"
   },
   {
    "duration": 3,
    "start_time": "2022-02-28T12:36:24.276Z"
   },
   {
    "duration": 1909,
    "start_time": "2022-02-28T12:36:24.281Z"
   },
   {
    "duration": 1495,
    "start_time": "2022-02-28T12:36:26.193Z"
   },
   {
    "duration": 24,
    "start_time": "2022-02-28T12:36:27.689Z"
   },
   {
    "duration": 3394,
    "start_time": "2022-02-28T12:36:27.714Z"
   },
   {
    "duration": 26,
    "start_time": "2022-02-28T12:36:31.110Z"
   },
   {
    "duration": 49,
    "start_time": "2022-02-28T12:36:31.138Z"
   },
   {
    "duration": 294,
    "start_time": "2022-02-28T12:36:31.189Z"
   },
   {
    "duration": 423,
    "start_time": "2022-02-28T12:37:08.461Z"
   },
   {
    "duration": 1047,
    "start_time": "2022-02-28T12:37:32.781Z"
   },
   {
    "duration": 1103,
    "start_time": "2022-02-28T12:37:54.781Z"
   },
   {
    "duration": 1085,
    "start_time": "2022-02-28T12:38:03.534Z"
   },
   {
    "duration": 1090,
    "start_time": "2022-02-28T12:38:09.680Z"
   },
   {
    "duration": 1075,
    "start_time": "2022-02-28T12:38:26.052Z"
   },
   {
    "duration": 1203,
    "start_time": "2022-02-28T12:38:37.617Z"
   },
   {
    "duration": 1040,
    "start_time": "2022-02-28T12:38:52.544Z"
   },
   {
    "duration": 1022,
    "start_time": "2022-02-28T12:42:07.790Z"
   },
   {
    "duration": 1151,
    "start_time": "2022-02-28T12:42:26.791Z"
   },
   {
    "duration": 7,
    "start_time": "2022-02-28T13:08:47.888Z"
   },
   {
    "duration": 13,
    "start_time": "2022-02-28T13:13:55.927Z"
   },
   {
    "duration": 12,
    "start_time": "2022-02-28T13:14:56.113Z"
   },
   {
    "duration": 15,
    "start_time": "2022-02-28T13:15:25.773Z"
   },
   {
    "duration": 184,
    "start_time": "2022-02-28T13:18:56.977Z"
   },
   {
    "duration": 13,
    "start_time": "2022-02-28T13:19:45.895Z"
   },
   {
    "duration": 5036,
    "start_time": "2022-02-28T13:25:44.423Z"
   },
   {
    "duration": 14,
    "start_time": "2022-02-28T13:26:03.686Z"
   },
   {
    "duration": 15,
    "start_time": "2022-02-28T13:34:58.973Z"
   },
   {
    "duration": 9,
    "start_time": "2022-02-28T13:35:26.654Z"
   },
   {
    "duration": 13,
    "start_time": "2022-02-28T13:35:36.940Z"
   },
   {
    "duration": 14,
    "start_time": "2022-02-28T13:36:26.749Z"
   },
   {
    "duration": 17,
    "start_time": "2022-02-28T13:36:37.151Z"
   },
   {
    "duration": 202,
    "start_time": "2022-02-28T13:38:23.819Z"
   },
   {
    "duration": 17,
    "start_time": "2022-02-28T13:38:53.020Z"
   },
   {
    "duration": 190,
    "start_time": "2022-02-28T13:41:11.405Z"
   },
   {
    "duration": 53,
    "start_time": "2022-02-28T13:41:49.345Z"
   },
   {
    "duration": 994,
    "start_time": "2022-02-28T13:42:50.373Z"
   },
   {
    "duration": 1014,
    "start_time": "2022-02-28T13:46:33.054Z"
   },
   {
    "duration": 1153,
    "start_time": "2022-02-28T13:47:30.347Z"
   },
   {
    "duration": 998,
    "start_time": "2022-02-28T13:47:46.067Z"
   },
   {
    "duration": 1151,
    "start_time": "2022-02-28T13:48:17.800Z"
   },
   {
    "duration": 1153,
    "start_time": "2022-02-28T13:49:26.045Z"
   },
   {
    "duration": 25,
    "start_time": "2022-02-28T13:49:27.200Z"
   },
   {
    "duration": 17,
    "start_time": "2022-02-28T13:49:27.227Z"
   },
   {
    "duration": 6,
    "start_time": "2022-02-28T13:49:27.246Z"
   },
   {
    "duration": 10,
    "start_time": "2022-02-28T13:49:27.254Z"
   },
   {
    "duration": 3,
    "start_time": "2022-02-28T13:49:27.265Z"
   },
   {
    "duration": 1820,
    "start_time": "2022-02-28T13:49:27.270Z"
   },
   {
    "duration": 1451,
    "start_time": "2022-02-28T13:49:29.093Z"
   },
   {
    "duration": 25,
    "start_time": "2022-02-28T13:49:30.546Z"
   },
   {
    "duration": 3422,
    "start_time": "2022-02-28T13:49:30.574Z"
   },
   {
    "duration": 15,
    "start_time": "2022-02-28T13:49:33.998Z"
   },
   {
    "duration": 1074,
    "start_time": "2022-02-28T13:49:34.015Z"
   },
   {
    "duration": 1146,
    "start_time": "2022-02-28T13:49:35.091Z"
   },
   {
    "duration": 1019,
    "start_time": "2022-02-28T13:51:59.316Z"
   },
   {
    "duration": 877,
    "start_time": "2022-02-28T14:10:28.240Z"
   },
   {
    "duration": 1137,
    "start_time": "2022-02-28T14:10:50.684Z"
   },
   {
    "duration": 21,
    "start_time": "2022-02-28T14:10:51.822Z"
   },
   {
    "duration": 13,
    "start_time": "2022-02-28T14:10:51.845Z"
   },
   {
    "duration": 4,
    "start_time": "2022-02-28T14:10:51.860Z"
   },
   {
    "duration": 16,
    "start_time": "2022-02-28T14:10:51.865Z"
   },
   {
    "duration": 3,
    "start_time": "2022-02-28T14:10:51.883Z"
   },
   {
    "duration": 1899,
    "start_time": "2022-02-28T14:10:51.887Z"
   },
   {
    "duration": 1462,
    "start_time": "2022-02-28T14:10:53.788Z"
   },
   {
    "duration": 24,
    "start_time": "2022-02-28T14:10:55.253Z"
   },
   {
    "duration": 3360,
    "start_time": "2022-02-28T14:10:55.279Z"
   },
   {
    "duration": 12,
    "start_time": "2022-02-28T14:10:58.641Z"
   },
   {
    "duration": 903,
    "start_time": "2022-02-28T14:10:58.655Z"
   },
   {
    "duration": 1150,
    "start_time": "2022-02-28T14:10:59.560Z"
   },
   {
    "duration": 866,
    "start_time": "2022-02-28T14:13:18.452Z"
   },
   {
    "duration": 877,
    "start_time": "2022-02-28T14:13:33.428Z"
   },
   {
    "duration": 1500,
    "start_time": "2022-02-28T14:18:33.511Z"
   },
   {
    "duration": 28,
    "start_time": "2022-02-28T14:18:35.014Z"
   },
   {
    "duration": 23,
    "start_time": "2022-02-28T14:18:35.044Z"
   },
   {
    "duration": 4,
    "start_time": "2022-02-28T14:18:35.069Z"
   },
   {
    "duration": 14,
    "start_time": "2022-02-28T14:18:35.075Z"
   },
   {
    "duration": 4,
    "start_time": "2022-02-28T14:18:35.091Z"
   },
   {
    "duration": 1889,
    "start_time": "2022-02-28T14:18:35.097Z"
   },
   {
    "duration": 1450,
    "start_time": "2022-02-28T14:18:36.987Z"
   },
   {
    "duration": 26,
    "start_time": "2022-02-28T14:18:38.440Z"
   },
   {
    "duration": 3389,
    "start_time": "2022-02-28T14:18:38.468Z"
   },
   {
    "duration": 13,
    "start_time": "2022-02-28T14:18:41.859Z"
   },
   {
    "duration": 903,
    "start_time": "2022-02-28T14:18:41.873Z"
   },
   {
    "duration": 1136,
    "start_time": "2022-02-28T14:18:42.778Z"
   },
   {
    "duration": 1730,
    "start_time": "2022-02-28T14:19:19.063Z"
   },
   {
    "duration": 283,
    "start_time": "2022-02-28T14:48:31.257Z"
   },
   {
    "duration": 1152,
    "start_time": "2022-02-28T14:49:01.161Z"
   },
   {
    "duration": 26,
    "start_time": "2022-02-28T14:49:02.315Z"
   },
   {
    "duration": 14,
    "start_time": "2022-02-28T14:49:02.344Z"
   },
   {
    "duration": 4,
    "start_time": "2022-02-28T14:49:02.360Z"
   },
   {
    "duration": 15,
    "start_time": "2022-02-28T14:49:02.366Z"
   },
   {
    "duration": 4,
    "start_time": "2022-02-28T14:49:02.383Z"
   },
   {
    "duration": 1906,
    "start_time": "2022-02-28T14:49:02.388Z"
   },
   {
    "duration": 1442,
    "start_time": "2022-02-28T14:49:04.296Z"
   },
   {
    "duration": 24,
    "start_time": "2022-02-28T14:49:05.739Z"
   },
   {
    "duration": 3418,
    "start_time": "2022-02-28T14:49:05.765Z"
   },
   {
    "duration": 13,
    "start_time": "2022-02-28T14:49:09.184Z"
   },
   {
    "duration": 923,
    "start_time": "2022-02-28T14:49:09.199Z"
   },
   {
    "duration": 1165,
    "start_time": "2022-02-28T14:49:10.124Z"
   },
   {
    "duration": 7,
    "start_time": "2022-02-28T14:49:11.291Z"
   },
   {
    "duration": 7,
    "start_time": "2022-02-28T14:49:11.299Z"
   },
   {
    "duration": 430,
    "start_time": "2022-02-28T14:49:11.307Z"
   },
   {
    "duration": 289,
    "start_time": "2022-02-28T14:51:21.911Z"
   },
   {
    "duration": 61,
    "start_time": "2022-02-28T14:52:46.614Z"
   },
   {
    "duration": 57,
    "start_time": "2022-02-28T14:52:53.433Z"
   },
   {
    "duration": 62,
    "start_time": "2022-02-28T14:53:03.689Z"
   },
   {
    "duration": 59,
    "start_time": "2022-02-28T14:53:41.559Z"
   },
   {
    "duration": 32,
    "start_time": "2022-02-28T14:56:16.615Z"
   },
   {
    "duration": 30,
    "start_time": "2022-02-28T15:03:25.515Z"
   },
   {
    "duration": 13,
    "start_time": "2022-02-28T15:12:12.294Z"
   },
   {
    "duration": 10,
    "start_time": "2022-02-28T15:50:55.000Z"
   },
   {
    "duration": 207,
    "start_time": "2022-02-28T15:51:59.453Z"
   },
   {
    "duration": 1148,
    "start_time": "2022-02-28T15:52:25.861Z"
   },
   {
    "duration": 22,
    "start_time": "2022-02-28T15:52:27.010Z"
   },
   {
    "duration": 14,
    "start_time": "2022-02-28T15:52:27.034Z"
   },
   {
    "duration": 5,
    "start_time": "2022-02-28T15:52:27.049Z"
   },
   {
    "duration": 12,
    "start_time": "2022-02-28T15:52:27.056Z"
   },
   {
    "duration": 2,
    "start_time": "2022-02-28T15:52:27.070Z"
   },
   {
    "duration": 1900,
    "start_time": "2022-02-28T15:52:27.074Z"
   },
   {
    "duration": 1462,
    "start_time": "2022-02-28T15:52:28.977Z"
   },
   {
    "duration": 26,
    "start_time": "2022-02-28T15:52:30.441Z"
   },
   {
    "duration": 3410,
    "start_time": "2022-02-28T15:52:30.469Z"
   },
   {
    "duration": 15,
    "start_time": "2022-02-28T15:52:33.881Z"
   },
   {
    "duration": 897,
    "start_time": "2022-02-28T15:52:33.898Z"
   },
   {
    "duration": 1181,
    "start_time": "2022-02-28T15:52:34.797Z"
   },
   {
    "duration": 9,
    "start_time": "2022-02-28T15:52:35.980Z"
   },
   {
    "duration": 9,
    "start_time": "2022-02-28T15:52:35.990Z"
   },
   {
    "duration": 37,
    "start_time": "2022-02-28T15:52:36.000Z"
   },
   {
    "duration": 402,
    "start_time": "2022-02-28T15:52:36.040Z"
   },
   {
    "duration": -352,
    "start_time": "2022-02-28T15:52:36.796Z"
   },
   {
    "duration": -366,
    "start_time": "2022-02-28T15:52:36.811Z"
   },
   {
    "duration": 1129,
    "start_time": "2022-02-28T15:54:29.091Z"
   },
   {
    "duration": 23,
    "start_time": "2022-02-28T15:54:30.222Z"
   },
   {
    "duration": 14,
    "start_time": "2022-02-28T15:54:30.248Z"
   },
   {
    "duration": 6,
    "start_time": "2022-02-28T15:54:30.264Z"
   },
   {
    "duration": 12,
    "start_time": "2022-02-28T15:54:30.271Z"
   },
   {
    "duration": 4,
    "start_time": "2022-02-28T15:54:30.284Z"
   },
   {
    "duration": 1913,
    "start_time": "2022-02-28T15:54:30.290Z"
   },
   {
    "duration": 1508,
    "start_time": "2022-02-28T15:54:32.206Z"
   },
   {
    "duration": 37,
    "start_time": "2022-02-28T15:54:33.716Z"
   },
   {
    "duration": 3386,
    "start_time": "2022-02-28T15:54:33.755Z"
   },
   {
    "duration": 15,
    "start_time": "2022-02-28T15:54:37.143Z"
   },
   {
    "duration": 912,
    "start_time": "2022-02-28T15:54:37.160Z"
   },
   {
    "duration": 1152,
    "start_time": "2022-02-28T15:54:38.075Z"
   },
   {
    "duration": 8,
    "start_time": "2022-02-28T15:54:39.232Z"
   },
   {
    "duration": 11,
    "start_time": "2022-02-28T15:54:39.241Z"
   },
   {
    "duration": 82,
    "start_time": "2022-02-28T15:54:39.254Z"
   },
   {
    "duration": 1047,
    "start_time": "2022-02-28T15:54:39.338Z"
   },
   {
    "duration": -358,
    "start_time": "2022-02-28T15:54:40.745Z"
   },
   {
    "duration": -364,
    "start_time": "2022-02-28T15:54:40.753Z"
   },
   {
    "duration": 1197,
    "start_time": "2022-02-28T16:08:37.825Z"
   },
   {
    "duration": 22,
    "start_time": "2022-02-28T16:08:39.024Z"
   },
   {
    "duration": 15,
    "start_time": "2022-02-28T16:08:39.048Z"
   },
   {
    "duration": 4,
    "start_time": "2022-02-28T16:08:39.066Z"
   },
   {
    "duration": 16,
    "start_time": "2022-02-28T16:08:39.071Z"
   },
   {
    "duration": 3,
    "start_time": "2022-02-28T16:08:39.088Z"
   },
   {
    "duration": 1967,
    "start_time": "2022-02-28T16:08:39.092Z"
   },
   {
    "duration": 1457,
    "start_time": "2022-02-28T16:08:41.061Z"
   },
   {
    "duration": 30,
    "start_time": "2022-02-28T16:08:42.520Z"
   },
   {
    "duration": 3535,
    "start_time": "2022-02-28T16:08:42.552Z"
   },
   {
    "duration": 13,
    "start_time": "2022-02-28T16:08:46.088Z"
   },
   {
    "duration": 899,
    "start_time": "2022-02-28T16:08:46.103Z"
   },
   {
    "duration": 1248,
    "start_time": "2022-02-28T16:08:47.004Z"
   },
   {
    "duration": 7,
    "start_time": "2022-02-28T16:08:48.253Z"
   },
   {
    "duration": 7,
    "start_time": "2022-02-28T16:08:48.262Z"
   },
   {
    "duration": 65,
    "start_time": "2022-02-28T16:08:48.271Z"
   },
   {
    "duration": 774,
    "start_time": "2022-02-28T16:08:48.339Z"
   },
   {
    "duration": 7,
    "start_time": "2022-02-28T16:08:49.115Z"
   },
   {
    "duration": 311,
    "start_time": "2022-02-28T16:08:49.132Z"
   },
   {
    "duration": 1209,
    "start_time": "2022-02-28T16:13:17.311Z"
   },
   {
    "duration": 646,
    "start_time": "2022-02-28T16:13:18.522Z"
   },
   {
    "duration": 13,
    "start_time": "2022-02-28T16:13:19.170Z"
   },
   {
    "duration": 11,
    "start_time": "2022-02-28T16:13:19.185Z"
   },
   {
    "duration": 24,
    "start_time": "2022-02-28T16:13:19.198Z"
   },
   {
    "duration": 6,
    "start_time": "2022-02-28T16:13:19.224Z"
   },
   {
    "duration": 1974,
    "start_time": "2022-02-28T16:13:19.231Z"
   },
   {
    "duration": 1442,
    "start_time": "2022-02-28T16:13:21.207Z"
   },
   {
    "duration": 23,
    "start_time": "2022-02-28T16:13:22.651Z"
   },
   {
    "duration": 3503,
    "start_time": "2022-02-28T16:13:22.676Z"
   },
   {
    "duration": 13,
    "start_time": "2022-02-28T16:13:26.180Z"
   },
   {
    "duration": 903,
    "start_time": "2022-02-28T16:13:26.195Z"
   },
   {
    "duration": 1187,
    "start_time": "2022-02-28T16:13:27.100Z"
   },
   {
    "duration": 8,
    "start_time": "2022-02-28T16:13:28.288Z"
   },
   {
    "duration": 12,
    "start_time": "2022-02-28T16:13:28.297Z"
   },
   {
    "duration": 35,
    "start_time": "2022-02-28T16:13:28.311Z"
   },
   {
    "duration": 492,
    "start_time": "2022-02-28T16:13:28.348Z"
   },
   {
    "duration": 8,
    "start_time": "2022-02-28T16:13:28.842Z"
   },
   {
    "duration": 7,
    "start_time": "2022-02-28T16:13:28.852Z"
   },
   {
    "duration": 9,
    "start_time": "2022-02-28T16:14:08.521Z"
   },
   {
    "duration": 1194,
    "start_time": "2022-02-28T17:17:22.817Z"
   },
   {
    "duration": 21,
    "start_time": "2022-02-28T17:17:24.013Z"
   },
   {
    "duration": 14,
    "start_time": "2022-02-28T17:17:24.036Z"
   },
   {
    "duration": 5,
    "start_time": "2022-02-28T17:17:24.052Z"
   },
   {
    "duration": 13,
    "start_time": "2022-02-28T17:17:24.058Z"
   },
   {
    "duration": 2,
    "start_time": "2022-02-28T17:17:24.073Z"
   },
   {
    "duration": 1911,
    "start_time": "2022-02-28T17:17:24.077Z"
   },
   {
    "duration": 1443,
    "start_time": "2022-02-28T17:17:25.992Z"
   },
   {
    "duration": 26,
    "start_time": "2022-02-28T17:17:27.438Z"
   },
   {
    "duration": 3433,
    "start_time": "2022-02-28T17:17:27.465Z"
   },
   {
    "duration": 13,
    "start_time": "2022-02-28T17:17:30.899Z"
   },
   {
    "duration": 919,
    "start_time": "2022-02-28T17:17:30.914Z"
   },
   {
    "duration": 1219,
    "start_time": "2022-02-28T17:17:31.835Z"
   },
   {
    "duration": 7,
    "start_time": "2022-02-28T17:17:33.055Z"
   },
   {
    "duration": 11,
    "start_time": "2022-02-28T17:17:33.063Z"
   },
   {
    "duration": 64,
    "start_time": "2022-02-28T17:17:33.075Z"
   },
   {
    "duration": 423,
    "start_time": "2022-02-28T17:17:33.141Z"
   },
   {
    "duration": 9,
    "start_time": "2022-02-28T17:17:33.566Z"
   },
   {
    "duration": 9,
    "start_time": "2022-02-28T17:17:33.576Z"
   },
   {
    "duration": 271,
    "start_time": "2022-02-28T17:28:35.760Z"
   },
   {
    "duration": 1219,
    "start_time": "2022-02-28T17:28:59.514Z"
   },
   {
    "duration": 27,
    "start_time": "2022-02-28T17:29:00.736Z"
   },
   {
    "duration": 16,
    "start_time": "2022-02-28T17:29:00.768Z"
   },
   {
    "duration": 6,
    "start_time": "2022-02-28T17:29:00.786Z"
   },
   {
    "duration": 22,
    "start_time": "2022-02-28T17:29:00.794Z"
   },
   {
    "duration": 23,
    "start_time": "2022-02-28T17:29:00.817Z"
   },
   {
    "duration": 2059,
    "start_time": "2022-02-28T17:29:00.843Z"
   },
   {
    "duration": 1416,
    "start_time": "2022-02-28T17:29:02.904Z"
   },
   {
    "duration": 25,
    "start_time": "2022-02-28T17:29:04.321Z"
   },
   {
    "duration": 3334,
    "start_time": "2022-02-28T17:29:04.347Z"
   },
   {
    "duration": 12,
    "start_time": "2022-02-28T17:29:07.683Z"
   },
   {
    "duration": 883,
    "start_time": "2022-02-28T17:29:07.697Z"
   },
   {
    "duration": 1135,
    "start_time": "2022-02-28T17:29:08.582Z"
   },
   {
    "duration": 17,
    "start_time": "2022-02-28T17:29:09.718Z"
   },
   {
    "duration": 7,
    "start_time": "2022-02-28T17:29:09.736Z"
   },
   {
    "duration": 16,
    "start_time": "2022-02-28T17:29:09.745Z"
   },
   {
    "duration": 488,
    "start_time": "2022-02-28T17:29:09.763Z"
   },
   {
    "duration": 7,
    "start_time": "2022-02-28T17:29:10.253Z"
   },
   {
    "duration": 13,
    "start_time": "2022-02-28T17:29:10.262Z"
   },
   {
    "duration": 77636,
    "start_time": "2022-02-28T17:29:10.277Z"
   },
   {
    "duration": 83362,
    "start_time": "2022-02-28T17:33:42.895Z"
   },
   {
    "duration": 80490,
    "start_time": "2022-02-28T17:52:44.676Z"
   },
   {
    "duration": 78492,
    "start_time": "2022-02-28T17:55:04.493Z"
   },
   {
    "duration": 1516,
    "start_time": "2022-02-28T18:15:47.869Z"
   },
   {
    "duration": 1261,
    "start_time": "2022-02-28T18:20:46.337Z"
   },
   {
    "duration": 986,
    "start_time": "2022-02-28T18:21:21.154Z"
   },
   {
    "duration": 1477,
    "start_time": "2022-02-28T18:48:33.769Z"
   },
   {
    "duration": 15,
    "start_time": "2022-02-28T18:52:55.854Z"
   },
   {
    "duration": 21,
    "start_time": "2022-02-28T18:53:13.342Z"
   },
   {
    "duration": 71,
    "start_time": "2022-02-28T18:55:19.319Z"
   },
   {
    "duration": 60,
    "start_time": "2022-02-28T18:55:30.710Z"
   },
   {
    "duration": 13,
    "start_time": "2022-02-28T18:56:02.567Z"
   },
   {
    "duration": 10,
    "start_time": "2022-02-28T19:01:16.509Z"
   },
   {
    "duration": 275,
    "start_time": "2022-02-28T19:02:12.293Z"
   },
   {
    "duration": 174,
    "start_time": "2022-02-28T19:02:49.102Z"
   },
   {
    "duration": 10,
    "start_time": "2022-02-28T19:03:53.173Z"
   },
   {
    "duration": 14,
    "start_time": "2022-02-28T19:05:20.305Z"
   },
   {
    "duration": 7,
    "start_time": "2022-02-28T19:13:06.350Z"
   },
   {
    "duration": 11,
    "start_time": "2022-02-28T19:14:05.474Z"
   },
   {
    "duration": 13,
    "start_time": "2022-02-28T19:15:57.577Z"
   },
   {
    "duration": 11,
    "start_time": "2022-02-28T19:16:30.277Z"
   },
   {
    "duration": 10,
    "start_time": "2022-02-28T19:22:33.976Z"
   },
   {
    "duration": 176,
    "start_time": "2022-02-28T19:23:15.436Z"
   },
   {
    "duration": 412,
    "start_time": "2022-02-28T19:25:31.092Z"
   },
   {
    "duration": 164,
    "start_time": "2022-02-28T19:25:48.590Z"
   },
   {
    "duration": 164,
    "start_time": "2022-02-28T19:26:39.561Z"
   },
   {
    "duration": 210,
    "start_time": "2022-02-28T19:28:36.125Z"
   },
   {
    "duration": 193,
    "start_time": "2022-02-28T19:29:01.154Z"
   },
   {
    "duration": 64,
    "start_time": "2022-02-28T19:30:48.486Z"
   },
   {
    "duration": 300,
    "start_time": "2022-02-28T19:31:03.392Z"
   },
   {
    "duration": 205,
    "start_time": "2022-02-28T19:39:33.655Z"
   },
   {
    "duration": 210,
    "start_time": "2022-02-28T19:40:15.891Z"
   },
   {
    "duration": 242,
    "start_time": "2022-02-28T19:54:32.279Z"
   },
   {
    "duration": 329,
    "start_time": "2022-02-28T19:54:52.614Z"
   },
   {
    "duration": 1303,
    "start_time": "2022-02-28T19:56:10.235Z"
   },
   {
    "duration": 14,
    "start_time": "2022-02-28T20:04:18.595Z"
   },
   {
    "duration": 11,
    "start_time": "2022-02-28T20:05:27.948Z"
   },
   {
    "duration": 295,
    "start_time": "2022-02-28T20:12:49.797Z"
   },
   {
    "duration": 179,
    "start_time": "2022-02-28T20:13:04.843Z"
   },
   {
    "duration": 1163,
    "start_time": "2022-02-28T20:13:14.558Z"
   },
   {
    "duration": 25,
    "start_time": "2022-02-28T20:13:15.723Z"
   },
   {
    "duration": 14,
    "start_time": "2022-02-28T20:13:15.751Z"
   },
   {
    "duration": 3,
    "start_time": "2022-02-28T20:13:15.767Z"
   },
   {
    "duration": 11,
    "start_time": "2022-02-28T20:13:15.772Z"
   },
   {
    "duration": 3,
    "start_time": "2022-02-28T20:13:15.784Z"
   },
   {
    "duration": 2113,
    "start_time": "2022-02-28T20:13:15.789Z"
   },
   {
    "duration": 1460,
    "start_time": "2022-02-28T20:13:17.904Z"
   },
   {
    "duration": 25,
    "start_time": "2022-02-28T20:13:19.367Z"
   },
   {
    "duration": 3353,
    "start_time": "2022-02-28T20:13:19.394Z"
   },
   {
    "duration": 13,
    "start_time": "2022-02-28T20:13:22.749Z"
   },
   {
    "duration": 912,
    "start_time": "2022-02-28T20:13:22.763Z"
   },
   {
    "duration": 1107,
    "start_time": "2022-02-28T20:13:23.677Z"
   },
   {
    "duration": 7,
    "start_time": "2022-02-28T20:13:24.786Z"
   },
   {
    "duration": 6,
    "start_time": "2022-02-28T20:13:24.795Z"
   },
   {
    "duration": 35,
    "start_time": "2022-02-28T20:13:24.803Z"
   },
   {
    "duration": 497,
    "start_time": "2022-02-28T20:13:24.840Z"
   },
   {
    "duration": 8,
    "start_time": "2022-02-28T20:13:25.339Z"
   },
   {
    "duration": 7,
    "start_time": "2022-02-28T20:13:25.348Z"
   },
   {
    "duration": 985,
    "start_time": "2022-02-28T20:13:25.357Z"
   },
   {
    "duration": 3,
    "start_time": "2022-02-28T20:13:26.344Z"
   },
   {
    "duration": 1388,
    "start_time": "2022-02-28T20:13:26.348Z"
   },
   {
    "duration": 12,
    "start_time": "2022-02-28T20:13:27.739Z"
   },
   {
    "duration": 9,
    "start_time": "2022-02-28T20:13:27.753Z"
   },
   {
    "duration": 229,
    "start_time": "2022-02-28T20:13:27.763Z"
   },
   {
    "duration": 604,
    "start_time": "2022-02-28T20:13:27.994Z"
   },
   {
    "duration": 1166,
    "start_time": "2022-02-28T20:23:41.333Z"
   },
   {
    "duration": 21,
    "start_time": "2022-02-28T20:23:42.502Z"
   },
   {
    "duration": 20,
    "start_time": "2022-02-28T20:23:42.525Z"
   },
   {
    "duration": 4,
    "start_time": "2022-02-28T20:23:42.547Z"
   },
   {
    "duration": 11,
    "start_time": "2022-02-28T20:23:42.553Z"
   },
   {
    "duration": 2,
    "start_time": "2022-02-28T20:23:42.566Z"
   },
   {
    "duration": 1816,
    "start_time": "2022-02-28T20:23:42.570Z"
   },
   {
    "duration": 1437,
    "start_time": "2022-02-28T20:23:44.389Z"
   },
   {
    "duration": 27,
    "start_time": "2022-02-28T20:23:45.828Z"
   },
   {
    "duration": 3454,
    "start_time": "2022-02-28T20:23:45.857Z"
   },
   {
    "duration": 27,
    "start_time": "2022-02-28T20:23:49.313Z"
   },
   {
    "duration": 912,
    "start_time": "2022-02-28T20:23:49.342Z"
   },
   {
    "duration": 1147,
    "start_time": "2022-02-28T20:23:50.256Z"
   },
   {
    "duration": 7,
    "start_time": "2022-02-28T20:23:51.405Z"
   },
   {
    "duration": 23,
    "start_time": "2022-02-28T20:23:51.413Z"
   },
   {
    "duration": 28,
    "start_time": "2022-02-28T20:23:51.438Z"
   },
   {
    "duration": 404,
    "start_time": "2022-02-28T20:23:51.534Z"
   },
   {
    "duration": 7,
    "start_time": "2022-02-28T20:23:51.940Z"
   },
   {
    "duration": 7,
    "start_time": "2022-02-28T20:23:51.949Z"
   },
   {
    "duration": 984,
    "start_time": "2022-02-28T20:23:51.957Z"
   },
   {
    "duration": 3,
    "start_time": "2022-02-28T20:23:52.943Z"
   },
   {
    "duration": 1586,
    "start_time": "2022-02-28T20:23:52.947Z"
   },
   {
    "duration": 13,
    "start_time": "2022-02-28T20:23:54.536Z"
   },
   {
    "duration": 11,
    "start_time": "2022-02-28T20:23:54.551Z"
   },
   {
    "duration": 220,
    "start_time": "2022-02-28T20:23:54.563Z"
   },
   {
    "duration": 540,
    "start_time": "2022-02-28T20:23:54.785Z"
   },
   {
    "duration": 2545,
    "start_time": "2022-03-01T09:31:37.634Z"
   },
   {
    "duration": 32,
    "start_time": "2022-03-01T09:31:40.181Z"
   },
   {
    "duration": 23,
    "start_time": "2022-03-01T09:31:40.216Z"
   },
   {
    "duration": 5,
    "start_time": "2022-03-01T09:31:40.241Z"
   },
   {
    "duration": 39,
    "start_time": "2022-03-01T09:31:40.248Z"
   },
   {
    "duration": 4,
    "start_time": "2022-03-01T09:31:40.289Z"
   },
   {
    "duration": 2609,
    "start_time": "2022-03-01T09:31:40.295Z"
   },
   {
    "duration": 2555,
    "start_time": "2022-03-01T09:31:42.907Z"
   },
   {
    "duration": 38,
    "start_time": "2022-03-01T09:31:45.473Z"
   },
   {
    "duration": 6128,
    "start_time": "2022-03-01T09:31:45.515Z"
   },
   {
    "duration": 36,
    "start_time": "2022-03-01T09:31:51.645Z"
   },
   {
    "duration": 1554,
    "start_time": "2022-03-01T09:31:51.683Z"
   },
   {
    "duration": 1941,
    "start_time": "2022-03-01T09:31:53.240Z"
   },
   {
    "duration": 12,
    "start_time": "2022-03-01T09:31:55.184Z"
   },
   {
    "duration": 11,
    "start_time": "2022-03-01T09:31:55.199Z"
   },
   {
    "duration": 160,
    "start_time": "2022-03-01T09:31:55.213Z"
   },
   {
    "duration": 579,
    "start_time": "2022-03-01T09:31:55.377Z"
   },
   {
    "duration": 18,
    "start_time": "2022-03-01T09:31:55.958Z"
   },
   {
    "duration": 11,
    "start_time": "2022-03-01T09:31:55.978Z"
   },
   {
    "duration": 1560,
    "start_time": "2022-03-01T09:31:55.992Z"
   },
   {
    "duration": 5,
    "start_time": "2022-03-01T09:31:57.554Z"
   },
   {
    "duration": 1914,
    "start_time": "2022-03-01T09:31:57.573Z"
   },
   {
    "duration": 18,
    "start_time": "2022-03-01T09:31:59.490Z"
   },
   {
    "duration": 15,
    "start_time": "2022-03-01T09:31:59.510Z"
   },
   {
    "duration": 382,
    "start_time": "2022-03-01T09:31:59.528Z"
   },
   {
    "duration": 861,
    "start_time": "2022-03-01T09:31:59.913Z"
   },
   {
    "duration": 1679,
    "start_time": "2022-03-01T09:57:30.394Z"
   },
   {
    "duration": 27,
    "start_time": "2022-03-01T09:57:32.076Z"
   },
   {
    "duration": 22,
    "start_time": "2022-03-01T09:57:32.106Z"
   },
   {
    "duration": 6,
    "start_time": "2022-03-01T09:57:32.131Z"
   },
   {
    "duration": 48,
    "start_time": "2022-03-01T09:57:32.140Z"
   },
   {
    "duration": 4,
    "start_time": "2022-03-01T09:57:32.190Z"
   },
   {
    "duration": 2831,
    "start_time": "2022-03-01T09:57:32.196Z"
   },
   {
    "duration": 2644,
    "start_time": "2022-03-01T09:57:35.029Z"
   },
   {
    "duration": 40,
    "start_time": "2022-03-01T09:57:37.677Z"
   },
   {
    "duration": 6073,
    "start_time": "2022-03-01T09:57:37.720Z"
   },
   {
    "duration": 20,
    "start_time": "2022-03-01T09:57:43.795Z"
   },
   {
    "duration": 1542,
    "start_time": "2022-03-01T09:57:43.817Z"
   },
   {
    "duration": 1786,
    "start_time": "2022-03-01T09:57:45.362Z"
   },
   {
    "duration": 9,
    "start_time": "2022-03-01T09:57:47.151Z"
   },
   {
    "duration": 9,
    "start_time": "2022-03-01T09:57:47.174Z"
   },
   {
    "duration": 92,
    "start_time": "2022-03-01T09:57:47.185Z"
   },
   {
    "duration": 577,
    "start_time": "2022-03-01T09:57:47.281Z"
   },
   {
    "duration": 16,
    "start_time": "2022-03-01T09:57:47.860Z"
   },
   {
    "duration": 10,
    "start_time": "2022-03-01T09:57:47.878Z"
   },
   {
    "duration": 1566,
    "start_time": "2022-03-01T09:57:47.890Z"
   },
   {
    "duration": 4,
    "start_time": "2022-03-01T09:57:49.459Z"
   },
   {
    "duration": 1924,
    "start_time": "2022-03-01T09:57:49.466Z"
   },
   {
    "duration": 21,
    "start_time": "2022-03-01T09:57:51.392Z"
   },
   {
    "duration": 18,
    "start_time": "2022-03-01T09:57:51.415Z"
   },
   {
    "duration": 395,
    "start_time": "2022-03-01T09:57:51.436Z"
   },
   {
    "duration": 856,
    "start_time": "2022-03-01T09:57:51.834Z"
   },
   {
    "duration": 19,
    "start_time": "2022-03-01T10:05:32.898Z"
   },
   {
    "duration": 79,
    "start_time": "2022-03-01T10:07:25.706Z"
   },
   {
    "duration": 30,
    "start_time": "2022-03-01T10:07:44.093Z"
   },
   {
    "duration": 30,
    "start_time": "2022-03-01T11:21:00.168Z"
   },
   {
    "duration": 31,
    "start_time": "2022-03-01T11:21:44.596Z"
   },
   {
    "duration": 335,
    "start_time": "2022-03-01T11:24:20.053Z"
   },
   {
    "duration": 329,
    "start_time": "2022-03-01T11:24:59.120Z"
   },
   {
    "duration": 33,
    "start_time": "2022-03-01T11:31:06.132Z"
   },
   {
    "duration": 33,
    "start_time": "2022-03-01T11:31:21.180Z"
   },
   {
    "duration": 35,
    "start_time": "2022-03-01T11:32:24.967Z"
   },
   {
    "duration": 37,
    "start_time": "2022-03-01T11:32:54.669Z"
   },
   {
    "duration": 326,
    "start_time": "2022-03-01T11:33:38.200Z"
   },
   {
    "duration": 1567,
    "start_time": "2022-03-01T11:41:36.776Z"
   },
   {
    "duration": 31,
    "start_time": "2022-03-01T11:41:38.346Z"
   },
   {
    "duration": 29,
    "start_time": "2022-03-01T11:41:38.380Z"
   },
   {
    "duration": 11,
    "start_time": "2022-03-01T11:41:38.412Z"
   },
   {
    "duration": 24,
    "start_time": "2022-03-01T11:41:38.426Z"
   },
   {
    "duration": 4,
    "start_time": "2022-03-01T11:41:38.452Z"
   },
   {
    "duration": 2642,
    "start_time": "2022-03-01T11:41:38.473Z"
   },
   {
    "duration": 2611,
    "start_time": "2022-03-01T11:41:41.119Z"
   },
   {
    "duration": 58,
    "start_time": "2022-03-01T11:41:43.734Z"
   },
   {
    "duration": 6004,
    "start_time": "2022-03-01T11:41:43.795Z"
   },
   {
    "duration": 23,
    "start_time": "2022-03-01T11:41:49.802Z"
   },
   {
    "duration": 1590,
    "start_time": "2022-03-01T11:41:49.828Z"
   },
   {
    "duration": 1966,
    "start_time": "2022-03-01T11:41:51.421Z"
   },
   {
    "duration": 12,
    "start_time": "2022-03-01T11:41:53.390Z"
   },
   {
    "duration": 14,
    "start_time": "2022-03-01T11:41:53.405Z"
   },
   {
    "duration": 64,
    "start_time": "2022-03-01T11:41:53.422Z"
   },
   {
    "duration": 699,
    "start_time": "2022-03-01T11:41:53.489Z"
   },
   {
    "duration": 11,
    "start_time": "2022-03-01T11:41:54.191Z"
   },
   {
    "duration": 12,
    "start_time": "2022-03-01T11:41:54.205Z"
   },
   {
    "duration": 1438,
    "start_time": "2022-03-01T11:41:54.219Z"
   },
   {
    "duration": 5,
    "start_time": "2022-03-01T11:41:55.659Z"
   },
   {
    "duration": 2017,
    "start_time": "2022-03-01T11:41:55.673Z"
   },
   {
    "duration": 19,
    "start_time": "2022-03-01T11:41:57.694Z"
   },
   {
    "duration": 63,
    "start_time": "2022-03-01T11:41:57.715Z"
   },
   {
    "duration": 381,
    "start_time": "2022-03-01T11:41:57.781Z"
   },
   {
    "duration": 864,
    "start_time": "2022-03-01T11:41:58.165Z"
   },
   {
    "duration": 1696,
    "start_time": "2022-03-01T11:42:57.760Z"
   },
   {
    "duration": 32,
    "start_time": "2022-03-01T11:42:59.458Z"
   },
   {
    "duration": 24,
    "start_time": "2022-03-01T11:42:59.493Z"
   },
   {
    "duration": 6,
    "start_time": "2022-03-01T11:42:59.520Z"
   },
   {
    "duration": 51,
    "start_time": "2022-03-01T11:42:59.528Z"
   },
   {
    "duration": 4,
    "start_time": "2022-03-01T11:42:59.582Z"
   },
   {
    "duration": 2534,
    "start_time": "2022-03-01T11:42:59.588Z"
   },
   {
    "duration": 2567,
    "start_time": "2022-03-01T11:43:02.126Z"
   },
   {
    "duration": 41,
    "start_time": "2022-03-01T11:43:04.696Z"
   },
   {
    "duration": 5936,
    "start_time": "2022-03-01T11:43:04.740Z"
   },
   {
    "duration": 18,
    "start_time": "2022-03-01T11:43:10.679Z"
   },
   {
    "duration": 1548,
    "start_time": "2022-03-01T11:43:10.699Z"
   },
   {
    "duration": 1839,
    "start_time": "2022-03-01T11:43:12.249Z"
   },
   {
    "duration": 9,
    "start_time": "2022-03-01T11:43:14.091Z"
   },
   {
    "duration": 8,
    "start_time": "2022-03-01T11:43:14.103Z"
   },
   {
    "duration": 69,
    "start_time": "2022-03-01T11:43:14.114Z"
   },
   {
    "duration": 585,
    "start_time": "2022-03-01T11:43:14.276Z"
   },
   {
    "duration": 16,
    "start_time": "2022-03-01T11:43:14.864Z"
   },
   {
    "duration": 12,
    "start_time": "2022-03-01T11:43:14.883Z"
   },
   {
    "duration": 1427,
    "start_time": "2022-03-01T11:43:14.898Z"
   },
   {
    "duration": 5,
    "start_time": "2022-03-01T11:43:16.327Z"
   },
   {
    "duration": 1756,
    "start_time": "2022-03-01T11:43:16.334Z"
   },
   {
    "duration": 21,
    "start_time": "2022-03-01T11:43:18.094Z"
   },
   {
    "duration": 66,
    "start_time": "2022-03-01T11:43:18.117Z"
   },
   {
    "duration": 351,
    "start_time": "2022-03-01T11:43:18.185Z"
   },
   {
    "duration": 825,
    "start_time": "2022-03-01T11:43:18.538Z"
   },
   {
    "duration": 5,
    "start_time": "2022-03-01T11:44:46.496Z"
   },
   {
    "duration": 837,
    "start_time": "2022-03-01T11:44:48.467Z"
   },
   {
    "duration": 18,
    "start_time": "2022-03-01T11:54:43.005Z"
   },
   {
    "duration": 369,
    "start_time": "2022-03-01T11:54:57.504Z"
   },
   {
    "duration": 20,
    "start_time": "2022-03-01T11:55:14.916Z"
   },
   {
    "duration": 30,
    "start_time": "2022-03-01T12:01:36.671Z"
   },
   {
    "duration": 119,
    "start_time": "2022-03-01T12:04:12.457Z"
   },
   {
    "duration": 27,
    "start_time": "2022-03-01T12:05:30.579Z"
   },
   {
    "duration": 82,
    "start_time": "2022-03-01T12:16:01.293Z"
   },
   {
    "duration": 126,
    "start_time": "2022-03-01T12:19:06.651Z"
   },
   {
    "duration": 280,
    "start_time": "2022-03-01T12:21:29.072Z"
   },
   {
    "duration": 39,
    "start_time": "2022-03-01T12:21:43.241Z"
   },
   {
    "duration": 30,
    "start_time": "2022-03-01T12:22:06.957Z"
   },
   {
    "duration": 38,
    "start_time": "2022-03-01T12:23:45.238Z"
   },
   {
    "duration": 28,
    "start_time": "2022-03-01T12:24:15.262Z"
   },
   {
    "duration": 308,
    "start_time": "2022-03-01T12:24:44.460Z"
   },
   {
    "duration": 272,
    "start_time": "2022-03-01T12:24:56.160Z"
   },
   {
    "duration": 278,
    "start_time": "2022-03-01T12:25:21.672Z"
   },
   {
    "duration": 85,
    "start_time": "2022-03-01T12:25:54.918Z"
   },
   {
    "duration": 51,
    "start_time": "2022-03-01T12:26:03.428Z"
   },
   {
    "duration": 140,
    "start_time": "2022-03-01T12:27:35.738Z"
   },
   {
    "duration": 119,
    "start_time": "2022-03-01T12:27:55.861Z"
   },
   {
    "duration": 134,
    "start_time": "2022-03-01T12:31:48.841Z"
   },
   {
    "duration": 139,
    "start_time": "2022-03-01T12:32:32.143Z"
   },
   {
    "duration": 103,
    "start_time": "2022-03-01T12:32:41.476Z"
   },
   {
    "duration": 7,
    "start_time": "2022-03-01T12:35:22.786Z"
   },
   {
    "duration": 4,
    "start_time": "2022-03-01T12:35:39.490Z"
   },
   {
    "duration": 97,
    "start_time": "2022-03-01T12:38:28.477Z"
   },
   {
    "duration": 4,
    "start_time": "2022-03-01T12:39:07.971Z"
   },
   {
    "duration": 3,
    "start_time": "2022-03-01T12:52:48.814Z"
   },
   {
    "duration": 267,
    "start_time": "2022-03-01T13:00:35.781Z"
   },
   {
    "duration": 234,
    "start_time": "2022-03-01T13:01:36.628Z"
   },
   {
    "duration": -124,
    "start_time": "2022-03-01T13:23:04.023Z"
   },
   {
    "duration": 136,
    "start_time": "2022-03-01T13:26:30.142Z"
   },
   {
    "duration": 267,
    "start_time": "2022-03-01T13:41:19.251Z"
   },
   {
    "duration": -168,
    "start_time": "2022-03-01T13:45:41.889Z"
   },
   {
    "duration": 56195,
    "start_time": "2022-03-01T13:46:16.412Z"
   },
   {
    "duration": 431632,
    "start_time": "2022-03-01T13:47:24.389Z"
   },
   {
    "duration": 4,
    "start_time": "2022-03-01T13:58:16.618Z"
   },
   {
    "duration": 507,
    "start_time": "2022-03-01T14:01:47.605Z"
   },
   {
    "duration": 320,
    "start_time": "2022-03-01T14:02:13.763Z"
   },
   {
    "duration": 260,
    "start_time": "2022-03-01T14:05:27.481Z"
   },
   {
    "duration": 294,
    "start_time": "2022-03-01T14:06:48.356Z"
   },
   {
    "duration": 455,
    "start_time": "2022-03-01T14:07:24.614Z"
   },
   {
    "duration": 471,
    "start_time": "2022-03-01T14:08:26.771Z"
   },
   {
    "duration": -199,
    "start_time": "2022-03-01T14:31:36.061Z"
   },
   {
    "duration": 8949,
    "start_time": "2022-03-01T14:32:00.451Z"
   },
   {
    "duration": 3800,
    "start_time": "2022-03-01T14:33:04.108Z"
   },
   {
    "duration": 7331,
    "start_time": "2022-03-01T14:33:25.528Z"
   },
   {
    "duration": 19236,
    "start_time": "2022-03-01T14:33:37.289Z"
   },
   {
    "duration": 274,
    "start_time": "2022-03-01T14:36:01.231Z"
   },
   {
    "duration": 9316,
    "start_time": "2022-03-01T14:37:54.388Z"
   },
   {
    "duration": 3134,
    "start_time": "2022-03-01T14:43:06.192Z"
   },
   {
    "duration": 12099,
    "start_time": "2022-03-01T14:43:31.017Z"
   },
   {
    "duration": 12762,
    "start_time": "2022-03-01T14:45:46.709Z"
   },
   {
    "duration": 8726,
    "start_time": "2022-03-01T14:48:28.890Z"
   },
   {
    "duration": 8637,
    "start_time": "2022-03-01T14:49:12.004Z"
   },
   {
    "duration": 8955,
    "start_time": "2022-03-01T14:52:36.181Z"
   },
   {
    "duration": 8573,
    "start_time": "2022-03-01T14:54:14.089Z"
   },
   {
    "duration": 80,
    "start_time": "2022-03-01T14:56:19.269Z"
   },
   {
    "duration": 6628,
    "start_time": "2022-03-01T14:56:31.965Z"
   },
   {
    "duration": 6426,
    "start_time": "2022-03-01T14:57:28.718Z"
   },
   {
    "duration": 6472,
    "start_time": "2022-03-01T14:57:52.443Z"
   },
   {
    "duration": 6628,
    "start_time": "2022-03-01T14:58:13.811Z"
   },
   {
    "duration": 6728,
    "start_time": "2022-03-01T14:58:52.384Z"
   },
   {
    "duration": 6694,
    "start_time": "2022-03-01T14:59:18.942Z"
   },
   {
    "duration": 6808,
    "start_time": "2022-03-01T15:01:39.909Z"
   },
   {
    "duration": 6954,
    "start_time": "2022-03-01T15:02:03.455Z"
   },
   {
    "duration": 7178,
    "start_time": "2022-03-01T15:02:28.742Z"
   },
   {
    "duration": 6919,
    "start_time": "2022-03-01T15:13:22.375Z"
   },
   {
    "duration": 6797,
    "start_time": "2022-03-01T15:17:38.310Z"
   },
   {
    "duration": 7155,
    "start_time": "2022-03-01T15:19:35.308Z"
   },
   {
    "duration": 7192,
    "start_time": "2022-03-01T15:20:01.682Z"
   },
   {
    "duration": 7056,
    "start_time": "2022-03-01T15:20:49.141Z"
   },
   {
    "duration": 7150,
    "start_time": "2022-03-01T15:20:58.734Z"
   },
   {
    "duration": 7381,
    "start_time": "2022-03-01T15:21:57.203Z"
   },
   {
    "duration": 7139,
    "start_time": "2022-03-01T15:23:58.543Z"
   },
   {
    "duration": 7329,
    "start_time": "2022-03-01T15:24:26.227Z"
   },
   {
    "duration": 21,
    "start_time": "2022-03-01T17:49:36.394Z"
   },
   {
    "duration": 23,
    "start_time": "2022-03-01T17:53:34.486Z"
   },
   {
    "duration": 398,
    "start_time": "2022-03-01T17:54:03.484Z"
   },
   {
    "duration": 20,
    "start_time": "2022-03-01T17:54:47.454Z"
   },
   {
    "duration": 454,
    "start_time": "2022-03-01T17:54:48.977Z"
   },
   {
    "duration": 313,
    "start_time": "2022-03-01T17:55:08.606Z"
   },
   {
    "duration": 528,
    "start_time": "2022-03-01T17:55:36.887Z"
   },
   {
    "duration": 238,
    "start_time": "2022-03-01T17:57:28.879Z"
   },
   {
    "duration": 529,
    "start_time": "2022-03-01T17:57:37.075Z"
   },
   {
    "duration": 925,
    "start_time": "2022-03-01T17:58:54.228Z"
   },
   {
    "duration": 664,
    "start_time": "2022-03-01T18:13:24.595Z"
   },
   {
    "duration": 641,
    "start_time": "2022-03-01T18:14:51.945Z"
   },
   {
    "duration": 28,
    "start_time": "2022-03-01T18:16:14.988Z"
   },
   {
    "duration": 612,
    "start_time": "2022-03-01T18:16:17.465Z"
   },
   {
    "duration": 20,
    "start_time": "2022-03-01T18:17:33.115Z"
   },
   {
    "duration": 665,
    "start_time": "2022-03-01T18:17:35.268Z"
   },
   {
    "duration": 228,
    "start_time": "2022-03-02T09:27:21.373Z"
   },
   {
    "duration": 1246,
    "start_time": "2022-03-02T09:27:31.603Z"
   },
   {
    "duration": 26,
    "start_time": "2022-03-02T09:27:32.850Z"
   },
   {
    "duration": 15,
    "start_time": "2022-03-02T09:27:32.878Z"
   },
   {
    "duration": 7,
    "start_time": "2022-03-02T09:27:32.895Z"
   },
   {
    "duration": 17,
    "start_time": "2022-03-02T09:27:32.903Z"
   },
   {
    "duration": 16,
    "start_time": "2022-03-02T09:27:32.922Z"
   },
   {
    "duration": 2049,
    "start_time": "2022-03-02T09:27:32.940Z"
   },
   {
    "duration": 1558,
    "start_time": "2022-03-02T09:27:34.991Z"
   },
   {
    "duration": 26,
    "start_time": "2022-03-02T09:27:36.551Z"
   },
   {
    "duration": 3550,
    "start_time": "2022-03-02T09:27:36.579Z"
   },
   {
    "duration": 16,
    "start_time": "2022-03-02T09:27:40.131Z"
   },
   {
    "duration": 971,
    "start_time": "2022-03-02T09:27:40.149Z"
   },
   {
    "duration": 1224,
    "start_time": "2022-03-02T09:27:41.121Z"
   },
   {
    "duration": 7,
    "start_time": "2022-03-02T09:27:42.347Z"
   },
   {
    "duration": 8,
    "start_time": "2022-03-02T09:27:42.355Z"
   },
   {
    "duration": 73,
    "start_time": "2022-03-02T09:27:42.365Z"
   },
   {
    "duration": 401,
    "start_time": "2022-03-02T09:27:42.442Z"
   },
   {
    "duration": 4,
    "start_time": "2022-03-02T09:27:42.845Z"
   },
   {
    "duration": 18,
    "start_time": "2022-03-02T09:27:42.851Z"
   },
   {
    "duration": 9,
    "start_time": "2022-03-02T09:27:42.871Z"
   },
   {
    "duration": 8,
    "start_time": "2022-03-02T09:27:42.882Z"
   },
   {
    "duration": 968,
    "start_time": "2022-03-02T09:27:42.892Z"
   },
   {
    "duration": 1683,
    "start_time": "2022-03-02T09:27:43.864Z"
   },
   {
    "duration": 25,
    "start_time": "2022-03-02T09:27:45.549Z"
   },
   {
    "duration": 244,
    "start_time": "2022-03-02T09:27:45.576Z"
   },
   {
    "duration": 22,
    "start_time": "2022-03-02T09:27:45.822Z"
   },
   {
    "duration": 401,
    "start_time": "2022-03-02T09:27:45.846Z"
   },
   {
    "duration": 4799,
    "start_time": "2022-03-02T09:27:46.248Z"
   },
   {
    "duration": 192,
    "start_time": "2022-03-02T11:11:50.193Z"
   },
   {
    "duration": 176,
    "start_time": "2022-03-02T11:14:14.567Z"
   },
   {
    "duration": 201,
    "start_time": "2022-03-02T11:19:26.885Z"
   },
   {
    "duration": 314,
    "start_time": "2022-03-02T11:21:02.521Z"
   },
   {
    "duration": 163,
    "start_time": "2022-03-02T11:21:14.959Z"
   },
   {
    "duration": 136,
    "start_time": "2022-03-02T11:21:49.094Z"
   },
   {
    "duration": 61,
    "start_time": "2022-03-02T11:23:10.490Z"
   },
   {
    "duration": 217,
    "start_time": "2022-03-02T11:23:19.371Z"
   },
   {
    "duration": 191,
    "start_time": "2022-03-02T11:23:49.726Z"
   },
   {
    "duration": 138,
    "start_time": "2022-03-02T11:24:18.998Z"
   },
   {
    "duration": 162,
    "start_time": "2022-03-02T11:24:34.125Z"
   },
   {
    "duration": 561,
    "start_time": "2022-03-02T11:25:54.602Z"
   },
   {
    "duration": 3684,
    "start_time": "2022-03-02T11:35:00.724Z"
   },
   {
    "duration": 3457,
    "start_time": "2022-03-02T11:36:18.934Z"
   },
   {
    "duration": 375,
    "start_time": "2022-03-02T11:36:58.331Z"
   },
   {
    "duration": 303,
    "start_time": "2022-03-02T11:37:42.487Z"
   },
   {
    "duration": 190,
    "start_time": "2022-03-02T11:47:52.841Z"
   },
   {
    "duration": 285,
    "start_time": "2022-03-02T11:56:43.548Z"
   },
   {
    "duration": 4556,
    "start_time": "2022-03-02T11:59:09.517Z"
   },
   {
    "duration": 176,
    "start_time": "2022-03-02T11:59:24.696Z"
   },
   {
    "duration": 13,
    "start_time": "2022-03-02T12:01:51.535Z"
   },
   {
    "duration": 12,
    "start_time": "2022-03-02T12:02:22.409Z"
   },
   {
    "duration": 14,
    "start_time": "2022-03-02T12:04:36.738Z"
   },
   {
    "duration": 169,
    "start_time": "2022-03-02T12:13:33.276Z"
   },
   {
    "duration": 1562,
    "start_time": "2022-03-03T09:52:19.933Z"
   },
   {
    "duration": 29,
    "start_time": "2022-03-03T09:52:21.498Z"
   },
   {
    "duration": 22,
    "start_time": "2022-03-03T09:52:21.530Z"
   },
   {
    "duration": 8,
    "start_time": "2022-03-03T09:52:21.555Z"
   },
   {
    "duration": 36,
    "start_time": "2022-03-03T09:52:21.565Z"
   },
   {
    "duration": 4,
    "start_time": "2022-03-03T09:52:21.603Z"
   },
   {
    "duration": 2607,
    "start_time": "2022-03-03T09:52:21.609Z"
   },
   {
    "duration": 2511,
    "start_time": "2022-03-03T09:52:24.220Z"
   },
   {
    "duration": 57,
    "start_time": "2022-03-03T09:52:26.734Z"
   },
   {
    "duration": 5957,
    "start_time": "2022-03-03T09:52:26.793Z"
   },
   {
    "duration": 33,
    "start_time": "2022-03-03T09:52:32.753Z"
   },
   {
    "duration": 1672,
    "start_time": "2022-03-03T09:52:32.789Z"
   },
   {
    "duration": 1849,
    "start_time": "2022-03-03T09:52:34.464Z"
   },
   {
    "duration": 11,
    "start_time": "2022-03-03T09:52:36.316Z"
   },
   {
    "duration": 10,
    "start_time": "2022-03-03T09:52:36.330Z"
   },
   {
    "duration": 70,
    "start_time": "2022-03-03T09:52:36.343Z"
   },
   {
    "duration": 592,
    "start_time": "2022-03-03T09:52:36.490Z"
   },
   {
    "duration": 5,
    "start_time": "2022-03-03T09:52:37.087Z"
   },
   {
    "duration": 35,
    "start_time": "2022-03-03T09:52:37.095Z"
   },
   {
    "duration": 12,
    "start_time": "2022-03-03T09:52:37.133Z"
   },
   {
    "duration": 45,
    "start_time": "2022-03-03T09:52:37.148Z"
   },
   {
    "duration": 1481,
    "start_time": "2022-03-03T09:52:37.196Z"
   },
   {
    "duration": 1816,
    "start_time": "2022-03-03T09:52:38.691Z"
   },
   {
    "duration": 37,
    "start_time": "2022-03-03T09:52:40.510Z"
   },
   {
    "duration": 364,
    "start_time": "2022-03-03T09:52:40.550Z"
   },
   {
    "duration": 19,
    "start_time": "2022-03-03T09:52:40.917Z"
   },
   {
    "duration": 678,
    "start_time": "2022-03-03T09:52:40.939Z"
   },
   {
    "duration": 7882,
    "start_time": "2022-03-03T09:52:41.619Z"
   },
   {
    "duration": 488,
    "start_time": "2022-03-03T09:52:49.503Z"
   },
   {
    "duration": 298,
    "start_time": "2022-03-03T09:52:49.993Z"
   },
   {
    "duration": 17,
    "start_time": "2022-03-03T09:52:50.293Z"
   },
   {
    "duration": 305,
    "start_time": "2022-03-03T10:02:25.629Z"
   },
   {
    "duration": 263,
    "start_time": "2022-03-03T10:02:51.919Z"
   },
   {
    "duration": 21,
    "start_time": "2022-03-03T10:04:28.944Z"
   },
   {
    "duration": 11,
    "start_time": "2022-03-03T10:08:08.965Z"
   },
   {
    "duration": 11,
    "start_time": "2022-03-03T10:09:50.903Z"
   },
   {
    "duration": 10,
    "start_time": "2022-03-03T10:10:22.005Z"
   },
   {
    "duration": 9,
    "start_time": "2022-03-03T10:10:31.934Z"
   },
   {
    "duration": 608,
    "start_time": "2022-03-03T10:34:24.552Z"
   },
   {
    "duration": 1874,
    "start_time": "2022-03-03T10:38:53.333Z"
   },
   {
    "duration": 1900,
    "start_time": "2022-03-03T10:39:38.833Z"
   },
   {
    "duration": 375,
    "start_time": "2022-03-03T12:38:41.709Z"
   },
   {
    "duration": 1213,
    "start_time": "2022-03-03T12:38:52.843Z"
   },
   {
    "duration": 25,
    "start_time": "2022-03-03T12:38:54.057Z"
   },
   {
    "duration": 13,
    "start_time": "2022-03-03T12:38:54.083Z"
   },
   {
    "duration": 4,
    "start_time": "2022-03-03T12:38:54.098Z"
   },
   {
    "duration": 14,
    "start_time": "2022-03-03T12:38:54.103Z"
   },
   {
    "duration": 4,
    "start_time": "2022-03-03T12:38:54.119Z"
   },
   {
    "duration": 1811,
    "start_time": "2022-03-03T12:38:54.125Z"
   },
   {
    "duration": 1371,
    "start_time": "2022-03-03T12:38:55.939Z"
   },
   {
    "duration": 25,
    "start_time": "2022-03-03T12:38:57.312Z"
   },
   {
    "duration": 3257,
    "start_time": "2022-03-03T12:38:57.339Z"
   },
   {
    "duration": 13,
    "start_time": "2022-03-03T12:39:00.601Z"
   },
   {
    "duration": 881,
    "start_time": "2022-03-03T12:39:00.616Z"
   },
   {
    "duration": 1105,
    "start_time": "2022-03-03T12:39:01.502Z"
   },
   {
    "duration": 6,
    "start_time": "2022-03-03T12:39:02.609Z"
   },
   {
    "duration": 8,
    "start_time": "2022-03-03T12:39:02.617Z"
   },
   {
    "duration": 77,
    "start_time": "2022-03-03T12:39:02.626Z"
   },
   {
    "duration": 445,
    "start_time": "2022-03-03T12:39:02.706Z"
   },
   {
    "duration": 3,
    "start_time": "2022-03-03T12:39:03.153Z"
   },
   {
    "duration": 15,
    "start_time": "2022-03-03T12:39:03.158Z"
   },
   {
    "duration": 6,
    "start_time": "2022-03-03T12:39:03.175Z"
   },
   {
    "duration": 23,
    "start_time": "2022-03-03T12:39:03.183Z"
   },
   {
    "duration": 1074,
    "start_time": "2022-03-03T12:39:03.208Z"
   },
   {
    "duration": 1125,
    "start_time": "2022-03-03T12:39:04.286Z"
   },
   {
    "duration": 27,
    "start_time": "2022-03-03T12:39:05.416Z"
   },
   {
    "duration": 223,
    "start_time": "2022-03-03T12:39:05.444Z"
   },
   {
    "duration": 11,
    "start_time": "2022-03-03T12:39:05.669Z"
   },
   {
    "duration": 430,
    "start_time": "2022-03-03T12:39:05.682Z"
   },
   {
    "duration": 344,
    "start_time": "2022-03-03T12:39:06.116Z"
   },
   {
    "duration": 744,
    "start_time": "2022-03-03T12:39:06.462Z"
   },
   {
    "duration": 4193,
    "start_time": "2022-03-03T12:39:07.208Z"
   },
   {
    "duration": 286,
    "start_time": "2022-03-03T12:39:11.403Z"
   },
   {
    "duration": 170,
    "start_time": "2022-03-03T12:39:11.690Z"
   },
   {
    "duration": 10,
    "start_time": "2022-03-03T12:39:11.862Z"
   },
   {
    "duration": 30,
    "start_time": "2022-03-03T12:39:11.873Z"
   },
   {
    "duration": 976,
    "start_time": "2022-03-03T12:46:00.169Z"
   },
   {
    "duration": 887,
    "start_time": "2022-03-03T12:47:29.468Z"
   },
   {
    "duration": 949,
    "start_time": "2022-03-03T12:48:21.715Z"
   },
   {
    "duration": 1112,
    "start_time": "2022-03-03T12:49:05.882Z"
   },
   {
    "duration": 1164,
    "start_time": "2022-03-03T12:50:00.624Z"
   },
   {
    "duration": 38,
    "start_time": "2022-03-03T12:50:01.790Z"
   },
   {
    "duration": 14,
    "start_time": "2022-03-03T12:50:01.831Z"
   },
   {
    "duration": 4,
    "start_time": "2022-03-03T12:50:01.846Z"
   },
   {
    "duration": 20,
    "start_time": "2022-03-03T12:50:01.851Z"
   },
   {
    "duration": 3,
    "start_time": "2022-03-03T12:50:01.872Z"
   },
   {
    "duration": 1992,
    "start_time": "2022-03-03T12:50:01.876Z"
   },
   {
    "duration": 1362,
    "start_time": "2022-03-03T12:50:03.871Z"
   },
   {
    "duration": 23,
    "start_time": "2022-03-03T12:50:05.235Z"
   },
   {
    "duration": 3266,
    "start_time": "2022-03-03T12:50:05.260Z"
   },
   {
    "duration": 12,
    "start_time": "2022-03-03T12:50:08.528Z"
   },
   {
    "duration": 846,
    "start_time": "2022-03-03T12:50:08.542Z"
   },
   {
    "duration": 1095,
    "start_time": "2022-03-03T12:50:09.390Z"
   },
   {
    "duration": 15,
    "start_time": "2022-03-03T12:50:10.486Z"
   },
   {
    "duration": 6,
    "start_time": "2022-03-03T12:50:10.503Z"
   },
   {
    "duration": 17,
    "start_time": "2022-03-03T12:50:10.510Z"
   },
   {
    "duration": 472,
    "start_time": "2022-03-03T12:50:10.529Z"
   },
   {
    "duration": 4,
    "start_time": "2022-03-03T12:50:11.003Z"
   },
   {
    "duration": 20,
    "start_time": "2022-03-03T12:50:11.009Z"
   },
   {
    "duration": 7,
    "start_time": "2022-03-03T12:50:11.031Z"
   },
   {
    "duration": 6,
    "start_time": "2022-03-03T12:50:11.040Z"
   },
   {
    "duration": 944,
    "start_time": "2022-03-03T12:50:11.047Z"
   },
   {
    "duration": 1417,
    "start_time": "2022-03-03T12:50:11.995Z"
   },
   {
    "duration": 96,
    "start_time": "2022-03-03T12:50:13.414Z"
   },
   {
    "duration": 191,
    "start_time": "2022-03-03T12:50:13.512Z"
   },
   {
    "duration": 13,
    "start_time": "2022-03-03T12:50:13.705Z"
   },
   {
    "duration": 360,
    "start_time": "2022-03-03T12:50:13.719Z"
   },
   {
    "duration": 349,
    "start_time": "2022-03-03T12:50:14.081Z"
   },
   {
    "duration": 1122,
    "start_time": "2022-03-03T12:50:14.432Z"
   },
   {
    "duration": 4264,
    "start_time": "2022-03-03T12:50:15.556Z"
   },
   {
    "duration": 271,
    "start_time": "2022-03-03T12:50:19.822Z"
   },
   {
    "duration": 159,
    "start_time": "2022-03-03T12:50:20.095Z"
   },
   {
    "duration": 11,
    "start_time": "2022-03-03T12:50:20.255Z"
   },
   {
    "duration": 6,
    "start_time": "2022-03-03T12:50:20.267Z"
   },
   {
    "duration": 1282,
    "start_time": "2022-03-03T12:51:28.453Z"
   },
   {
    "duration": 307,
    "start_time": "2022-03-03T12:53:06.897Z"
   },
   {
    "duration": 326,
    "start_time": "2022-03-03T12:53:44.275Z"
   },
   {
    "duration": 282,
    "start_time": "2022-03-03T12:54:00.948Z"
   },
   {
    "duration": 690,
    "start_time": "2022-03-03T12:56:12.621Z"
   },
   {
    "duration": 429,
    "start_time": "2022-03-03T12:56:46.966Z"
   },
   {
    "duration": 393,
    "start_time": "2022-03-03T12:57:40.819Z"
   },
   {
    "duration": 458,
    "start_time": "2022-03-03T12:57:59.963Z"
   },
   {
    "duration": 593,
    "start_time": "2022-03-03T12:59:50.684Z"
   },
   {
    "duration": 458,
    "start_time": "2022-03-03T13:00:07.713Z"
   },
   {
    "duration": 449,
    "start_time": "2022-03-03T13:00:28.952Z"
   },
   {
    "duration": 451,
    "start_time": "2022-03-03T13:01:17.128Z"
   },
   {
    "duration": 460,
    "start_time": "2022-03-03T13:01:50.756Z"
   },
   {
    "duration": 1140,
    "start_time": "2022-03-03T13:04:34.929Z"
   },
   {
    "duration": 36,
    "start_time": "2022-03-03T13:04:36.070Z"
   },
   {
    "duration": 14,
    "start_time": "2022-03-03T13:04:36.108Z"
   },
   {
    "duration": 13,
    "start_time": "2022-03-03T13:04:36.123Z"
   },
   {
    "duration": 16,
    "start_time": "2022-03-03T13:04:36.137Z"
   },
   {
    "duration": 3,
    "start_time": "2022-03-03T13:04:36.154Z"
   },
   {
    "duration": 1843,
    "start_time": "2022-03-03T13:04:36.158Z"
   },
   {
    "duration": 1345,
    "start_time": "2022-03-03T13:04:38.004Z"
   },
   {
    "duration": 23,
    "start_time": "2022-03-03T13:04:39.351Z"
   },
   {
    "duration": 3199,
    "start_time": "2022-03-03T13:04:39.375Z"
   },
   {
    "duration": 26,
    "start_time": "2022-03-03T13:04:42.576Z"
   },
   {
    "duration": 837,
    "start_time": "2022-03-03T13:04:42.604Z"
   },
   {
    "duration": 1103,
    "start_time": "2022-03-03T13:04:43.442Z"
   },
   {
    "duration": 8,
    "start_time": "2022-03-03T13:04:44.547Z"
   },
   {
    "duration": 8,
    "start_time": "2022-03-03T13:04:44.556Z"
   },
   {
    "duration": 45,
    "start_time": "2022-03-03T13:04:44.565Z"
   },
   {
    "duration": 467,
    "start_time": "2022-03-03T13:04:44.612Z"
   },
   {
    "duration": 4,
    "start_time": "2022-03-03T13:04:45.081Z"
   },
   {
    "duration": 24,
    "start_time": "2022-03-03T13:04:45.087Z"
   },
   {
    "duration": 7,
    "start_time": "2022-03-03T13:04:45.113Z"
   },
   {
    "duration": 6,
    "start_time": "2022-03-03T13:04:45.122Z"
   },
   {
    "duration": 945,
    "start_time": "2022-03-03T13:04:45.130Z"
   },
   {
    "duration": 1424,
    "start_time": "2022-03-03T13:04:46.078Z"
   },
   {
    "duration": 22,
    "start_time": "2022-03-03T13:04:47.504Z"
   },
   {
    "duration": 202,
    "start_time": "2022-03-03T13:04:47.528Z"
   },
   {
    "duration": 12,
    "start_time": "2022-03-03T13:04:47.732Z"
   },
   {
    "duration": 463,
    "start_time": "2022-03-03T13:04:47.746Z"
   },
   {
    "duration": 4190,
    "start_time": "2022-03-03T13:04:48.211Z"
   },
   {
    "duration": 273,
    "start_time": "2022-03-03T13:04:52.403Z"
   },
   {
    "duration": 160,
    "start_time": "2022-03-03T13:04:52.678Z"
   },
   {
    "duration": 12,
    "start_time": "2022-03-03T13:04:52.840Z"
   },
   {
    "duration": 7,
    "start_time": "2022-03-03T13:04:52.853Z"
   },
   {
    "duration": 1131,
    "start_time": "2022-03-03T17:18:55.130Z"
   },
   {
    "duration": 26,
    "start_time": "2022-03-03T17:18:56.263Z"
   },
   {
    "duration": 12,
    "start_time": "2022-03-03T17:18:56.290Z"
   },
   {
    "duration": 4,
    "start_time": "2022-03-03T17:18:56.304Z"
   },
   {
    "duration": 13,
    "start_time": "2022-03-03T17:18:56.309Z"
   },
   {
    "duration": 2,
    "start_time": "2022-03-03T17:18:56.323Z"
   },
   {
    "duration": 1810,
    "start_time": "2022-03-03T17:18:56.327Z"
   },
   {
    "duration": 1363,
    "start_time": "2022-03-03T17:18:58.138Z"
   },
   {
    "duration": 23,
    "start_time": "2022-03-03T17:18:59.504Z"
   },
   {
    "duration": 3253,
    "start_time": "2022-03-03T17:18:59.529Z"
   },
   {
    "duration": 20,
    "start_time": "2022-03-03T17:19:02.784Z"
   },
   {
    "duration": 830,
    "start_time": "2022-03-03T17:19:02.806Z"
   },
   {
    "duration": 1063,
    "start_time": "2022-03-03T17:19:03.638Z"
   },
   {
    "duration": 6,
    "start_time": "2022-03-03T17:19:04.703Z"
   },
   {
    "duration": 8,
    "start_time": "2022-03-03T17:19:04.710Z"
   },
   {
    "duration": 87,
    "start_time": "2022-03-03T17:19:04.719Z"
   },
   {
    "duration": 395,
    "start_time": "2022-03-03T17:19:04.808Z"
   },
   {
    "duration": 4,
    "start_time": "2022-03-03T17:19:05.205Z"
   },
   {
    "duration": 18,
    "start_time": "2022-03-03T17:19:05.211Z"
   },
   {
    "duration": 8,
    "start_time": "2022-03-03T17:19:05.230Z"
   },
   {
    "duration": 7,
    "start_time": "2022-03-03T17:19:05.239Z"
   },
   {
    "duration": 1011,
    "start_time": "2022-03-03T17:19:05.247Z"
   },
   {
    "duration": 1542,
    "start_time": "2022-03-03T17:19:06.259Z"
   },
   {
    "duration": 25,
    "start_time": "2022-03-03T17:19:07.803Z"
   },
   {
    "duration": 199,
    "start_time": "2022-03-03T17:19:07.830Z"
   },
   {
    "duration": 13,
    "start_time": "2022-03-03T17:19:08.031Z"
   },
   {
    "duration": 476,
    "start_time": "2022-03-03T17:19:08.047Z"
   },
   {
    "duration": 4248,
    "start_time": "2022-03-03T17:19:08.525Z"
   },
   {
    "duration": 1142,
    "start_time": "2022-03-03T17:51:06.225Z"
   },
   {
    "duration": 26,
    "start_time": "2022-03-03T17:51:07.368Z"
   },
   {
    "duration": 13,
    "start_time": "2022-03-03T17:51:07.396Z"
   },
   {
    "duration": 4,
    "start_time": "2022-03-03T17:51:07.410Z"
   },
   {
    "duration": 12,
    "start_time": "2022-03-03T17:51:07.415Z"
   },
   {
    "duration": 2,
    "start_time": "2022-03-03T17:51:07.429Z"
   },
   {
    "duration": 1991,
    "start_time": "2022-03-03T17:51:07.432Z"
   },
   {
    "duration": 1359,
    "start_time": "2022-03-03T17:51:09.424Z"
   },
   {
    "duration": 34,
    "start_time": "2022-03-03T17:51:10.785Z"
   },
   {
    "duration": 3199,
    "start_time": "2022-03-03T17:51:10.821Z"
   },
   {
    "duration": 12,
    "start_time": "2022-03-03T17:51:14.021Z"
   },
   {
    "duration": 852,
    "start_time": "2022-03-03T17:51:14.034Z"
   },
   {
    "duration": 1105,
    "start_time": "2022-03-03T17:51:14.887Z"
   },
   {
    "duration": 11,
    "start_time": "2022-03-03T17:51:15.993Z"
   },
   {
    "duration": 6,
    "start_time": "2022-03-03T17:51:16.005Z"
   },
   {
    "duration": 12,
    "start_time": "2022-03-03T17:51:16.013Z"
   },
   {
    "duration": 465,
    "start_time": "2022-03-03T17:51:16.027Z"
   },
   {
    "duration": 3,
    "start_time": "2022-03-03T17:51:16.494Z"
   },
   {
    "duration": 15,
    "start_time": "2022-03-03T17:51:16.502Z"
   },
   {
    "duration": 7,
    "start_time": "2022-03-03T17:51:16.518Z"
   },
   {
    "duration": 7,
    "start_time": "2022-03-03T17:51:16.527Z"
   },
   {
    "duration": 1066,
    "start_time": "2022-03-03T17:51:16.535Z"
   },
   {
    "duration": 1399,
    "start_time": "2022-03-03T17:51:17.603Z"
   },
   {
    "duration": 23,
    "start_time": "2022-03-03T17:51:19.003Z"
   },
   {
    "duration": 195,
    "start_time": "2022-03-03T17:51:19.028Z"
   },
   {
    "duration": 11,
    "start_time": "2022-03-03T17:51:19.225Z"
   },
   {
    "duration": 475,
    "start_time": "2022-03-03T17:51:19.239Z"
   },
   {
    "duration": 4344,
    "start_time": "2022-03-03T17:51:19.717Z"
   },
   {
    "duration": 1152,
    "start_time": "2022-03-04T16:23:37.310Z"
   },
   {
    "duration": 36,
    "start_time": "2022-03-04T16:23:38.463Z"
   },
   {
    "duration": 13,
    "start_time": "2022-03-04T16:23:38.500Z"
   },
   {
    "duration": 3,
    "start_time": "2022-03-04T16:23:38.515Z"
   },
   {
    "duration": 11,
    "start_time": "2022-03-04T16:23:38.520Z"
   },
   {
    "duration": 2,
    "start_time": "2022-03-04T16:23:38.532Z"
   },
   {
    "duration": 1835,
    "start_time": "2022-03-04T16:23:38.536Z"
   },
   {
    "duration": 1363,
    "start_time": "2022-03-04T16:23:40.373Z"
   },
   {
    "duration": 23,
    "start_time": "2022-03-04T16:23:41.739Z"
   },
   {
    "duration": 3169,
    "start_time": "2022-03-04T16:23:41.765Z"
   },
   {
    "duration": 14,
    "start_time": "2022-03-04T16:23:44.936Z"
   },
   {
    "duration": 845,
    "start_time": "2022-03-04T16:23:44.951Z"
   },
   {
    "duration": 1224,
    "start_time": "2022-03-04T16:23:45.798Z"
   },
   {
    "duration": 6,
    "start_time": "2022-03-04T16:23:47.023Z"
   },
   {
    "duration": 9,
    "start_time": "2022-03-04T16:23:47.031Z"
   },
   {
    "duration": 67,
    "start_time": "2022-03-04T16:23:47.041Z"
   },
   {
    "duration": 385,
    "start_time": "2022-03-04T16:23:47.110Z"
   },
   {
    "duration": 5,
    "start_time": "2022-03-04T16:23:47.497Z"
   },
   {
    "duration": 16,
    "start_time": "2022-03-04T16:23:47.504Z"
   },
   {
    "duration": 7,
    "start_time": "2022-03-04T16:23:47.521Z"
   },
   {
    "duration": 7,
    "start_time": "2022-03-04T16:23:47.529Z"
   },
   {
    "duration": 924,
    "start_time": "2022-03-04T16:23:47.537Z"
   },
   {
    "duration": 1539,
    "start_time": "2022-03-04T16:23:48.463Z"
   },
   {
    "duration": 22,
    "start_time": "2022-03-04T16:23:50.004Z"
   },
   {
    "duration": 196,
    "start_time": "2022-03-04T16:23:50.027Z"
   },
   {
    "duration": 11,
    "start_time": "2022-03-04T16:23:50.225Z"
   },
   {
    "duration": 468,
    "start_time": "2022-03-04T16:23:50.239Z"
   },
   {
    "duration": 4232,
    "start_time": "2022-03-04T16:23:50.709Z"
   },
   {
    "duration": 1143,
    "start_time": "2022-03-04T16:29:14.396Z"
   },
   {
    "duration": 25,
    "start_time": "2022-03-04T16:29:15.541Z"
   },
   {
    "duration": 13,
    "start_time": "2022-03-04T16:29:15.568Z"
   },
   {
    "duration": 3,
    "start_time": "2022-03-04T16:29:15.583Z"
   },
   {
    "duration": 19,
    "start_time": "2022-03-04T16:29:15.587Z"
   },
   {
    "duration": 2,
    "start_time": "2022-03-04T16:29:15.607Z"
   },
   {
    "duration": 1795,
    "start_time": "2022-03-04T16:29:15.611Z"
   },
   {
    "duration": 1377,
    "start_time": "2022-03-04T16:29:17.409Z"
   },
   {
    "duration": 26,
    "start_time": "2022-03-04T16:29:18.787Z"
   },
   {
    "duration": 3429,
    "start_time": "2022-03-04T16:29:18.814Z"
   },
   {
    "duration": 12,
    "start_time": "2022-03-04T16:29:22.245Z"
   },
   {
    "duration": 897,
    "start_time": "2022-03-04T16:29:22.258Z"
   },
   {
    "duration": 1137,
    "start_time": "2022-03-04T16:29:23.157Z"
   },
   {
    "duration": 8,
    "start_time": "2022-03-04T16:29:24.296Z"
   },
   {
    "duration": 7,
    "start_time": "2022-03-04T16:29:24.306Z"
   },
   {
    "duration": 86,
    "start_time": "2022-03-04T16:29:24.315Z"
   },
   {
    "duration": 398,
    "start_time": "2022-03-04T16:29:24.403Z"
   },
   {
    "duration": 3,
    "start_time": "2022-03-04T16:29:24.803Z"
   },
   {
    "duration": 16,
    "start_time": "2022-03-04T16:29:24.808Z"
   },
   {
    "duration": 7,
    "start_time": "2022-03-04T16:29:24.825Z"
   },
   {
    "duration": 7,
    "start_time": "2022-03-04T16:29:24.834Z"
   },
   {
    "duration": 1030,
    "start_time": "2022-03-04T16:29:24.842Z"
   },
   {
    "duration": 1430,
    "start_time": "2022-03-04T16:29:25.875Z"
   },
   {
    "duration": 22,
    "start_time": "2022-03-04T16:29:27.306Z"
   },
   {
    "duration": 203,
    "start_time": "2022-03-04T16:29:27.329Z"
   },
   {
    "duration": 12,
    "start_time": "2022-03-04T16:29:27.534Z"
   },
   {
    "duration": 505,
    "start_time": "2022-03-04T16:29:27.547Z"
   },
   {
    "duration": 4608,
    "start_time": "2022-03-04T16:29:28.054Z"
   },
   {
    "duration": 128,
    "start_time": "2022-03-04T19:04:31.628Z"
   },
   {
    "duration": 79,
    "start_time": "2022-03-04T19:05:03.568Z"
   },
   {
    "duration": 1562,
    "start_time": "2022-03-04T19:05:03.985Z"
   },
   {
    "duration": 32,
    "start_time": "2022-03-04T19:05:05.550Z"
   },
   {
    "duration": 22,
    "start_time": "2022-03-04T19:05:05.586Z"
   },
   {
    "duration": 13,
    "start_time": "2022-03-04T19:05:05.612Z"
   },
   {
    "duration": 55,
    "start_time": "2022-03-04T19:05:05.627Z"
   },
   {
    "duration": 24,
    "start_time": "2022-03-04T19:05:05.685Z"
   },
   {
    "duration": 2714,
    "start_time": "2022-03-04T19:05:05.712Z"
   },
   {
    "duration": 2426,
    "start_time": "2022-03-04T19:05:08.431Z"
   },
   {
    "duration": 54,
    "start_time": "2022-03-04T19:05:10.861Z"
   },
   {
    "duration": 5657,
    "start_time": "2022-03-04T19:05:10.917Z"
   },
   {
    "duration": 22,
    "start_time": "2022-03-04T19:05:16.581Z"
   },
   {
    "duration": 1474,
    "start_time": "2022-03-04T19:05:16.606Z"
   },
   {
    "duration": 1732,
    "start_time": "2022-03-04T19:05:18.082Z"
   },
   {
    "duration": 11,
    "start_time": "2022-03-04T19:05:19.817Z"
   },
   {
    "duration": 9,
    "start_time": "2022-03-04T19:05:19.830Z"
   },
   {
    "duration": 64,
    "start_time": "2022-03-04T19:05:19.842Z"
   },
   {
    "duration": 570,
    "start_time": "2022-03-04T19:05:19.985Z"
   },
   {
    "duration": 5,
    "start_time": "2022-03-04T19:05:20.557Z"
   },
   {
    "duration": 38,
    "start_time": "2022-03-04T19:05:20.565Z"
   },
   {
    "duration": 12,
    "start_time": "2022-03-04T19:05:20.606Z"
   },
   {
    "duration": 12,
    "start_time": "2022-03-04T19:05:20.620Z"
   },
   {
    "duration": 1428,
    "start_time": "2022-03-04T19:05:20.634Z"
   },
   {
    "duration": 1929,
    "start_time": "2022-03-04T19:05:22.067Z"
   },
   {
    "duration": 35,
    "start_time": "2022-03-04T19:05:24.000Z"
   },
   {
    "duration": 345,
    "start_time": "2022-03-04T19:05:24.083Z"
   },
   {
    "duration": 19,
    "start_time": "2022-03-04T19:05:24.431Z"
   },
   {
    "duration": 861,
    "start_time": "2022-03-04T19:05:24.453Z"
   },
   {
    "duration": 7731,
    "start_time": "2022-03-04T19:05:25.316Z"
   },
   {
    "duration": 79,
    "start_time": "2022-03-04T19:41:15.704Z"
   },
   {
    "duration": 3249,
    "start_time": "2022-03-04T19:41:58.239Z"
   },
   {
    "duration": 2118,
    "start_time": "2022-03-04T19:42:41.038Z"
   },
   {
    "duration": 2162,
    "start_time": "2022-03-04T19:43:28.001Z"
   },
   {
    "duration": 2019,
    "start_time": "2022-03-04T19:45:03.920Z"
   },
   {
    "duration": 4605,
    "start_time": "2022-03-04T19:45:37.009Z"
   },
   {
    "duration": 5246,
    "start_time": "2022-03-04T19:46:06.557Z"
   },
   {
    "duration": 5357,
    "start_time": "2022-03-04T19:47:02.109Z"
   },
   {
    "duration": 5027,
    "start_time": "2022-03-04T19:47:32.929Z"
   },
   {
    "duration": 6702,
    "start_time": "2022-03-04T19:48:42.416Z"
   },
   {
    "duration": 5032,
    "start_time": "2022-03-04T19:49:03.541Z"
   },
   {
    "duration": 2399,
    "start_time": "2022-03-04T19:50:13.797Z"
   },
   {
    "duration": 2352,
    "start_time": "2022-03-04T19:51:53.656Z"
   },
   {
    "duration": 2295,
    "start_time": "2022-03-04T19:53:12.504Z"
   },
   {
    "duration": 5168,
    "start_time": "2022-03-04T19:53:42.657Z"
   },
   {
    "duration": 2365,
    "start_time": "2022-03-04T19:55:07.105Z"
   },
   {
    "duration": 89,
    "start_time": "2022-03-04T19:55:59.737Z"
   },
   {
    "duration": 2298,
    "start_time": "2022-03-04T19:56:28.896Z"
   },
   {
    "duration": 2592,
    "start_time": "2022-03-04T20:04:28.371Z"
   },
   {
    "duration": 2532,
    "start_time": "2022-03-04T20:05:13.600Z"
   },
   {
    "duration": 2387,
    "start_time": "2022-03-04T20:05:35.895Z"
   },
   {
    "duration": 2795,
    "start_time": "2022-03-04T20:06:30.211Z"
   },
   {
    "duration": 2273,
    "start_time": "2022-03-04T20:06:42.851Z"
   },
   {
    "duration": 2854,
    "start_time": "2022-03-04T20:07:17.219Z"
   },
   {
    "duration": 2431,
    "start_time": "2022-03-04T20:07:37.866Z"
   },
   {
    "duration": 2258,
    "start_time": "2022-03-04T20:08:32.932Z"
   },
   {
    "duration": 2365,
    "start_time": "2022-03-04T20:08:57.648Z"
   },
   {
    "duration": 2632,
    "start_time": "2022-03-04T20:14:13.200Z"
   },
   {
    "duration": 2715,
    "start_time": "2022-03-04T20:14:51.744Z"
   },
   {
    "duration": 2241,
    "start_time": "2022-03-04T20:15:12.208Z"
   },
   {
    "duration": 2150,
    "start_time": "2022-03-04T20:20:58.947Z"
   },
   {
    "duration": 2594,
    "start_time": "2022-03-04T20:24:47.382Z"
   },
   {
    "duration": 2833,
    "start_time": "2022-03-04T20:26:37.664Z"
   },
   {
    "duration": 2903,
    "start_time": "2022-03-04T20:32:39.812Z"
   },
   {
    "duration": 2902,
    "start_time": "2022-03-04T20:32:58.944Z"
   },
   {
    "duration": 2509,
    "start_time": "2022-03-04T20:33:31.360Z"
   },
   {
    "duration": 1734,
    "start_time": "2022-03-04T20:34:35.526Z"
   },
   {
    "duration": 37,
    "start_time": "2022-03-04T20:34:37.263Z"
   },
   {
    "duration": 22,
    "start_time": "2022-03-04T20:34:37.304Z"
   },
   {
    "duration": 13,
    "start_time": "2022-03-04T20:34:37.330Z"
   },
   {
    "duration": 42,
    "start_time": "2022-03-04T20:34:37.345Z"
   },
   {
    "duration": 5,
    "start_time": "2022-03-04T20:34:37.392Z"
   },
   {
    "duration": 2753,
    "start_time": "2022-03-04T20:34:37.400Z"
   },
   {
    "duration": 2659,
    "start_time": "2022-03-04T20:34:40.158Z"
   },
   {
    "duration": 39,
    "start_time": "2022-03-04T20:34:42.820Z"
   },
   {
    "duration": 5967,
    "start_time": "2022-03-04T20:34:42.861Z"
   },
   {
    "duration": 22,
    "start_time": "2022-03-04T20:34:48.831Z"
   },
   {
    "duration": 1730,
    "start_time": "2022-03-04T20:34:48.856Z"
   },
   {
    "duration": 1860,
    "start_time": "2022-03-04T20:34:50.589Z"
   },
   {
    "duration": 9,
    "start_time": "2022-03-04T20:34:52.452Z"
   },
   {
    "duration": 26,
    "start_time": "2022-03-04T20:34:52.463Z"
   },
   {
    "duration": 96,
    "start_time": "2022-03-04T20:34:52.493Z"
   },
   {
    "duration": 590,
    "start_time": "2022-03-04T20:34:52.592Z"
   },
   {
    "duration": 6,
    "start_time": "2022-03-04T20:34:53.185Z"
   },
   {
    "duration": 38,
    "start_time": "2022-03-04T20:34:53.193Z"
   },
   {
    "duration": 13,
    "start_time": "2022-03-04T20:34:53.234Z"
   },
   {
    "duration": 42,
    "start_time": "2022-03-04T20:34:53.250Z"
   },
   {
    "duration": 1511,
    "start_time": "2022-03-04T20:34:53.295Z"
   },
   {
    "duration": 1672,
    "start_time": "2022-03-04T20:34:54.812Z"
   },
   {
    "duration": 38,
    "start_time": "2022-03-04T20:34:56.488Z"
   },
   {
    "duration": 365,
    "start_time": "2022-03-04T20:34:56.528Z"
   },
   {
    "duration": 21,
    "start_time": "2022-03-04T20:34:56.898Z"
   },
   {
    "duration": 875,
    "start_time": "2022-03-04T20:34:56.922Z"
   },
   {
    "duration": 2464,
    "start_time": "2022-03-04T20:34:57.800Z"
   },
   {
    "duration": 2630,
    "start_time": "2022-03-04T20:35:00.268Z"
   }
  ],
  "kernelspec": {
   "display_name": "Python 3",
   "language": "python",
   "name": "python3"
  },
  "language_info": {
   "codemirror_mode": {
    "name": "ipython",
    "version": 3
   },
   "file_extension": ".py",
   "mimetype": "text/x-python",
   "name": "python",
   "nbconvert_exporter": "python",
   "pygments_lexer": "ipython3",
   "version": "3.7.8"
  },
  "toc": {
   "base_numbering": 1,
   "nav_menu": {},
   "number_sections": true,
   "sideBar": true,
   "skip_h1_title": true,
   "title_cell": "Table of Contents",
   "title_sidebar": "Contents",
   "toc_cell": false,
   "toc_position": {},
   "toc_section_display": true,
   "toc_window_display": false
  }
 },
 "nbformat": 4,
 "nbformat_minor": 2
}
